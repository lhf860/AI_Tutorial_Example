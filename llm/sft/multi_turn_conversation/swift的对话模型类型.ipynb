{
 "cells": [
  {
   "cell_type": "code",
   "execution_count": 1,
   "id": "e08c2cec-d1fc-49cf-8a68-0d7c92642c20",
   "metadata": {
    "execution": {
     "iopub.execute_input": "2024-11-03T04:11:34.204479Z",
     "iopub.status.busy": "2024-11-03T04:11:34.203851Z",
     "iopub.status.idle": "2024-11-03T04:11:34.209961Z",
     "shell.execute_reply": "2024-11-03T04:11:34.208795Z",
     "shell.execute_reply.started": "2024-11-03T04:11:34.204446Z"
    }
   },
   "outputs": [],
   "source": [
    "\n",
    "\n",
    "from swift.llm import TemplateType"
   ]
  },
  {
   "cell_type": "code",
   "execution_count": 3,
   "id": "53431cda-c015-4cb7-a1c0-139f09ef4833",
   "metadata": {
    "execution": {
     "iopub.execute_input": "2024-11-03T04:11:48.847777Z",
     "iopub.status.busy": "2024-11-03T04:11:48.846713Z",
     "iopub.status.idle": "2024-11-03T04:11:48.979026Z",
     "shell.execute_reply": "2024-11-03T04:11:48.977683Z",
     "shell.execute_reply.started": "2024-11-03T04:11:48.847703Z"
    },
    "scrolled": true
   },
   "outputs": [
    {
     "data": {
      "text/plain": [
       "\u001b[0;31mInit signature:\u001b[0m \u001b[0mTemplateType\u001b[0m\u001b[0;34m(\u001b[0m\u001b[0;34m)\u001b[0m\u001b[0;34m\u001b[0m\u001b[0;34m\u001b[0m\u001b[0m\n",
       "\u001b[0;31mDocstring:\u001b[0m      <no docstring>\n",
       "\u001b[0;31mSource:\u001b[0m        \n",
       "\u001b[0;32mclass\u001b[0m \u001b[0mTemplateType\u001b[0m\u001b[0;34m:\u001b[0m\u001b[0;34m\u001b[0m\n",
       "\u001b[0;34m\u001b[0m    \u001b[0;31m# text-generation\u001b[0m\u001b[0;34m\u001b[0m\n",
       "\u001b[0;34m\u001b[0m    \u001b[0mdefault_generation\u001b[0m \u001b[0;34m=\u001b[0m \u001b[0;34m'default-generation'\u001b[0m\u001b[0;34m\u001b[0m\n",
       "\u001b[0;34m\u001b[0m    \u001b[0mchatglm_generation\u001b[0m \u001b[0;34m=\u001b[0m \u001b[0;34m'chatglm-generation'\u001b[0m\u001b[0;34m\u001b[0m\n",
       "\u001b[0;34m\u001b[0m    \u001b[0mqwen_vl_generation\u001b[0m \u001b[0;34m=\u001b[0m \u001b[0;34m'qwen-vl-generation'\u001b[0m\u001b[0;34m\u001b[0m\n",
       "\u001b[0;34m\u001b[0m    \u001b[0mqwen_audio_generation\u001b[0m \u001b[0;34m=\u001b[0m \u001b[0;34m'qwen-audio-generation'\u001b[0m\u001b[0;34m\u001b[0m\n",
       "\u001b[0;34m\u001b[0m    \u001b[0;31m# chat\u001b[0m\u001b[0;34m\u001b[0m\n",
       "\u001b[0;34m\u001b[0m    \u001b[0mdefault\u001b[0m \u001b[0;34m=\u001b[0m \u001b[0;34m'default'\u001b[0m\u001b[0;34m\u001b[0m\n",
       "\u001b[0;34m\u001b[0m    \u001b[0mqwen\u001b[0m \u001b[0;34m=\u001b[0m \u001b[0;34m'qwen'\u001b[0m\u001b[0;34m\u001b[0m\n",
       "\u001b[0;34m\u001b[0m    \u001b[0mqwen2_5\u001b[0m \u001b[0;34m=\u001b[0m \u001b[0;34m'qwen2_5'\u001b[0m\u001b[0;34m\u001b[0m\n",
       "\u001b[0;34m\u001b[0m    \u001b[0mqwen_vl\u001b[0m \u001b[0;34m=\u001b[0m \u001b[0;34m'qwen-vl'\u001b[0m\u001b[0;34m\u001b[0m\n",
       "\u001b[0;34m\u001b[0m    \u001b[0mqwen_audio\u001b[0m \u001b[0;34m=\u001b[0m \u001b[0;34m'qwen-audio'\u001b[0m\u001b[0;34m\u001b[0m\n",
       "\u001b[0;34m\u001b[0m    \u001b[0mqwen2_audio\u001b[0m \u001b[0;34m=\u001b[0m \u001b[0;34m'qwen2-audio'\u001b[0m\u001b[0;34m\u001b[0m\n",
       "\u001b[0;34m\u001b[0m    \u001b[0mqwen2_audio_generation\u001b[0m \u001b[0;34m=\u001b[0m \u001b[0;34m'qwen2-audio-generation'\u001b[0m\u001b[0;34m\u001b[0m\n",
       "\u001b[0;34m\u001b[0m    \u001b[0mqwen2_vl\u001b[0m \u001b[0;34m=\u001b[0m \u001b[0;34m'qwen2-vl'\u001b[0m\u001b[0;34m\u001b[0m\n",
       "\u001b[0;34m\u001b[0m    \u001b[0mqwen2_vl_generation\u001b[0m \u001b[0;34m=\u001b[0m \u001b[0;34m'qwen2-vl-generation'\u001b[0m\u001b[0;34m\u001b[0m\n",
       "\u001b[0;34m\u001b[0m    \u001b[0mmodelscope_agent\u001b[0m \u001b[0;34m=\u001b[0m \u001b[0;34m'modelscope-agent'\u001b[0m\u001b[0;34m\u001b[0m\n",
       "\u001b[0;34m\u001b[0m    \u001b[0mbaichuan\u001b[0m \u001b[0;34m=\u001b[0m \u001b[0;34m'baichuan'\u001b[0m\u001b[0;34m\u001b[0m\n",
       "\u001b[0;34m\u001b[0m    \u001b[0mchatglm2\u001b[0m \u001b[0;34m=\u001b[0m \u001b[0;34m'chatglm2'\u001b[0m\u001b[0;34m\u001b[0m\n",
       "\u001b[0;34m\u001b[0m    \u001b[0mchatglm3\u001b[0m \u001b[0;34m=\u001b[0m \u001b[0;34m'chatglm3'\u001b[0m\u001b[0;34m\u001b[0m\n",
       "\u001b[0;34m\u001b[0m    \u001b[0mchatglm4\u001b[0m \u001b[0;34m=\u001b[0m \u001b[0;34m'chatglm4'\u001b[0m\u001b[0;34m\u001b[0m\n",
       "\u001b[0;34m\u001b[0m    \u001b[0mcodegeex4\u001b[0m \u001b[0;34m=\u001b[0m \u001b[0;34m'codegeex4'\u001b[0m\u001b[0;34m\u001b[0m\n",
       "\u001b[0;34m\u001b[0m    \u001b[0mllama\u001b[0m \u001b[0;34m=\u001b[0m \u001b[0;34m'llama'\u001b[0m  \u001b[0;31m# llama2\u001b[0m\u001b[0;34m\u001b[0m\n",
       "\u001b[0;34m\u001b[0m    \u001b[0mllama3\u001b[0m \u001b[0;34m=\u001b[0m \u001b[0;34m'llama3'\u001b[0m\u001b[0;34m\u001b[0m\n",
       "\u001b[0;34m\u001b[0m    \u001b[0mllama3_1_omni\u001b[0m \u001b[0;34m=\u001b[0m \u001b[0;34m'llama3_1-omni'\u001b[0m\u001b[0;34m\u001b[0m\n",
       "\u001b[0;34m\u001b[0m    \u001b[0mllama3_2\u001b[0m \u001b[0;34m=\u001b[0m \u001b[0;34m'llama3_2'\u001b[0m\u001b[0;34m\u001b[0m\n",
       "\u001b[0;34m\u001b[0m    \u001b[0mllama3_2_vision\u001b[0m \u001b[0;34m=\u001b[0m \u001b[0;34m'llama3_2-vision'\u001b[0m\u001b[0;34m\u001b[0m\n",
       "\u001b[0;34m\u001b[0m    \u001b[0mllama3_2_vision_generation\u001b[0m \u001b[0;34m=\u001b[0m \u001b[0;34m'llama3_2-vision-generation'\u001b[0m\u001b[0;34m\u001b[0m\n",
       "\u001b[0;34m\u001b[0m    \u001b[0mreflection\u001b[0m \u001b[0;34m=\u001b[0m \u001b[0;34m'reflection'\u001b[0m\u001b[0;34m\u001b[0m\n",
       "\u001b[0;34m\u001b[0m    \u001b[0mlongwriter_llama3\u001b[0m \u001b[0;34m=\u001b[0m \u001b[0;34m'longwriter-llama3'\u001b[0m\u001b[0;34m\u001b[0m\n",
       "\u001b[0;34m\u001b[0m    \u001b[0;31m# llava-hf\u001b[0m\u001b[0;34m\u001b[0m\n",
       "\u001b[0;34m\u001b[0m    \u001b[0mllava1_5\u001b[0m \u001b[0;34m=\u001b[0m \u001b[0;34m'llava1_5'\u001b[0m\u001b[0;34m\u001b[0m\n",
       "\u001b[0;34m\u001b[0m    \u001b[0mllava_mistral\u001b[0m \u001b[0;34m=\u001b[0m \u001b[0;34m'llava-mistral'\u001b[0m\u001b[0;34m\u001b[0m\n",
       "\u001b[0;34m\u001b[0m    \u001b[0mllava_vicuna\u001b[0m \u001b[0;34m=\u001b[0m \u001b[0;34m'llava-vicuna'\u001b[0m\u001b[0;34m\u001b[0m\n",
       "\u001b[0;34m\u001b[0m    \u001b[0mllava_yi\u001b[0m \u001b[0;34m=\u001b[0m \u001b[0;34m'llava-yi'\u001b[0m\u001b[0;34m\u001b[0m\n",
       "\u001b[0;34m\u001b[0m    \u001b[0mllama3_llava_next_hf\u001b[0m \u001b[0;34m=\u001b[0m \u001b[0;34m'llama-llava-next-hf'\u001b[0m\u001b[0;34m\u001b[0m\n",
       "\u001b[0;34m\u001b[0m    \u001b[0mllava_next_llama3\u001b[0m \u001b[0;34m=\u001b[0m \u001b[0;34m'llava-next-llama3'\u001b[0m\u001b[0;34m\u001b[0m\n",
       "\u001b[0;34m\u001b[0m    \u001b[0mllava_qwen_hf\u001b[0m \u001b[0;34m=\u001b[0m \u001b[0;34m'llama-qwen-hf'\u001b[0m\u001b[0;34m\u001b[0m\n",
       "\u001b[0;34m\u001b[0m    \u001b[0mllava_onevision_qwen\u001b[0m \u001b[0;34m=\u001b[0m \u001b[0;34m'llava-onevision-qwen'\u001b[0m\u001b[0;34m\u001b[0m\n",
       "\u001b[0;34m\u001b[0m    \u001b[0;31m# llava-video\u001b[0m\u001b[0;34m\u001b[0m\n",
       "\u001b[0;34m\u001b[0m    \u001b[0mllava_next_video\u001b[0m \u001b[0;34m=\u001b[0m \u001b[0;34m'llava-next-video'\u001b[0m\u001b[0;34m\u001b[0m\n",
       "\u001b[0;34m\u001b[0m    \u001b[0mllava_next_video_yi\u001b[0m \u001b[0;34m=\u001b[0m \u001b[0;34m'llava-next-video-yi'\u001b[0m\u001b[0;34m\u001b[0m\n",
       "\u001b[0;34m\u001b[0m    \u001b[0;31m# lmms-lab:llava\u001b[0m\u001b[0;34m\u001b[0m\n",
       "\u001b[0;34m\u001b[0m    \u001b[0mllama3_llava_next\u001b[0m \u001b[0;34m=\u001b[0m \u001b[0;34m'llama3-llava-next'\u001b[0m\u001b[0;34m\u001b[0m\n",
       "\u001b[0;34m\u001b[0m    \u001b[0mllava_qwen\u001b[0m \u001b[0;34m=\u001b[0m \u001b[0;34m'llava-qwen'\u001b[0m\u001b[0;34m\u001b[0m\n",
       "\u001b[0;34m\u001b[0m    \u001b[0;31m# xtuner:llava\u001b[0m\u001b[0;34m\u001b[0m\n",
       "\u001b[0;34m\u001b[0m    \u001b[0mllava_llama_instruct\u001b[0m \u001b[0;34m=\u001b[0m \u001b[0;34m'llava-llama-instruct'\u001b[0m\u001b[0;34m\u001b[0m\n",
       "\u001b[0;34m\u001b[0m\u001b[0;34m\u001b[0m\n",
       "\u001b[0;34m\u001b[0m    \u001b[0midefics3\u001b[0m \u001b[0;34m=\u001b[0m \u001b[0;34m'idefics3'\u001b[0m\u001b[0;34m\u001b[0m\n",
       "\u001b[0;34m\u001b[0m    \u001b[0mmistral_nemo\u001b[0m \u001b[0;34m=\u001b[0m \u001b[0;34m'mistral-nemo'\u001b[0m\u001b[0;34m\u001b[0m\n",
       "\u001b[0;34m\u001b[0m    \u001b[0mpixtral\u001b[0m \u001b[0;34m=\u001b[0m \u001b[0;34m'pixtral'\u001b[0m\u001b[0;34m\u001b[0m\n",
       "\u001b[0;34m\u001b[0m    \u001b[0mopenbuddy\u001b[0m \u001b[0;34m=\u001b[0m \u001b[0;34m'openbuddy'\u001b[0m\u001b[0;34m\u001b[0m\n",
       "\u001b[0;34m\u001b[0m    \u001b[0mopenbuddy2\u001b[0m \u001b[0;34m=\u001b[0m \u001b[0;34m'openbuddy2'\u001b[0m\u001b[0;34m\u001b[0m\n",
       "\u001b[0;34m\u001b[0m    \u001b[0minternlm\u001b[0m \u001b[0;34m=\u001b[0m \u001b[0;34m'internlm'\u001b[0m\u001b[0;34m\u001b[0m\n",
       "\u001b[0;34m\u001b[0m    \u001b[0minternlm2\u001b[0m \u001b[0;34m=\u001b[0m \u001b[0;34m'internlm2'\u001b[0m\u001b[0;34m\u001b[0m\n",
       "\u001b[0;34m\u001b[0m    \u001b[0minternlm_xcomposer2\u001b[0m \u001b[0;34m=\u001b[0m \u001b[0;34m'internlm-xcomposer2'\u001b[0m\u001b[0;34m\u001b[0m\n",
       "\u001b[0;34m\u001b[0m    \u001b[0minternlm_xcomposer2_4khd\u001b[0m \u001b[0;34m=\u001b[0m \u001b[0;34m'internlm-xcomposer2-4khd'\u001b[0m\u001b[0;34m\u001b[0m\n",
       "\u001b[0;34m\u001b[0m    \u001b[0minternlm_xcomposer2_5\u001b[0m \u001b[0;34m=\u001b[0m \u001b[0;34m'internlm-xcomposer2_5'\u001b[0m\u001b[0;34m\u001b[0m\n",
       "\u001b[0;34m\u001b[0m    \u001b[0minternvl\u001b[0m \u001b[0;34m=\u001b[0m \u001b[0;34m'internvl'\u001b[0m\u001b[0;34m\u001b[0m\n",
       "\u001b[0;34m\u001b[0m    \u001b[0minternvl2\u001b[0m \u001b[0;34m=\u001b[0m \u001b[0;34m'internvl2'\u001b[0m\u001b[0;34m\u001b[0m\n",
       "\u001b[0;34m\u001b[0m    \u001b[0minternvl_phi3\u001b[0m \u001b[0;34m=\u001b[0m \u001b[0;34m'internvl-phi3'\u001b[0m\u001b[0;34m\u001b[0m\n",
       "\u001b[0;34m\u001b[0m    \u001b[0minternvl2_phi3\u001b[0m \u001b[0;34m=\u001b[0m \u001b[0;34m'internvl2-phi3'\u001b[0m\u001b[0;34m\u001b[0m\n",
       "\u001b[0;34m\u001b[0m    \u001b[0mflorence\u001b[0m \u001b[0;34m=\u001b[0m \u001b[0;34m'florence'\u001b[0m\u001b[0;34m\u001b[0m\n",
       "\u001b[0;34m\u001b[0m    \u001b[0myi_coder\u001b[0m \u001b[0;34m=\u001b[0m \u001b[0;34m'yi-coder'\u001b[0m\u001b[0;34m\u001b[0m\n",
       "\u001b[0;34m\u001b[0m    \u001b[0myi_vl\u001b[0m \u001b[0;34m=\u001b[0m \u001b[0;34m'yi-vl'\u001b[0m\u001b[0;34m\u001b[0m\n",
       "\u001b[0;34m\u001b[0m    \u001b[0myuan\u001b[0m \u001b[0;34m=\u001b[0m \u001b[0;34m'yuan'\u001b[0m\u001b[0;34m\u001b[0m\n",
       "\u001b[0;34m\u001b[0m    \u001b[0mxverse\u001b[0m \u001b[0;34m=\u001b[0m \u001b[0;34m'xverse'\u001b[0m\u001b[0;34m\u001b[0m\n",
       "\u001b[0;34m\u001b[0m    \u001b[0mziya\u001b[0m \u001b[0;34m=\u001b[0m \u001b[0;34m'ziya'\u001b[0m\u001b[0;34m\u001b[0m\n",
       "\u001b[0;34m\u001b[0m    \u001b[0mskywork\u001b[0m \u001b[0;34m=\u001b[0m \u001b[0;34m'skywork'\u001b[0m\u001b[0;34m\u001b[0m\n",
       "\u001b[0;34m\u001b[0m    \u001b[0mbluelm\u001b[0m \u001b[0;34m=\u001b[0m \u001b[0;34m'bluelm'\u001b[0m\u001b[0;34m\u001b[0m\n",
       "\u001b[0;34m\u001b[0m    \u001b[0mzephyr\u001b[0m \u001b[0;34m=\u001b[0m \u001b[0;34m'zephyr'\u001b[0m\u001b[0;34m\u001b[0m\n",
       "\u001b[0;34m\u001b[0m    \u001b[0msus\u001b[0m \u001b[0;34m=\u001b[0m \u001b[0;34m'sus'\u001b[0m\u001b[0;34m\u001b[0m\n",
       "\u001b[0;34m\u001b[0m    \u001b[0mdeepseek\u001b[0m \u001b[0;34m=\u001b[0m \u001b[0;34m'deepseek'\u001b[0m\u001b[0;34m\u001b[0m\n",
       "\u001b[0;34m\u001b[0m    \u001b[0mnumina_math\u001b[0m \u001b[0;34m=\u001b[0m \u001b[0;34m'numina-math'\u001b[0m\u001b[0;34m\u001b[0m\n",
       "\u001b[0;34m\u001b[0m    \u001b[0mdeepseek_coder\u001b[0m \u001b[0;34m=\u001b[0m \u001b[0;34m'deepseek-coder'\u001b[0m\u001b[0;34m\u001b[0m\n",
       "\u001b[0;34m\u001b[0m    \u001b[0mdeepseek_vl\u001b[0m \u001b[0;34m=\u001b[0m \u001b[0;34m'deepseek-vl'\u001b[0m\u001b[0;34m\u001b[0m\n",
       "\u001b[0;34m\u001b[0m    \u001b[0mdeepseek2\u001b[0m \u001b[0;34m=\u001b[0m \u001b[0;34m'deepseek2'\u001b[0m\u001b[0;34m\u001b[0m\n",
       "\u001b[0;34m\u001b[0m    \u001b[0mdeepseek2_5\u001b[0m \u001b[0;34m=\u001b[0m \u001b[0;34m'deepseek2_5'\u001b[0m\u001b[0;34m\u001b[0m\n",
       "\u001b[0;34m\u001b[0m    \u001b[0mcodefuse_codellama\u001b[0m \u001b[0;34m=\u001b[0m \u001b[0;34m'codefuse-codellama'\u001b[0m\u001b[0;34m\u001b[0m\n",
       "\u001b[0;34m\u001b[0m    \u001b[0mcodefuse\u001b[0m \u001b[0;34m=\u001b[0m \u001b[0;34m'codefuse'\u001b[0m\u001b[0;34m\u001b[0m\n",
       "\u001b[0;34m\u001b[0m    \u001b[0mcogvlm\u001b[0m \u001b[0;34m=\u001b[0m \u001b[0;34m'cogvlm'\u001b[0m\u001b[0;34m\u001b[0m\n",
       "\u001b[0;34m\u001b[0m    \u001b[0mcogvlm2_video\u001b[0m \u001b[0;34m=\u001b[0m \u001b[0;34m'cogvlm2-video'\u001b[0m\u001b[0;34m\u001b[0m\n",
       "\u001b[0;34m\u001b[0m    \u001b[0mglm4v\u001b[0m \u001b[0;34m=\u001b[0m \u001b[0;34m'glm4v'\u001b[0m\u001b[0;34m\u001b[0m\n",
       "\u001b[0;34m\u001b[0m    \u001b[0mcogagent_chat\u001b[0m \u001b[0;34m=\u001b[0m \u001b[0;34m'cogagent-chat'\u001b[0m\u001b[0;34m\u001b[0m\n",
       "\u001b[0;34m\u001b[0m    \u001b[0mcogagent_instruct\u001b[0m \u001b[0;34m=\u001b[0m \u001b[0;34m'cogagent-instruct'\u001b[0m\u001b[0;34m\u001b[0m\n",
       "\u001b[0;34m\u001b[0m    \u001b[0morion\u001b[0m \u001b[0;34m=\u001b[0m \u001b[0;34m'orion'\u001b[0m\u001b[0;34m\u001b[0m\n",
       "\u001b[0;34m\u001b[0m    \u001b[0mminicpm\u001b[0m \u001b[0;34m=\u001b[0m \u001b[0;34m'minicpm'\u001b[0m\u001b[0;34m\u001b[0m\n",
       "\u001b[0;34m\u001b[0m    \u001b[0mminicpm_v\u001b[0m \u001b[0;34m=\u001b[0m \u001b[0;34m'minicpm-v'\u001b[0m\u001b[0;34m\u001b[0m\n",
       "\u001b[0;34m\u001b[0m    \u001b[0mminicpm_v_v2_5\u001b[0m \u001b[0;34m=\u001b[0m \u001b[0;34m'minicpm-v-v2_5'\u001b[0m\u001b[0;34m\u001b[0m\n",
       "\u001b[0;34m\u001b[0m    \u001b[0mminicpm_v_v2_6\u001b[0m \u001b[0;34m=\u001b[0m \u001b[0;34m'minicpm-v-v2_6'\u001b[0m\u001b[0;34m\u001b[0m\n",
       "\u001b[0;34m\u001b[0m    \u001b[0mgemma\u001b[0m \u001b[0;34m=\u001b[0m \u001b[0;34m'gemma'\u001b[0m\u001b[0;34m\u001b[0m\n",
       "\u001b[0;34m\u001b[0m    \u001b[0mpaligemma\u001b[0m \u001b[0;34m=\u001b[0m \u001b[0;34m'paligemma'\u001b[0m\u001b[0;34m\u001b[0m\n",
       "\u001b[0;34m\u001b[0m    \u001b[0mmplug_owl2\u001b[0m \u001b[0;34m=\u001b[0m \u001b[0;34m'mplug-owl2'\u001b[0m\u001b[0;34m\u001b[0m\n",
       "\u001b[0;34m\u001b[0m    \u001b[0mmplug_owl3\u001b[0m \u001b[0;34m=\u001b[0m \u001b[0;34m'mplug_owl3'\u001b[0m\u001b[0;34m\u001b[0m\n",
       "\u001b[0;34m\u001b[0m    \u001b[0mwizardlm2_awq\u001b[0m \u001b[0;34m=\u001b[0m \u001b[0;34m'wizardlm2-awq'\u001b[0m\u001b[0;34m\u001b[0m\n",
       "\u001b[0;34m\u001b[0m    \u001b[0mwizardlm2\u001b[0m \u001b[0;34m=\u001b[0m \u001b[0;34m'wizardlm2'\u001b[0m\u001b[0;34m\u001b[0m\n",
       "\u001b[0;34m\u001b[0m    \u001b[0matom\u001b[0m \u001b[0;34m=\u001b[0m \u001b[0;34m'atom'\u001b[0m\u001b[0;34m\u001b[0m\n",
       "\u001b[0;34m\u001b[0m    \u001b[0mphi3\u001b[0m \u001b[0;34m=\u001b[0m \u001b[0;34m'phi3'\u001b[0m\u001b[0;34m\u001b[0m\n",
       "\u001b[0;34m\u001b[0m    \u001b[0mphi3_vl\u001b[0m \u001b[0;34m=\u001b[0m \u001b[0;34m'phi3-vl'\u001b[0m\u001b[0;34m\u001b[0m\n",
       "\u001b[0;34m\u001b[0m    \u001b[0mtelechat\u001b[0m \u001b[0;34m=\u001b[0m \u001b[0;34m'telechat'\u001b[0m\u001b[0;34m\u001b[0m\n",
       "\u001b[0;34m\u001b[0m    \u001b[0mtelechat2\u001b[0m \u001b[0;34m=\u001b[0m \u001b[0;34m'telechat2'\u001b[0m\u001b[0;34m\u001b[0m\n",
       "\u001b[0;34m\u001b[0m    \u001b[0mdbrx\u001b[0m \u001b[0;34m=\u001b[0m \u001b[0;34m'dbrx'\u001b[0m\u001b[0;34m\u001b[0m\n",
       "\u001b[0;34m\u001b[0m    \u001b[0mmengzi\u001b[0m \u001b[0;34m=\u001b[0m \u001b[0;34m'mengzi'\u001b[0m\u001b[0;34m\u001b[0m\n",
       "\u001b[0;34m\u001b[0m    \u001b[0mc4ai\u001b[0m \u001b[0;34m=\u001b[0m \u001b[0;34m'c4ai'\u001b[0m\u001b[0;34m\u001b[0m\n",
       "\u001b[0;34m\u001b[0m    \u001b[0maya\u001b[0m \u001b[0;34m=\u001b[0m \u001b[0;34m'aya'\u001b[0m\u001b[0;34m\u001b[0m\n",
       "\u001b[0;34m\u001b[0m    \u001b[0mchatml\u001b[0m \u001b[0;34m=\u001b[0m \u001b[0;34m'chatml'\u001b[0m\u001b[0;34m\u001b[0m\n",
       "\u001b[0;34m\u001b[0m    \u001b[0mgot_ocr2\u001b[0m \u001b[0;34m=\u001b[0m \u001b[0;34m'got_ocr2'\u001b[0m\u001b[0;34m\u001b[0m\n",
       "\u001b[0;34m\u001b[0m    \u001b[0movis1_6\u001b[0m \u001b[0;34m=\u001b[0m \u001b[0;34m'ovis1_6'\u001b[0m\u001b[0;34m\u001b[0m\n",
       "\u001b[0;34m\u001b[0m    \u001b[0mmolmo\u001b[0m \u001b[0;34m=\u001b[0m \u001b[0;34m'molmo'\u001b[0m\u001b[0;34m\u001b[0m\n",
       "\u001b[0;34m\u001b[0m    \u001b[0mdeepseek_janus\u001b[0m \u001b[0;34m=\u001b[0m \u001b[0;34m'deepseek-janus'\u001b[0m\u001b[0;34m\u001b[0m\n",
       "\u001b[0;34m\u001b[0m    \u001b[0memu3_chat\u001b[0m \u001b[0;34m=\u001b[0m \u001b[0;34m'emu3-chat'\u001b[0m\u001b[0;34m\u001b[0m\n",
       "\u001b[0;34m\u001b[0m    \u001b[0;31m# compatibility. (Deprecated)\u001b[0m\u001b[0;34m\u001b[0m\n",
       "\u001b[0;34m\u001b[0m    \u001b[0mdefault_generation_bos\u001b[0m \u001b[0;34m=\u001b[0m \u001b[0;34m'default-generation-bos'\u001b[0m\u001b[0;34m\u001b[0m\n",
       "\u001b[0;34m\u001b[0m    \u001b[0myi\u001b[0m \u001b[0;34m=\u001b[0m \u001b[0;34m'yi'\u001b[0m\u001b[0;34m\u001b[0m\n",
       "\u001b[0;34m\u001b[0m    \u001b[0myi1_5\u001b[0m \u001b[0;34m=\u001b[0m \u001b[0;34m'yi1_5'\u001b[0m\u001b[0;34m\u001b[0m\n",
       "\u001b[0;34m\u001b[0m\u001b[0;34m\u001b[0m\n",
       "\u001b[0;34m\u001b[0m    \u001b[0;34m@\u001b[0m\u001b[0mclassmethod\u001b[0m\u001b[0;34m\u001b[0m\n",
       "\u001b[0;34m\u001b[0m    \u001b[0;32mdef\u001b[0m \u001b[0mget_template_name_list\u001b[0m\u001b[0;34m(\u001b[0m\u001b[0mcls\u001b[0m\u001b[0;34m)\u001b[0m \u001b[0;34m->\u001b[0m \u001b[0mList\u001b[0m\u001b[0;34m[\u001b[0m\u001b[0mstr\u001b[0m\u001b[0;34m]\u001b[0m\u001b[0;34m:\u001b[0m\u001b[0;34m\u001b[0m\n",
       "\u001b[0;34m\u001b[0m        \u001b[0mres\u001b[0m \u001b[0;34m=\u001b[0m \u001b[0;34m[\u001b[0m\u001b[0;34m]\u001b[0m\u001b[0;34m\u001b[0m\n",
       "\u001b[0;34m\u001b[0m        \u001b[0;32mfor\u001b[0m \u001b[0mk\u001b[0m \u001b[0;32min\u001b[0m \u001b[0mcls\u001b[0m\u001b[0;34m.\u001b[0m\u001b[0m__dict__\u001b[0m\u001b[0;34m.\u001b[0m\u001b[0mkeys\u001b[0m\u001b[0;34m(\u001b[0m\u001b[0;34m)\u001b[0m\u001b[0;34m:\u001b[0m\u001b[0;34m\u001b[0m\n",
       "\u001b[0;34m\u001b[0m            \u001b[0;32mif\u001b[0m \u001b[0mk\u001b[0m\u001b[0;34m.\u001b[0m\u001b[0mstartswith\u001b[0m\u001b[0;34m(\u001b[0m\u001b[0;34m'__'\u001b[0m\u001b[0;34m)\u001b[0m \u001b[0;32mor\u001b[0m \u001b[0mk\u001b[0m \u001b[0;34m==\u001b[0m \u001b[0;34m'get_template_name_list'\u001b[0m\u001b[0;34m:\u001b[0m\u001b[0;34m\u001b[0m\n",
       "\u001b[0;34m\u001b[0m                \u001b[0;32mcontinue\u001b[0m\u001b[0;34m\u001b[0m\n",
       "\u001b[0;34m\u001b[0m            \u001b[0mres\u001b[0m\u001b[0;34m.\u001b[0m\u001b[0mappend\u001b[0m\u001b[0;34m(\u001b[0m\u001b[0mcls\u001b[0m\u001b[0;34m.\u001b[0m\u001b[0m__dict__\u001b[0m\u001b[0;34m[\u001b[0m\u001b[0mk\u001b[0m\u001b[0;34m]\u001b[0m\u001b[0;34m)\u001b[0m\u001b[0;34m\u001b[0m\n",
       "\u001b[0;34m\u001b[0m        \u001b[0;32mreturn\u001b[0m \u001b[0mres\u001b[0m\u001b[0;34m\u001b[0m\u001b[0;34m\u001b[0m\u001b[0m\n",
       "\u001b[0;31mFile:\u001b[0m           ~/autodl-tmp/envs/deepspeed/lib/python3.10/site-packages/swift/llm/utils/template.py\n",
       "\u001b[0;31mType:\u001b[0m           type\n",
       "\u001b[0;31mSubclasses:\u001b[0m     "
      ]
     },
     "metadata": {},
     "output_type": "display_data"
    }
   ],
   "source": [
    "\n",
    "\n",
    "\n",
    "\n",
    "\n",
    "TemplateType??\n"
   ]
  },
  {
   "cell_type": "code",
   "execution_count": 6,
   "id": "86435e0c-a0e4-4ecd-bc5e-2945edd80cf1",
   "metadata": {
    "execution": {
     "iopub.execute_input": "2024-11-03T04:21:44.409443Z",
     "iopub.status.busy": "2024-11-03T04:21:44.408743Z",
     "iopub.status.idle": "2024-11-03T04:21:44.418448Z",
     "shell.execute_reply": "2024-11-03T04:21:44.417218Z",
     "shell.execute_reply.started": "2024-11-03T04:21:44.409387Z"
    }
   },
   "outputs": [
    {
     "data": {
      "text/plain": [
       "dict_keys(['default', 'default-generation', 'default-generation-bos', 'got_ocr2', 'ovis1_6', 'qwen', 'qwen2_5', 'qwen-vl', 'qwen-vl-generation', 'chatml', 'yi', 'yi1_5', 'modelscope-agent', 'qwen-audio', 'qwen-audio-generation', 'qwen2-audio', 'qwen2-audio-generation', 'qwen2-vl', 'qwen2-vl-generation', 'pixtral', 'yi-coder', 'glm4v', 'yi-vl', 'baichuan', 'chatglm2', 'chatglm-generation', 'chatglm3', 'chatglm4', 'codegeex4', 'deepseek', 'numina-math', 'deepseek2', 'deepseek2_5', 'llama', 'longwriter-llama3', 'mistral-nemo', 'reflection', 'llama3', 'llama3_2', 'llama3_2-vision', 'llama3_2-vision-generation', 'llama3_1-omni', 'openbuddy', 'openbuddy2', 'internlm', 'internlm2', 'internlm-xcomposer2', 'internlm-xcomposer2_5', 'internlm-xcomposer2-4khd', 'internvl', 'internvl-phi3', 'internvl2', 'internvl2-phi3', 'florence', 'xverse', 'yuan', 'ziya', 'skywork', 'bluelm', 'codefuse-codellama', 'codefuse', 'deepseek-coder', 'llava-next-llama3', 'llava-next-video', 'llava-next-video-yi', 'idefics3', 'llava1_5', 'llava-mistral', 'llava-vicuna', 'llava-yi', 'llama-llava-next-hf', 'llama-qwen-hf', 'llava-onevision-qwen', 'llava-llama-instruct', 'molmo', 'emu3-chat', 'paligemma', 'phi3', 'phi3-vl', 'llama3-llava-next', 'llava-qwen', 'deepseek-vl', 'deepseek-janus', 'zephyr', 'sus', 'orion', 'cogagent-chat', 'cogagent-instruct', 'cogvlm', 'cogvlm2-video', 'minicpm', 'minicpm-v-v2_6', 'minicpm-v-v2_5', 'minicpm-v', 'gemma', 'telechat', 'telechat2', 'dbrx', 'mengzi', 'c4ai', 'aya', 'mplug-owl2', 'mplug_owl3', 'wizardlm2-awq', 'wizardlm2', 'atom'])"
      ]
     },
     "execution_count": 6,
     "metadata": {},
     "output_type": "execute_result"
    }
   ],
   "source": [
    "\n",
    "\n",
    "\n",
    "from swift.llm.utils import template, TEMPLATE_MAPPING\n",
    "TEMPLATE_MAPPING.keys()\n",
    "# TEMPLATE_MAPPING.keys()\n",
    "\n",
    "\n"
   ]
  },
  {
   "cell_type": "code",
   "execution_count": 7,
   "id": "c3ca634e-32fc-4d93-98ff-b3bdb7300791",
   "metadata": {
    "execution": {
     "iopub.execute_input": "2024-11-03T04:23:23.500267Z",
     "iopub.status.busy": "2024-11-03T04:23:23.498764Z",
     "iopub.status.idle": "2024-11-03T04:23:23.509676Z",
     "shell.execute_reply": "2024-11-03T04:23:23.508178Z",
     "shell.execute_reply.started": "2024-11-03T04:23:23.500188Z"
    }
   },
   "outputs": [
    {
     "data": {
      "text/plain": [
       "{'template': <swift.llm.utils.template.DefaultGenerationTemplate at 0x7f4f2469fc10>,\n",
       " 'is_generation': True}"
      ]
     },
     "execution_count": 7,
     "metadata": {},
     "output_type": "execute_result"
    }
   ],
   "source": [
    "\n",
    "\n",
    "TEMPLATE_MAPPING[\"default-generation\"]\n"
   ]
  },
  {
   "cell_type": "code",
   "execution_count": null,
   "id": "941f31bc-1bcd-49ba-a154-229300091666",
   "metadata": {},
   "outputs": [],
   "source": [
    "\n",
    "\n",
    "\n",
    "\"\"\"\n",
    "\n",
    "\"\"\"\n",
    "\n",
    "\n",
    "\n",
    "\n",
    "\n"
   ]
  }
 ],
 "metadata": {
  "kernelspec": {
   "display_name": "deepspeed",
   "language": "python",
   "name": "deepspeed"
  },
  "language_info": {
   "codemirror_mode": {
    "name": "ipython",
    "version": 3
   },
   "file_extension": ".py",
   "mimetype": "text/x-python",
   "name": "python",
   "nbconvert_exporter": "python",
   "pygments_lexer": "ipython3",
   "version": "3.10.9"
  }
 },
 "nbformat": 4,
 "nbformat_minor": 5
}
