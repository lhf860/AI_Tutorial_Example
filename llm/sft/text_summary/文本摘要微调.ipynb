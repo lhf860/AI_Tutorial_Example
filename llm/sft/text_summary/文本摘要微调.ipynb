{
 "cells": [
  {
   "cell_type": "code",
   "execution_count": 1,
   "id": "a0cf01c8-f672-4b91-b630-fe6b9e139816",
   "metadata": {
    "execution": {
     "iopub.execute_input": "2024-11-21T07:11:39.944352Z",
     "iopub.status.busy": "2024-11-21T07:11:39.943426Z",
     "iopub.status.idle": "2024-11-21T07:11:39.961656Z",
     "shell.execute_reply": "2024-11-21T07:11:39.960151Z",
     "shell.execute_reply.started": "2024-11-21T07:11:39.944277Z"
    }
   },
   "outputs": [],
   "source": [
    "\n",
    "\n",
    "import os, json"
   ]
  },
  {
   "cell_type": "code",
   "execution_count": 2,
   "id": "f4161fd1-40ce-4cb7-a4d5-344c9f42b6db",
   "metadata": {
    "execution": {
     "iopub.execute_input": "2024-11-21T07:11:39.964636Z",
     "iopub.status.busy": "2024-11-21T07:11:39.963496Z",
     "iopub.status.idle": "2024-11-21T07:11:41.315853Z",
     "shell.execute_reply": "2024-11-21T07:11:41.313934Z",
     "shell.execute_reply.started": "2024-11-21T07:11:39.964567Z"
    }
   },
   "outputs": [
    {
     "name": "stdout",
     "output_type": "stream",
     "text": [
      "679898 679898\n"
     ]
    }
   ],
   "source": [
    "\"\"\"\n",
    "数据集来源：https://tianchi.aliyun.com/dataset/121065\n",
    "\"\"\"\n",
    "\n",
    "train_file_path = \"train_text.txt\"\n",
    "train_label_path = \"train_label.txt\"\n",
    "\n",
    "train_text_list = []\n",
    "train_label_list = []\n",
    "\n",
    "with open(train_file_path, \"r\", encoding=\"utf-8\") as train_text_fin:\n",
    "    for line in train_text_fin:\n",
    "        train_text_list.append(line.strip())\n",
    "\n",
    "\n",
    "with open(train_label_path, \"r\", encoding=\"utf-8\") as train_label_fin:\n",
    "    for line in train_label_fin:\n",
    "        train_label_list.append(line.strip())\n",
    "\n",
    "\n",
    "print(len(train_text_list), len(train_label_list))"
   ]
  },
  {
   "cell_type": "code",
   "execution_count": 3,
   "id": "3468597f-c448-437b-b5d4-8de0a88c227a",
   "metadata": {
    "execution": {
     "iopub.execute_input": "2024-11-21T07:11:41.317359Z",
     "iopub.status.busy": "2024-11-21T07:11:41.317091Z",
     "iopub.status.idle": "2024-11-21T07:11:45.934198Z",
     "shell.execute_reply": "2024-11-21T07:11:45.933118Z",
     "shell.execute_reply.started": "2024-11-21T07:11:41.317328Z"
    }
   },
   "outputs": [],
   "source": [
    "\n",
    "num_examples = len(train_label_list)\n",
    "\n",
    "\n",
    "\n",
    "with open(\"sft_text_summary.jsonl\", \"w\", encoding=\"utf-8\") as fout:\n",
    "    for i in range(num_examples):\n",
    "        query = train_text_list[i]\n",
    "        response = train_label_list[i]\n",
    "        prompt_example = {\"query\": query, \"response\": response}\n",
    "        fout.write(json.dumps(prompt_example, ensure_ascii=False) + \"\\n\")\n",
    "        \n",
    "\n"
   ]
  },
  {
   "cell_type": "code",
   "execution_count": 4,
   "id": "94073cae-5280-43b9-97b2-a38eede77364",
   "metadata": {
    "execution": {
     "iopub.execute_input": "2024-11-21T07:11:45.935173Z",
     "iopub.status.busy": "2024-11-21T07:11:45.935004Z",
     "iopub.status.idle": "2024-11-21T07:11:45.941255Z",
     "shell.execute_reply": "2024-11-21T07:11:45.940201Z",
     "shell.execute_reply.started": "2024-11-21T07:11:45.935154Z"
    }
   },
   "outputs": [
    {
     "name": "stdout",
     "output_type": "stream",
     "text": [
      "徐州18岁农家女孩宋爽，今年考入清华大学。除了自己一路闯关，年年拿奖，还帮妹妹、弟弟制定学习计划，姐弟仨齐头并进，妹妹也考上区里最好的中学。这个家里的收入，全靠父亲务农和打零工，但宋爽懂事得让人心疼，曾需要200元奥数竞赛的教材费，她羞于开口，愣是急哭了... 戳腾讯公益帮帮她们！#助学圆梦# 江苏新闻的秒拍视频\n",
      "徐州农家女孩考上清华，她的懂事让人心酸…\n"
     ]
    }
   ],
   "source": [
    "\n",
    "i = 0\n",
    "\n",
    "print(train_text_list[i])\n",
    "print(train_label_list[i])\n",
    "\n"
   ]
  },
  {
   "cell_type": "code",
   "execution_count": 5,
   "id": "3a6e70f7-021c-40cc-a2fa-3824c5bea5bd",
   "metadata": {
    "execution": {
     "iopub.execute_input": "2024-11-21T07:11:45.942049Z",
     "iopub.status.busy": "2024-11-21T07:11:45.941917Z",
     "iopub.status.idle": "2024-11-21T07:11:45.946204Z",
     "shell.execute_reply": "2024-11-21T07:11:45.945283Z",
     "shell.execute_reply.started": "2024-11-21T07:11:45.942033Z"
    }
   },
   "outputs": [],
   "source": [
    "\n",
    "# 命令行进行微调\n",
    "\n",
    "# ! swift sft --sft_type lora --target_modules ALL --dataset sft_text_summary.jsonl --template_type qwen2_5 --model_id_or_path  Qwen/Qwen2.5-3B-Instruct  --output_dir output_ckpt/llm_qwen2.5-3b-sft-text-summary --num_train_epochs 3 --learning_rate 5e-5  --lr_scheduler_type constant \n",
    "\n"
   ]
  }
 ],
 "metadata": {
  "kernelspec": {
   "display_name": "torch2",
   "language": "python",
   "name": "torch2"
  },
  "language_info": {
   "codemirror_mode": {
    "name": "ipython",
    "version": 3
   },
   "file_extension": ".py",
   "mimetype": "text/x-python",
   "name": "python",
   "nbconvert_exporter": "python",
   "pygments_lexer": "ipython3",
   "version": "3.10.15"
  }
 },
 "nbformat": 4,
 "nbformat_minor": 5
}
