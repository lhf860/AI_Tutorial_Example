{
 "cells": [
  {
   "cell_type": "code",
   "execution_count": 1,
   "id": "019ad4d3-06b4-47ad-9af6-0b1710096d4c",
   "metadata": {
    "execution": {
     "iopub.execute_input": "2024-11-20T07:48:28.193985Z",
     "iopub.status.busy": "2024-11-20T07:48:28.193007Z",
     "iopub.status.idle": "2024-11-20T07:48:29.955259Z",
     "shell.execute_reply": "2024-11-20T07:48:29.953982Z",
     "shell.execute_reply.started": "2024-11-20T07:48:28.193906Z"
    }
   },
   "outputs": [],
   "source": [
    "import os, json\n",
    "import torch\n",
    "\n"
   ]
  },
  {
   "cell_type": "code",
   "execution_count": 2,
   "id": "e457dee3-5a41-4463-9743-4d3588df6627",
   "metadata": {
    "execution": {
     "iopub.execute_input": "2024-11-20T07:49:05.610101Z",
     "iopub.status.busy": "2024-11-20T07:49:05.609065Z",
     "iopub.status.idle": "2024-11-20T07:49:05.617633Z",
     "shell.execute_reply": "2024-11-20T07:49:05.615900Z",
     "shell.execute_reply.started": "2024-11-20T07:49:05.610021Z"
    }
   },
   "outputs": [],
   "source": [
    "\n",
    "\n",
    "train_data_path = \"ccks2023_task2_data_release/train.txt\"\n",
    "val_data_path = \"ccks2023_task2_data_release/testA.txt\"\n"
   ]
  },
  {
   "cell_type": "code",
   "execution_count": 10,
   "id": "4fab36c5-d3b5-44e0-8c91-ea04eb9cec60",
   "metadata": {
    "execution": {
     "iopub.execute_input": "2024-11-20T07:55:41.231611Z",
     "iopub.status.busy": "2024-11-20T07:55:41.230574Z",
     "iopub.status.idle": "2024-11-20T07:55:43.245710Z",
     "shell.execute_reply": "2024-11-20T07:55:43.244441Z",
     "shell.execute_reply.started": "2024-11-20T07:55:41.231531Z"
    }
   },
   "outputs": [],
   "source": [
    "\"\"\"\n",
    "样本示例：\n",
    "{\"text_id\": \"402a011912c9ab44aa1ffd4778d10d6b\", \"text\": \"北京炼焦化学厂7月1日停产\",\n",
    "\"events\": [{\"type\": \"停产停业\", \"entity\": \"北京炼焦化学厂\"}]}\n",
    "\n",
    "\n",
    "其中events可以为空列表\n",
    "\"\"\"\n",
    "\n",
    "\n",
    "from IPython.display import display\n",
    "from pprint import pprint\n",
    "\n",
    "\n",
    "event_type_set = set()\n",
    "\n",
    "valid_example_list = []\n",
    "\n",
    "\n",
    "def generated_sft_data(data_path):\n",
    "\n",
    "    with open(data_path, 'r', encoding=\"utf-8\") as fin:\n",
    "        for index, line in enumerate(fin):\n",
    "            example = json.loads(line)\n",
    "            events = example[\"events\"]\n",
    "            if len(events) > 0:\n",
    "                #     display(index, example)\n",
    "                #     break\n",
    "                for event in events:\n",
    "                    event_type_set.add(event[\"type\"])\n",
    "                valid_example_list.append(example)\n",
    "            \n",
    "            \n",
    "\n",
    "generated_sft_data(train_data_path)\n",
    "    \n",
    "\n"
   ]
  },
  {
   "cell_type": "code",
   "execution_count": 11,
   "id": "b74631cd-48a7-4f0c-b12c-f7f77997498c",
   "metadata": {
    "execution": {
     "iopub.execute_input": "2024-11-20T07:55:43.247586Z",
     "iopub.status.busy": "2024-11-20T07:55:43.247190Z",
     "iopub.status.idle": "2024-11-20T07:55:43.257382Z",
     "shell.execute_reply": "2024-11-20T07:55:43.256322Z",
     "shell.execute_reply.started": "2024-11-20T07:55:43.247555Z"
    },
    "scrolled": true
   },
   "outputs": [
    {
     "data": {
      "text/plain": [
       "{'业务/资产重组',\n",
       " '产品虚假宣传',\n",
       " '产品违约/不足额兑付',\n",
       " '企业被问询约谈审查',\n",
       " '保留意见',\n",
       " '信息泄露',\n",
       " '债务展期',\n",
       " '债务融资失败',\n",
       " '债务违约',\n",
       " '债务重组',\n",
       " '停产停业',\n",
       " '停止批准增设分支机构',\n",
       " '停止接受新业务',\n",
       " '偷税漏税',\n",
       " '偿付能力不足',\n",
       " '公司停牌',\n",
       " '公司注销',\n",
       " '公司违规关联交易',\n",
       " '公司退市',\n",
       " '关闭分支机构',\n",
       " '内幕交易',\n",
       " '出具虚假证明',\n",
       " '分支机构被警方调查',\n",
       " '发放贷款出现坏账',\n",
       " '吊销业务许可或执照',\n",
       " '吊销资质牌照',\n",
       " '否定意见',\n",
       " '员工罢工示威',\n",
       " '基层员工流失',\n",
       " '外部信用评级下调',\n",
       " '大量投诉',\n",
       " '实际控制人变更',\n",
       " '实际控制人失联/死亡',\n",
       " '实际控制人涉嫌违法',\n",
       " '实际控制人涉诉仲裁',\n",
       " '实际控制人违规',\n",
       " '审计师辞任',\n",
       " '履行连带担保责任',\n",
       " '延期信息披露',\n",
       " '总部被警方调查',\n",
       " '扰乱市场秩序',\n",
       " '投资亏损',\n",
       " '挤兑',\n",
       " '授信额度减少',\n",
       " '撤销任职资格',\n",
       " '无法表示意见',\n",
       " '暂停上市',\n",
       " '更换基金经理',\n",
       " '欠薪',\n",
       " '澄清辟谣',\n",
       " '盈利能力下降',\n",
       " '监管入驻',\n",
       " '监管评级下调',\n",
       " '盗取隐私信息',\n",
       " '破产清算',\n",
       " '禁入行业',\n",
       " '税务非正常户',\n",
       " '窃取别人商业机密',\n",
       " '第一大股东变化',\n",
       " '签订对赌协议',\n",
       " '终身禁入行业',\n",
       " '经营亏损',\n",
       " '经营期限到期',\n",
       " '经营激进',\n",
       " '经营资质瑕疵',\n",
       " '网站安全漏洞',\n",
       " '股东利益斗争',\n",
       " '股权冻结/强制转让',\n",
       " '股权查封',\n",
       " '股权融资失败',\n",
       " '股票发行失败',\n",
       " '自然灾害',\n",
       " '薪酬福利下降',\n",
       " '行业排名下降',\n",
       " '被列为失信被执行人',\n",
       " '被接管',\n",
       " '被银行停贷',\n",
       " '裁员',\n",
       " '警告',\n",
       " '评级机构中止评级',\n",
       " '误操作',\n",
       " '财务信息造假',\n",
       " '财务报表更正',\n",
       " '责令改正',\n",
       " '资产冻结',\n",
       " '资产质量下降',\n",
       " '资本充足不足',\n",
       " '资金紧张',\n",
       " '违规催收',\n",
       " '连续下跌',\n",
       " '退出市场',\n",
       " '造假欺诈',\n",
       " '重大债务到期',\n",
       " '重大安全事故',\n",
       " '重大资产损失',\n",
       " '重大赔付',\n",
       " '限制业务范围',\n",
       " '限制股东权利',\n",
       " '非法集资',\n",
       " '骗保',\n",
       " '高层变更',\n",
       " '高层失联/死亡',\n",
       " '高层涉嫌违法'}"
      ]
     },
     "metadata": {},
     "output_type": "display_data"
    },
    {
     "data": {
      "text/plain": [
       "103"
      ]
     },
     "metadata": {},
     "output_type": "display_data"
    }
   ],
   "source": [
    "display(event_type_set)\n",
    "\n",
    "display(len(event_type_set))  # 103个类别"
   ]
  },
  {
   "cell_type": "code",
   "execution_count": 19,
   "id": "ae11633b-0fa5-49f5-af94-07060c0c8abb",
   "metadata": {
    "execution": {
     "iopub.execute_input": "2024-11-20T08:02:59.101465Z",
     "iopub.status.busy": "2024-11-20T08:02:59.100444Z",
     "iopub.status.idle": "2024-11-20T08:02:59.215833Z",
     "shell.execute_reply": "2024-11-20T08:02:59.214998Z",
     "shell.execute_reply.started": "2024-11-20T08:02:59.101391Z"
    }
   },
   "outputs": [
    {
     "data": {
      "text/plain": [
       "{'text_id': '4883bb26e4af81a4a562a0cea712e786',\n",
       " 'text': '同时，为降低管理成本，同日公告显示，陕西黑猫拟吸收合并全资子公司韩城市黑猫化工有限责任公司与韩城市黑猫能源利用有限公司，还注销了另一家全资子公司内蒙古黑猫平旭能源化工有限公司',\n",
       " 'events': [{'type': '公司注销', 'entity': '韩城市黑猫化工有限责任公司'}]}"
      ]
     },
     "metadata": {},
     "output_type": "display_data"
    },
    {
     "data": {
      "text/plain": [
       "{'text_id': 'c6ecdb261848c5a6dc51bca28f190a1f',\n",
       " 'text': '网上流出的一份#互联网裁员#信息，不知道是否真实，有这些公司的出来说说：2019年互联网公司裁员名单阿里巴巴集团(不开放职位，优酷裁员)爱奇艺(游戏部门裁员)百度(上半年已瘦身，不开放职位)哗哩哗哩(末尾淘汰一定比例，锁HC)贝壳找房(变相裁员)锤子(资金链断裂，已拖欠工资)滴滴(将裁员15%涉及员工超2000人)斗鱼(业务调整，海外直播部门全裁近80人)京东(裁员10%)科大讯飞(变相裁员)美图(裁员)美团(上海点评技术部门裁员50%，持续中)摩拜(美团)(裁员20%30%)美味不用等(裁员60%)OFO(资金链断)平安好房(裁员近300人）趣店(裁员200人）人人车(裁员)苏宁(裁员10%)天天果园(裁员)唯品会(通过绩效考核变相裁员)网易(裁员)小米(金服裁员)星巴克(裁员)有赞(裁员25%)知乎(裁员20%，近300人)36氪(裁员30%)便利蜂(不详)每日优鲜（不详',\n",
       " 'events': [{'type': '裁员', 'entity': '网易'},\n",
       "  {'type': '裁员', 'entity': '贝壳找房'},\n",
       "  {'type': '裁员', 'entity': '平安好房'},\n",
       "  {'type': '裁员', 'entity': '科大讯飞'},\n",
       "  {'type': '裁员', 'entity': '摩拜(美团)'},\n",
       "  {'type': '裁员', 'entity': '爱奇艺'},\n",
       "  {'type': '资金紧张', 'entity': 'OFO'},\n",
       "  {'type': '裁员', 'entity': '美图'},\n",
       "  {'type': '欠薪', 'entity': '锤子'},\n",
       "  {'type': '资金紧张', 'entity': '锤子'},\n",
       "  {'type': '裁员', 'entity': '哗哩哗哩'},\n",
       "  {'type': '裁员', 'entity': '唯品会'},\n",
       "  {'type': '裁员', 'entity': '天天果园'},\n",
       "  {'type': '裁员', 'entity': '有赞'},\n",
       "  {'type': '裁员', 'entity': '京东'},\n",
       "  {'type': '裁员', 'entity': '美味不用等'},\n",
       "  {'type': '裁员', 'entity': '斗鱼'},\n",
       "  {'type': '裁员', 'entity': '趣店'},\n",
       "  {'type': '裁员', 'entity': '优酷'},\n",
       "  {'type': '裁员', 'entity': '小米'},\n",
       "  {'type': '裁员', 'entity': '滴滴'},\n",
       "  {'type': '裁员', 'entity': '阿里巴巴集团'},\n",
       "  {'type': '裁员', 'entity': '知乎'},\n",
       "  {'type': '裁员', 'entity': '美团'},\n",
       "  {'type': '裁员', 'entity': '人人车'},\n",
       "  {'type': '裁员', 'entity': '星巴克'},\n",
       "  {'type': '裁员', 'entity': '36氪'},\n",
       "  {'type': '裁员', 'entity': '苏宁'}]}"
      ]
     },
     "metadata": {},
     "output_type": "display_data"
    },
    {
     "name": "stdout",
     "output_type": "stream",
     "text": [
      "包含多个事件的样本： 11867 ,  占比： 0.13354715282466803\n",
      "单个样本最大的事件数量： 28\n"
     ]
    }
   ],
   "source": [
    "\n",
    "\n",
    "len(valid_example_list)  # 88860\n",
    "\n",
    "display(valid_example_list[0])\n",
    "\n",
    "\n",
    "# 查看单个样本有多个事件的样本数量\n",
    "\n",
    "num_example_for_multi_event = 0\n",
    "max_event_count = 0\n",
    "\n",
    "for example in valid_example_list:\n",
    "    if len(example[\"events\"]) > 1:\n",
    "        num_example_for_multi_event += 1\n",
    "        max_event_count = max(max_event_count, len(example[\"events\"]))\n",
    "        if max_event_count == 28:\n",
    "            display(example)\n",
    "            break\n",
    "\n",
    "\n",
    "print(\"包含多个事件的样本：\", num_example_for_multi_event, \", \",  \"占比：\", num_example_for_multi_event / len(valid_example_list) )  # 14754\n",
    "        \n",
    "print(\"单个样本最大的事件数量：\", max_event_count)\n"
   ]
  },
  {
   "cell_type": "code",
   "execution_count": 35,
   "id": "bdfacd27-dd8f-4c3b-bf33-4f368fbbee3e",
   "metadata": {
    "execution": {
     "iopub.execute_input": "2024-11-20T08:38:05.463356Z",
     "iopub.status.busy": "2024-11-20T08:38:05.462325Z",
     "iopub.status.idle": "2024-11-20T08:38:05.474869Z",
     "shell.execute_reply": "2024-11-20T08:38:05.472558Z",
     "shell.execute_reply.started": "2024-11-20T08:38:05.463276Z"
    }
   },
   "outputs": [
    {
     "name": "stdout",
     "output_type": "stream",
     "text": [
      "{'text_id': 'ddf32c540de07b119911e55d7036576e', 'text': '化工作室；何炅注销新沂何年何月影视文化工作室；宋茜注销新沂宋茜影视文化工作室；佟丽娅注销新沂大丫影视文化工作室；还有吴谨言、李晨、王千源、胡可、杜淳、陈思成、江疏影、马天宇等注销工作室，以及汪峰、章子怡退出新影佳映（新沂）电影文化发展有限公司股东行列等', 'events': [{'type': '公司注销', 'entity': '何月影视文化工作室'}, {'type': '公司注销', 'entity': '新沂宋茜影视文化工作室'}, {'type': '公司注销', 'entity': '新沂大丫影视文化工作室'}]}\n",
      "['何月影视文化工作室', '新沂宋茜影视文化工作室', '新沂大丫影视文化工作室']\n"
     ]
    }
   ],
   "source": [
    "\n",
    "for example in valid_example_list:\n",
    "    if len(example[\"events\"]) > 1:\n",
    "        print(example)\n",
    "        t = []\n",
    "        for event in example[\"events\"]:\n",
    "            t.append(event[\"entity\"])\n",
    "        print(t)\n",
    "        break\n"
   ]
  },
  {
   "cell_type": "code",
   "execution_count": 22,
   "id": "c6eb76a2-d6b0-46f5-b9f4-a4e746d27ec7",
   "metadata": {
    "execution": {
     "iopub.execute_input": "2024-11-20T08:30:01.052661Z",
     "iopub.status.busy": "2024-11-20T08:30:01.051634Z",
     "iopub.status.idle": "2024-11-20T08:30:01.068881Z",
     "shell.execute_reply": "2024-11-20T08:30:01.067211Z",
     "shell.execute_reply.started": "2024-11-20T08:30:01.052581Z"
    }
   },
   "outputs": [
    {
     "name": "stdout",
     "output_type": "stream",
     "text": [
      "[\"判断下面的内容中出现的事件类型及其对应的实体，按JSON格式输出：{'事件类型1': ['实体1', '实体2'], '事件类型2': ['实体3', '实体4']}。\"]\n"
     ]
    }
   ],
   "source": [
    "prompts = [\n",
    "    \"请判断以下文本中的事件类型以及事件类型对应的实体，要求输出所有事件类型，并以JSON格式：{'事件类型1': ['实体1', '实体2'], '事件类型2': ['实体3', '实体4']}展示结果。\",\n",
    "    \"找出下述文本中的所有事件类型及其对应的实体，按JSON格式：{'事件类型1': ['实体1', '实体2'], '事件类型2': ['实体3', '实体4']}输出。\",\n",
    "    \"从以下文本中提取事件类型及其实体列表，结果需以JSON格式呈现：{'事件类型1': ['实体1', '实体2'], '事件类型2': ['实体3', '实体4']}。\",\n",
    "    \"根据下面的文本内容，提取所有事件类型及关联实体，并按照JSON格式：{'事件类型1': ['实体1', '实体2'], '事件类型2': ['实体3', '实体4']}输出。\",\n",
    "    \"请从下述文本中识别事件类型及其所有关联实体，结果形式要求为JSON：{'事件类型1': ['实体1', '实体2'], '事件类型2': ['实体3', '实体4']}。\",\n",
    "    \"分析以下文本，提取所有事件类型及其相关联的实体，输出的JSON格式为：{'事件类型1': ['实体1', '实体2'], '事件类型2': ['实体3', '实体4']}。\",\n",
    "    \"判断下面的内容中出现的事件类型及其对应的实体，按JSON格式输出：{'事件类型1': ['实体1', '实体2'], '事件类型2': ['实体3', '实体4']}。\",\n",
    "    \"请提取下列文本中的事件类型以及事件类型关联的实体，确保以JSON格式：{'事件类型1': ['实体1', '实体2'], '事件类型2': ['实体3', '实体4']}展示结果。\",\n",
    "    \"对以下文本内容进行解析，提取事件类型及其实体，结果需以JSON格式：{'事件类型1': ['实体1', '实体2'], '事件类型2': ['实体3', '实体4']}。\",\n",
    "    \"请从下列文本中找出所有的事件类型及对应的实体，输出结果的JSON格式应为：{'事件类型1': ['实体1', '实体2'], '事件类型2': ['实体3', '实体4']}。\",\n",
    "    \"分析下面的文本，提取所有涉及的事件类型和关联实体，输出需符合JSON格式：{'事件类型1': ['实体1', '实体2'], '事件类型2': ['实体3', '实体4']}。\",\n",
    "    \"对给定的文本内容进行事件解析，找出事件类型及其关联的实体，输出格式为JSON：{'事件类型1': ['实体1', '实体2'], '事件类型2': ['实体3', '实体4']}。\",\n",
    "    \"从以下内容中提取所有的事件类型及其关联的实体，并以JSON格式输出，形式如：{'事件类型1': ['实体1', '实体2'], '事件类型2': ['实体3', '实体4']}。\",\n",
    "    \"请解析以下文本内容，找出所有事件类型及其实体，并将结果以JSON格式：{'事件类型1': ['实体1', '实体2'], '事件类型2': ['实体3', '实体4']}输出。\",\n",
    "    \"从下面的文本中识别所有事件类型以及对应的实体列表，输出格式为JSON：{'事件类型1': ['实体1', '实体2'], '事件类型2': ['实体3', '实体4']}。\",\n",
    "    \"请读取以下文本，找出所有出现的事件类型及关联的实体，按JSON格式：{'事件类型1': ['实体1', '实体2'], '事件类型2': ['实体3', '实体4']}列出结果。\",\n",
    "    \"判断下述文本中的事件类型及其实体，并以JSON格式输出：{'事件类型1': ['实体1', '实体2'], '事件类型2': ['实体3', '实体4']}。\",\n",
    "    \"请提取以下内容中的事件类型及其实体列表，确保输出格式为JSON：{'事件类型1': ['实体1', '实体2'], '事件类型2': ['实体3', '实体4']}。\",\n",
    "    \"根据下面的文本，提取所有事件类型及其关联的实体，并以JSON格式：{'事件类型1': ['实体1', '实体2'], '事件类型2': ['实体3', '实体4']}展示。\",\n",
    "    \"从下述内容中识别事件类型和对应的实体，按JSON格式输出结果，格式为：{'事件类型1': ['实体1', '实体2'], '事件类型2': ['实体3', '实体4']}。\"\n",
    "]\n",
    "import random\n",
    "print(random.sample(prompts, 1))"
   ]
  },
  {
   "cell_type": "code",
   "execution_count": 41,
   "id": "91ae1d88-d318-43eb-839d-1a2cf81f8d58",
   "metadata": {
    "execution": {
     "iopub.execute_input": "2024-11-20T08:42:40.945405Z",
     "iopub.status.busy": "2024-11-20T08:42:40.944882Z",
     "iopub.status.idle": "2024-11-20T08:42:42.988292Z",
     "shell.execute_reply": "2024-11-20T08:42:42.986861Z",
     "shell.execute_reply.started": "2024-11-20T08:42:40.945370Z"
    }
   },
   "outputs": [],
   "source": [
    "import random\n",
    "\n",
    "few_shot_example = \"\"\"\n",
    "参考样本：\n",
    "输入文本：何炅注销新沂何年何月影视文化工作室；宋茜注销新沂宋茜影视文化工作室；佟丽娅注销新沂大丫影视文化工作室；还有吴谨言、李晨、王千源、胡可、杜淳、陈思成、江疏影、马天宇等注销工作室，以及汪峰、章子怡退出新影佳映（新沂）电影文化发展有限公司股东行列等.\n",
    "输出：{'type': '公司注销', 'entity': ['何月影视文化工作室', '新沂宋茜影视文化工作室', '新沂大丫影视文化工作室']}\n",
    "\"\"\"\n",
    "def gen_sft_data(example_info_list):\n",
    "\n",
    "    all_prompt_example_list = []\n",
    "    \n",
    "    for example in example_info_list:\n",
    "        events = example[\"events\"]  # 可能包含多个相同的事件\n",
    "\n",
    "        # 相同事件的主体entity进行合并\n",
    "        event_info_dict = {}\n",
    "        for event in events:\n",
    "            event_type, event_entity = event[\"type\"], event[\"entity\"]\n",
    "            if event_type not in event_info_dict:\n",
    "                event_info_dict[event_type] = []\n",
    "            event_info_dict[event_type].append(event_entity)\n",
    "            event_result_info = json.dumps(event_info_dict, ensure_ascii=False)\n",
    "\n",
    "        system_prompt = random.sample(prompts, 1)[0]\n",
    "        example_prompt = system_prompt + \"\\n\" + few_shot_example + \"\\n输入文本：\" + example[\"text\"]\n",
    "        \n",
    "        # print(example_prompt)\n",
    "        # print(event_result_info)\n",
    "        one_example_dict = {\"query\": example_prompt, \"response\": event_result_info}\n",
    "    \n",
    "        all_prompt_example_list.append(one_example_dict)\n",
    "    # 保存数据到jsonl\n",
    "\n",
    "    with open(\"event_entity_ie.jsonl\", \"w\", encoding=\"utf-8\") as fout:\n",
    "        for example in all_prompt_example_list:\n",
    "            fout.write(json.dumps(example, ensure_ascii=False)+\"\\n\")\n",
    "    \n",
    "gen_sft_data(valid_example_list)\n",
    "\n"
   ]
  },
  {
   "cell_type": "code",
   "execution_count": 42,
   "id": "f0286fef-78c4-446c-9b0a-95b5db97e096",
   "metadata": {
    "execution": {
     "iopub.execute_input": "2024-11-20T08:57:35.980697Z",
     "iopub.status.busy": "2024-11-20T08:57:35.980292Z",
     "iopub.status.idle": "2024-11-20T08:57:35.993317Z",
     "shell.execute_reply": "2024-11-20T08:57:35.990374Z",
     "shell.execute_reply.started": "2024-11-20T08:57:35.980664Z"
    }
   },
   "outputs": [
    {
     "data": {
      "text/plain": [
       "{'text_id': '4883bb26e4af81a4a562a0cea712e786',\n",
       " 'text': '同时，为降低管理成本，同日公告显示，陕西黑猫拟吸收合并全资子公司韩城市黑猫化工有限责任公司与韩城市黑猫能源利用有限公司，还注销了另一家全资子公司内蒙古黑猫平旭能源化工有限公司',\n",
       " 'events': [{'type': '公司注销', 'entity': '韩城市黑猫化工有限责任公司'}]}"
      ]
     },
     "execution_count": 42,
     "metadata": {},
     "output_type": "execute_result"
    }
   ],
   "source": [
    "valid_example_list[0]"
   ]
  },
  {
   "cell_type": "code",
   "execution_count": null,
   "id": "3746ea3c-f681-47db-b00e-9ad8e39ae776",
   "metadata": {},
   "outputs": [],
   "source": [
    "\n",
    "\n",
    "\"\"\"\n",
    "上诉针对LLM的监督微调是一次性生成完整的答案，也可以分布进行微调：\n",
    "1、微调文本的事件类型\n",
    "2、将原始文本与生成的事件类型进行拼接，并生成对应的事件主体\n",
    "\n",
    "\n",
    "比如：\n",
    "第一步：\n",
    "文本：同时，为降低管理成本，同日公告显示，陕西黑猫拟吸收合并全资子公司韩城市黑猫化工有限责任公司与韩城市黑猫能源利用有限公司，还注销了另一家全资子公司内蒙古黑猫平旭能源化工有限公司\n",
    "输出：事件类型列表：[\"公司注销\"]\n",
    "\n",
    "第二步：\n",
    "\n",
    "文本：同时，为降低管理成本，同日公告显示，陕西黑猫拟吸收合并全资子公司韩城市黑猫化工有限责任公司与韩城市黑猫能源利用有限公司，还注销了另一家全资子公司内蒙古黑猫平旭能源化工有限公司\n",
    "事件类型: 公司注销\n",
    "事件主体：[\"韩城市黑猫化工有限责任公司\"]\n",
    "\"\"\"\n",
    "\n",
    "\n",
    "\n"
   ]
  }
 ],
 "metadata": {
  "kernelspec": {
   "display_name": "torch2",
   "language": "python",
   "name": "torch2"
  },
  "language_info": {
   "codemirror_mode": {
    "name": "ipython",
    "version": 3
   },
   "file_extension": ".py",
   "mimetype": "text/x-python",
   "name": "python",
   "nbconvert_exporter": "python",
   "pygments_lexer": "ipython3",
   "version": "3.10.15"
  }
 },
 "nbformat": 4,
 "nbformat_minor": 5
}
