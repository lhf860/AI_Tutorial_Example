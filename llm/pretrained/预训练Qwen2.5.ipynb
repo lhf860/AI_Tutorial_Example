{
 "cells": [
  {
   "cell_type": "code",
   "execution_count": 1,
   "id": "e91b740a-c21b-4533-87bc-487a818d989d",
   "metadata": {
    "execution": {
     "iopub.execute_input": "2024-11-20T07:13:28.941862Z",
     "iopub.status.busy": "2024-11-20T07:13:28.940697Z",
     "iopub.status.idle": "2024-11-20T07:13:28.963128Z",
     "shell.execute_reply": "2024-11-20T07:13:28.960429Z",
     "shell.execute_reply.started": "2024-11-20T07:13:28.941788Z"
    }
   },
   "outputs": [],
   "source": [
    "\n",
    "\n",
    "import os\n",
    "# HF_ENDPOINT=https://hf-mirror.com \n",
    "os.environ[\"HF_ENDPOINT\"] = \"https://hf-mirror.com\"\n",
    "\n"
   ]
  },
  {
   "cell_type": "code",
   "execution_count": 2,
   "id": "b6a13305-9761-4ee5-9032-40dfc1531480",
   "metadata": {
    "execution": {
     "iopub.execute_input": "2024-11-20T07:13:28.966438Z",
     "iopub.status.busy": "2024-11-20T07:13:28.965367Z",
     "iopub.status.idle": "2024-11-20T07:13:30.148377Z",
     "shell.execute_reply": "2024-11-20T07:13:30.147084Z",
     "shell.execute_reply.started": "2024-11-20T07:13:28.966363Z"
    }
   },
   "outputs": [],
   "source": [
    "\n",
    "\n",
    "from datasets import load_dataset, load_from_disk\n",
    "\n"
   ]
  },
  {
   "cell_type": "code",
   "execution_count": 6,
   "id": "a8b53664-4f40-4b3a-b5a9-6579c4fb4b6f",
   "metadata": {
    "execution": {
     "iopub.execute_input": "2024-11-20T07:18:01.401472Z",
     "iopub.status.busy": "2024-11-20T07:18:01.400423Z",
     "iopub.status.idle": "2024-11-20T07:18:02.906862Z",
     "shell.execute_reply": "2024-11-20T07:18:02.905890Z",
     "shell.execute_reply.started": "2024-11-20T07:18:01.401393Z"
    }
   },
   "outputs": [],
   "source": [
    "\n",
    "# 自动下载\n",
    "# law_dataset = load_dataset(\"ShengbinYue/DISC-Law-SFT\", cache_dir=\"./DISC-Law-SFT\", split=None)\n",
    "\n",
    "# 手动下载文件保存到DISC_Law-SFT文件夹中\n",
    "import json\n",
    "from IPython.display import display\n",
    "from pprint import pprint\n",
    "\n",
    "pretrain_data_list = []\n",
    "\n",
    "with open(\"DISC-Law-SFT/DISC-Law-SFT-Pair-QA-released.jsonl\", \"r\") as fin:\n",
    "    for line in fin:\n",
    "        one_line = json.loads(line)[\"output\"]\n",
    "        pretrain_data_list.append(one_line)\n",
    "\n",
    "with open(\"pretrained_law.jsonl\", \"w\", encoding=\"utf-8\") as fout:\n",
    "    # fout.write(\"response\" + \"\\n\")\n",
    "    for line in pretrain_data_list:\n",
    "        fout.write(json.dumps({\"response\": line}, ensure_ascii=False) + \"\\n\")\n"
   ]
  },
  {
   "cell_type": "code",
   "execution_count": 4,
   "id": "8be1df52-54ed-4de5-a0bb-aaadcd046a14",
   "metadata": {
    "execution": {
     "iopub.execute_input": "2024-11-20T07:13:31.000423Z",
     "iopub.status.busy": "2024-11-20T07:13:31.000174Z",
     "iopub.status.idle": "2024-11-20T07:13:35.503774Z",
     "shell.execute_reply": "2024-11-20T07:13:35.502752Z",
     "shell.execute_reply.started": "2024-11-20T07:13:31.000395Z"
    }
   },
   "outputs": [
    {
     "name": "stderr",
     "output_type": "stream",
     "text": [
      "[INFO:swift] Successfully registered `/root/autodl-tmp/envs/torch2/lib/python3.10/site-packages/swift/llm/data/dataset_info.json`\n",
      "[INFO:swift] No vLLM installed, if you are using vLLM, you will get `ImportError: cannot import name 'get_vllm_engine' from 'swift.llm'`\n",
      "[INFO:swift] No LMDeploy installed, if you are using LMDeploy, you will get `ImportError: cannot import name 'prepare_lmdeploy_engine_template' from 'swift.llm'`\n"
     ]
    },
    {
     "data": {
      "text/plain": [
       "dict_keys(['default', 'default-generation', 'default-generation-bos', 'got_ocr2', 'ovis1_6', 'qwen', 'qwen2_5', 'qwen-vl', 'qwen-vl-generation', 'chatml', 'yi', 'yi1_5', 'modelscope-agent', 'qwen-audio', 'qwen-audio-generation', 'qwen2-audio', 'qwen2-audio-generation', 'qwen2-vl', 'qwen2-vl-generation', 'pixtral', 'yi-coder', 'glm4v', 'yi-vl', 'baichuan', 'chatglm2', 'chatglm-generation', 'chatglm3', 'chatglm4', 'codegeex4', 'deepseek', 'numina-math', 'deepseek2', 'deepseek2_5', 'llama', 'longwriter-llama3', 'mistral-nemo', 'reflection', 'llama3', 'llama3_2', 'llama3_2-vision', 'llama3_2-vision-generation', 'llama3_1-omni', 'openbuddy', 'openbuddy2', 'internlm', 'internlm2', 'internlm-xcomposer2', 'internlm-xcomposer2_5', 'internlm-xcomposer2-4khd', 'internvl', 'internvl-phi3', 'internvl2', 'internvl2-phi3', 'florence', 'xverse', 'yuan', 'ziya', 'skywork', 'bluelm', 'codefuse-codellama', 'codefuse', 'deepseek-coder', 'llava-next-llama3', 'llava-next-video', 'llava-next-video-yi', 'idefics3', 'llava1_5', 'llava-mistral', 'llava-vicuna', 'llava-yi', 'llama-llava-next-hf', 'llama-qwen-hf', 'llava-onevision-qwen', 'llava-llama-instruct', 'molmo', 'emu3-chat', 'paligemma', 'phi3', 'phi3-vl', 'llama3-llava-next', 'llava-qwen', 'deepseek-vl', 'deepseek-janus', 'zephyr', 'sus', 'orion', 'cogagent-chat', 'cogagent-instruct', 'cogvlm', 'cogvlm2-video', 'minicpm', 'minicpm-v-v2_6', 'minicpm-v-v2_5', 'minicpm-v', 'gemma', 'telechat', 'telechat2', 'dbrx', 'mengzi', 'c4ai', 'aya', 'mplug-owl2', 'mplug_owl3', 'wizardlm2-awq', 'wizardlm2', 'atom'])"
      ]
     },
     "execution_count": 4,
     "metadata": {},
     "output_type": "execute_result"
    }
   ],
   "source": [
    "from swift.llm.utils import template, TEMPLATE_MAPPING\n",
    "TEMPLATE_MAPPING.keys()"
   ]
  },
  {
   "cell_type": "code",
   "execution_count": null,
   "id": "db1bab79-8c2a-48a6-a9fa-269190cdaa6d",
   "metadata": {},
   "outputs": [],
   "source": []
  }
 ],
 "metadata": {
  "kernelspec": {
   "display_name": "torch2",
   "language": "python",
   "name": "torch2"
  },
  "language_info": {
   "codemirror_mode": {
    "name": "ipython",
    "version": 3
   },
   "file_extension": ".py",
   "mimetype": "text/x-python",
   "name": "python",
   "nbconvert_exporter": "python",
   "pygments_lexer": "ipython3",
   "version": "3.10.15"
  }
 },
 "nbformat": 4,
 "nbformat_minor": 5
}
