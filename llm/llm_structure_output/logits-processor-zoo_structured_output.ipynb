{
 "cells": [
  {
   "cell_type": "code",
   "execution_count": 1,
   "id": "cc74c52c-a619-44c8-b044-1820786d7ef9",
   "metadata": {
    "execution": {
     "iopub.execute_input": "2024-11-22T09:17:07.610284Z",
     "iopub.status.busy": "2024-11-22T09:17:07.608830Z",
     "iopub.status.idle": "2024-11-22T09:17:07.940996Z",
     "shell.execute_reply": "2024-11-22T09:17:07.939698Z",
     "shell.execute_reply.started": "2024-11-22T09:17:07.610204Z"
    }
   },
   "outputs": [
    {
     "ename": "ModuleNotFoundError",
     "evalue": "No module named 'vllm'",
     "output_type": "error",
     "traceback": [
      "\u001b[0;31m---------------------------------------------------------------------------\u001b[0m",
      "\u001b[0;31mModuleNotFoundError\u001b[0m                       Traceback (most recent call last)",
      "Cell \u001b[0;32mIn[1], line 13\u001b[0m\n\u001b[1;32m      1\u001b[0m \u001b[38;5;124;03m\"\"\"\u001b[39;00m\n\u001b[1;32m      2\u001b[0m \n\u001b[1;32m      3\u001b[0m \u001b[38;5;124;03m使用logits-processor-zoo进行LLM输出的控制\u001b[39;00m\n\u001b[0;32m   (...)\u001b[0m\n\u001b[1;32m      8\u001b[0m \u001b[38;5;124;03m  TensorRT-LLM\u001b[39;00m\n\u001b[1;32m      9\u001b[0m \u001b[38;5;124;03m\"\"\"\u001b[39;00m\n\u001b[1;32m     12\u001b[0m \u001b[38;5;28;01mimport\u001b[39;00m \u001b[38;5;21;01mos\u001b[39;00m\u001b[38;5;241m,\u001b[39m \u001b[38;5;21;01mjson\u001b[39;00m\n\u001b[0;32m---> 13\u001b[0m \u001b[38;5;28;01mimport\u001b[39;00m \u001b[38;5;21;01mvllm\u001b[39;00m\n\u001b[1;32m     14\u001b[0m \u001b[38;5;28;01mfrom\u001b[39;00m \u001b[38;5;21;01mlogits_processor_zoo\u001b[39;00m\u001b[38;5;21;01m.\u001b[39;00m\u001b[38;5;21;01mvllm\u001b[39;00m \u001b[38;5;28;01mimport\u001b[39;00m GenLengthLogitsProcessor, CiteFromPromptLogitsProcessor, ForceLastPhraseLogitsProcessor\n",
      "\u001b[0;31mModuleNotFoundError\u001b[0m: No module named 'vllm'"
     ]
    }
   ],
   "source": [
    "\n",
    "\"\"\"\n",
    "\n",
    "使用logits-processor-zoo进行LLM输出的控制\n",
    "\n",
    "支持：\n",
    "  transformers\n",
    "  vLLM\n",
    "  TensorRT-LLM\n",
    "\"\"\"\n",
    "\n",
    "\n",
    "import os, json\n",
    "import vllm\n",
    "from logits_processor_zoo.vllm import GenLengthLogitsProcessor, CiteFromPromptLogitsProcessor, ForceLastPhraseLogitsProcessor\n",
    "\n"
   ]
  },
  {
   "cell_type": "code",
   "execution_count": null,
   "id": "2af39a9a-5027-49e0-992b-f7ca1220059f",
   "metadata": {},
   "outputs": [],
   "source": [
    "model_name = \"Qwen/Qwen2-7B-Instruct-AWQ\"\n",
    "model = vllm.LLM(\n",
    "            model_name,\n",
    "            trust_remote_code=True,\n",
    "            dtype=\"half\",\n",
    "            enforce_eager=True\n",
    "        )\n",
    "tokenizer = model.get_tokenizer()\n",
    "        \n",
    "logits_processors = [\n",
    "    CiteFromPromptLogitsProcessor(tokenizer, boost_factor=2.0),\n",
    "    GenLengthLogitsProcessor(tokenizer, boost_factor=-0.2, p=1),\n",
    "    ForceLastPhraseLogitsProcessor(\"\\n\\nReferences:\\n\", tokenizer)\n",
    "]\n",
    "\n",
    "\n",
    "prompts = \"\"\n",
    "\n",
    "gen_output = model.generate(\n",
    "            prompts,\n",
    "            vllm.SamplingParams(\n",
    "                n=1,\n",
    "                temperature=0,\n",
    "                seed=0,\n",
    "                skip_special_tokens=True,\n",
    "                max_tokens=64,\n",
    "                logits_processors=logits_processors\n",
    "            ),\n",
    "            use_tqdm=False\n",
    "        )"
   ]
  }
 ],
 "metadata": {
  "kernelspec": {
   "display_name": "torch2",
   "language": "python",
   "name": "torch2"
  },
  "language_info": {
   "codemirror_mode": {
    "name": "ipython",
    "version": 3
   },
   "file_extension": ".py",
   "mimetype": "text/x-python",
   "name": "python",
   "nbconvert_exporter": "python",
   "pygments_lexer": "ipython3",
   "version": "3.10.15"
  }
 },
 "nbformat": 4,
 "nbformat_minor": 5
}
