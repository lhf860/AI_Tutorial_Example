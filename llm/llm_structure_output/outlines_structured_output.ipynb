{
 "cells": [
  {
   "cell_type": "code",
   "execution_count": 1,
   "id": "aba7d816-4379-4a31-b9a9-ba23ba1d12fb",
   "metadata": {
    "execution": {
     "iopub.execute_input": "2024-11-22T08:59:27.978642Z",
     "iopub.status.busy": "2024-11-22T08:59:27.977410Z",
     "iopub.status.idle": "2024-11-22T08:59:37.148640Z",
     "shell.execute_reply": "2024-11-22T08:59:37.147333Z",
     "shell.execute_reply.started": "2024-11-22T08:59:27.978565Z"
    }
   },
   "outputs": [],
   "source": [
    "\"\"\"\n",
    "利用outlines获取结构化输出\n",
    "\"\"\"\n",
    "\n",
    "import os, json\n",
    "import outlines\n",
    "\n"
   ]
  },
  {
   "cell_type": "code",
   "execution_count": 2,
   "id": "8a209257-e11c-443b-9d0c-62648ac2cc29",
   "metadata": {
    "execution": {
     "iopub.execute_input": "2024-11-22T08:59:37.149817Z",
     "iopub.status.busy": "2024-11-22T08:59:37.149634Z",
     "iopub.status.idle": "2024-11-22T08:59:40.900345Z",
     "shell.execute_reply": "2024-11-22T08:59:40.899171Z",
     "shell.execute_reply.started": "2024-11-22T08:59:37.149797Z"
    }
   },
   "outputs": [
    {
     "data": {
      "application/vnd.jupyter.widget-view+json": {
       "model_id": "848c3589a1d740f3ac0502e24e74ea33",
       "version_major": 2,
       "version_minor": 0
      },
      "text/plain": [
       "Loading checkpoint shards:   0%|          | 0/2 [00:00<?, ?it/s]"
      ]
     },
     "metadata": {},
     "output_type": "display_data"
    }
   ],
   "source": [
    "\n",
    "model = outlines.models.transformers(\"/root/autodl-tmp/modelscope_cache/hub/Qwen/Qwen2-7B-Instruct-AWQ\",device=\"cuda\")\n",
    "# model = outlines.models.transformers(\"Qwen/Qwen2-7B-Instruct-AWQ\",device=\"cuda\")\n",
    "\n",
    "\n"
   ]
  },
  {
   "cell_type": "code",
   "execution_count": 3,
   "id": "b988dd36-c090-49e9-ba57-334164fdc6cd",
   "metadata": {
    "execution": {
     "iopub.execute_input": "2024-11-22T08:59:40.901695Z",
     "iopub.status.busy": "2024-11-22T08:59:40.901353Z",
     "iopub.status.idle": "2024-11-22T08:59:41.908853Z",
     "shell.execute_reply": "2024-11-22T08:59:41.907701Z",
     "shell.execute_reply.started": "2024-11-22T08:59:40.901674Z"
    }
   },
   "outputs": [
    {
     "name": "stdout",
     "output_type": "stream",
     "text": [
      "Positive\n"
     ]
    }
   ],
   "source": [
    "# 多项选择\n",
    "prompt = \"\"\"You are a sentiment-labelling assistant.\n",
    "Is the following review positive or negative?\n",
    "\n",
    "Review: This restaurant is just awesome!\n",
    "\"\"\"\n",
    "generator = outlines.generate.choice(model, [\"Positive\", \"Negative\"])\n",
    "answer = generator(prompt)\n",
    "print(answer)"
   ]
  },
  {
   "cell_type": "code",
   "execution_count": 4,
   "id": "1d7ae835-d0ae-492c-9621-4eb69b8fba07",
   "metadata": {
    "execution": {
     "iopub.execute_input": "2024-11-22T08:59:41.910003Z",
     "iopub.status.busy": "2024-11-22T08:59:41.909815Z",
     "iopub.status.idle": "2024-11-22T08:59:42.102037Z",
     "shell.execute_reply": "2024-11-22T08:59:42.100904Z",
     "shell.execute_reply.started": "2024-11-22T08:59:41.909983Z"
    }
   },
   "outputs": [
    {
     "name": "stdout",
     "output_type": "stream",
     "text": [
      "10 <class 'int'>\n"
     ]
    }
   ],
   "source": [
    "\n",
    "# 类型限制\n",
    "\n",
    "prompt = \"\"\" 计算下面的数学表达式并返回结果。\n",
    "2 * 3 + 4 =\n",
    "\"\"\"\n",
    "\n",
    "answer = outlines.generate.format(model, int)(prompt)\n",
    "\n",
    "print(answer, type(answer))\n",
    "\n"
   ]
  },
  {
   "cell_type": "code",
   "execution_count": 8,
   "id": "ef9dccaf-4870-4dbe-b73a-56fbb799cb90",
   "metadata": {
    "execution": {
     "iopub.execute_input": "2024-11-22T09:04:25.755962Z",
     "iopub.status.busy": "2024-11-22T09:04:25.755198Z",
     "iopub.status.idle": "2024-11-22T09:04:31.677889Z",
     "shell.execute_reply": "2024-11-22T09:04:31.676606Z",
     "shell.execute_reply.started": "2024-11-22T09:04:25.755905Z"
    }
   },
   "outputs": [
    {
     "name": "stdout",
     "output_type": "stream",
     "text": [
      "names=['张三', '李四'] citys=['上海', '北京']\n"
     ]
    }
   ],
   "source": [
    "\n",
    "# 利用Pydantic来实现结构化信息抽取\n",
    "from pydantic import BaseModel, Field\n",
    "from typing import List, Annotated\n",
    "\n",
    "\n",
    "\n",
    "class NameLocation(BaseModel):\n",
    "\n",
    "    names: Annotated[List[str], Field(description=\"抽取所有的姓名\")]\n",
    "    citys: Annotated[List[str], Field(description=\"抽取所有的城市\")]\n",
    "\n",
    "\n",
    "\n",
    "generator = outlines.generate.json(model, NameLocation)\n",
    "\n",
    "print(generator(\"张三和李四都喜欢上海\"))\n"
   ]
  },
  {
   "cell_type": "code",
   "execution_count": null,
   "id": "272bed50-1db4-4b74-a36b-e0a33a120238",
   "metadata": {},
   "outputs": [],
   "source": [
    "\n",
    "\n"
   ]
  }
 ],
 "metadata": {
  "kernelspec": {
   "display_name": "torch2",
   "language": "python",
   "name": "torch2"
  },
  "language_info": {
   "codemirror_mode": {
    "name": "ipython",
    "version": 3
   },
   "file_extension": ".py",
   "mimetype": "text/x-python",
   "name": "python",
   "nbconvert_exporter": "python",
   "pygments_lexer": "ipython3",
   "version": "3.10.15"
  }
 },
 "nbformat": 4,
 "nbformat_minor": 5
}
