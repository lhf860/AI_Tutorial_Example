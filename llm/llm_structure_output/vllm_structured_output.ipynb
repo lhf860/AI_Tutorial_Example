{
 "cells": [
  {
   "cell_type": "code",
   "execution_count": 1,
   "id": "2364bbb6-d554-44d7-9d15-5e44680445dd",
   "metadata": {
    "execution": {
     "iopub.execute_input": "2024-11-22T08:22:46.436630Z",
     "iopub.status.busy": "2024-11-22T08:22:46.436269Z",
     "iopub.status.idle": "2024-11-22T08:22:46.896040Z",
     "shell.execute_reply": "2024-11-22T08:22:46.894943Z",
     "shell.execute_reply.started": "2024-11-22T08:22:46.436581Z"
    }
   },
   "outputs": [],
   "source": [
    "\"\"\"\n",
    "利用VLLM部署Qwen大模型，并获取结构化输出\n",
    "\n",
    "\"\"\"\n",
    "\n",
    "import json\n",
    "from openai import OpenAI\n",
    "from pydantic import BaseModel, Field\n",
    "from typing import Optional, List, Annotated\n",
    "\n",
    "\n"
   ]
  },
  {
   "cell_type": "code",
   "execution_count": 2,
   "id": "0c3820dc-aaa9-499d-815f-4e7dafd5f57e",
   "metadata": {
    "execution": {
     "iopub.execute_input": "2024-11-22T08:22:46.897133Z",
     "iopub.status.busy": "2024-11-22T08:22:46.896961Z",
     "iopub.status.idle": "2024-11-22T08:22:46.901509Z",
     "shell.execute_reply": "2024-11-22T08:22:46.900580Z",
     "shell.execute_reply.started": "2024-11-22T08:22:46.897113Z"
    }
   },
   "outputs": [],
   "source": [
    "# 部署qwen的命令\n",
    "# !python -m vllm.entrypoints.openai.api_server --served-model-name Qwen/Qwen2-7B-Instruct-AWQ  --model Qwen/Qwen2-7B-Instruct-AWQ --quantization awq --gpu-memory-utilization 0.4 --max-model-len 2048 \n"
   ]
  },
  {
   "cell_type": "code",
   "execution_count": 3,
   "id": "c7903e1e-e0bc-48df-af7e-34122fc141e8",
   "metadata": {
    "execution": {
     "iopub.execute_input": "2024-11-22T08:22:46.902334Z",
     "iopub.status.busy": "2024-11-22T08:22:46.902184Z",
     "iopub.status.idle": "2024-11-22T08:23:09.362040Z",
     "shell.execute_reply": "2024-11-22T08:23:09.360152Z",
     "shell.execute_reply.started": "2024-11-22T08:22:46.902316Z"
    }
   },
   "outputs": [
    {
     "name": "stdout",
     "output_type": "stream",
     "text": [
      "{'names': ['张三', '李四'], 'citys': ['上海']}\n"
     ]
    }
   ],
   "source": [
    "\n",
    "# Set OpenAI's API key and API base to use vLLM's API server.\n",
    "openai_api_key = \"EMPTY\"\n",
    "openai_api_base = \"http://localhost:8000/v1\"\n",
    "\n",
    "client = OpenAI(\n",
    "    api_key=openai_api_key,\n",
    "    base_url=openai_api_base,\n",
    ")\n",
    "\n",
    "class NameLocation(BaseModel):\n",
    "\n",
    "    names: Annotated[List[str], Field(description=\"抽取所有的姓名\")]\n",
    "    citys: Annotated[List[str], Field(description=\"抽取所有的城市\")]\n",
    "\n",
    "chat_response = client.chat.completions.create(\n",
    "    model=\"Qwen/Qwen2-7B-Instruct-AWQ\",\n",
    "    messages=[\n",
    "        {\"role\": \"system\", \"content\": \"You are a helpful assistant.\"},\n",
    "        {\"role\": \"user\", \"content\": \"抽取下面query中的姓名和城市。\\nquery：张三和李四都喜欢上海\"},\n",
    "    ],\n",
    "    temperature=0.01,\n",
    "    extra_body={\"guided_json\":NameLocation.model_json_schema()}  # https://github.com/vllm-project/vllm/blob/v0.6.0/vllm/engine/arg_utils.py#L276\n",
    ")\n",
    "\n",
    "\n",
    "result = json.loads(chat_response.choices[0].message.content)\n",
    "print(result)\n",
    "\n"
   ]
  },
  {
   "cell_type": "code",
   "execution_count": null,
   "id": "09fdf3a5-012c-4343-8686-3df0b28c0488",
   "metadata": {},
   "outputs": [],
   "source": []
  }
 ],
 "metadata": {
  "kernelspec": {
   "display_name": "torch2",
   "language": "python",
   "name": "torch2"
  },
  "language_info": {
   "codemirror_mode": {
    "name": "ipython",
    "version": 3
   },
   "file_extension": ".py",
   "mimetype": "text/x-python",
   "name": "python",
   "nbconvert_exporter": "python",
   "pygments_lexer": "ipython3",
   "version": "3.10.15"
  }
 },
 "nbformat": 4,
 "nbformat_minor": 5
}
