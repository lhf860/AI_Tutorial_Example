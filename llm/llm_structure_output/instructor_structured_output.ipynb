{
 "cells": [
  {
   "cell_type": "code",
   "execution_count": 1,
   "id": "f7fcc320-feea-4a2c-a7c6-a0d520acb3c0",
   "metadata": {
    "execution": {
     "iopub.execute_input": "2024-12-01T03:02:18.382742Z",
     "iopub.status.busy": "2024-12-01T03:02:18.382081Z",
     "iopub.status.idle": "2024-12-01T03:02:18.392707Z",
     "shell.execute_reply": "2024-12-01T03:02:18.390329Z",
     "shell.execute_reply.started": "2024-12-01T03:02:18.382680Z"
    }
   },
   "outputs": [],
   "source": [
    "\n",
    "import os, json\n",
    "from openai import OpenAI\n"
   ]
  },
  {
   "cell_type": "code",
   "execution_count": 8,
   "id": "37fb93c6-4ffb-47ff-9f20-1fff355e61a1",
   "metadata": {
    "execution": {
     "iopub.execute_input": "2024-12-01T03:09:14.527092Z",
     "iopub.status.busy": "2024-12-01T03:09:14.526709Z",
     "iopub.status.idle": "2024-12-01T03:09:15.299284Z",
     "shell.execute_reply": "2024-12-01T03:09:15.296908Z",
     "shell.execute_reply.started": "2024-12-01T03:09:14.527060Z"
    }
   },
   "outputs": [
    {
     "name": "stdout",
     "output_type": "stream",
     "text": [
      "names=['张三', '李四'] citys=['上海']\n",
      "['张三', '李四'] ['上海']\n"
     ]
    }
   ],
   "source": [
    "import instructor\n",
    "from pydantic import BaseModel\n",
    "from typing import Annotated, List\n",
    "from pydantic import Field\n",
    "\n",
    "# Set OpenAI's API key and API base to use vLLM's API server.\n",
    "openai_api_key = \"EMPTY\"\n",
    "openai_api_base = \"http://localhost:8000/v1\"\n",
    "\n",
    "\n",
    "\n",
    "\n",
    "client = instructor.from_openai(OpenAI(api_key=openai_api_key,base_url=openai_api_base))\n",
    "\n",
    "class NameLocation(BaseModel):\n",
    "\n",
    "    names: Annotated[List[str], Field(description=\"抽取所有的姓名\")]\n",
    "    citys: Annotated[List[str], Field(description=\"抽取所有的城市\")]\n",
    "\n",
    "chat_response = client.chat.completions.create(\n",
    "    model=\"Qwen/Qwen2-7B-Instruct-AWQ\",\n",
    "    response_model=NameLocation,\n",
    "    messages=[\n",
    "        {\"role\": \"system\", \"content\": \"You are a helpful assistant.\"},\n",
    "        {\"role\": \"user\", \"content\": \"抽取下面query中的姓名和城市。\\nquery：张三和李四都喜欢上海\"},\n",
    "    ],\n",
    "    temperature=0.01,\n",
    "    extra_body={\"guided_json\":NameLocation.model_json_schema()}  # https://github.com/vllm-project/vllm/blob/v0.6.0/vllm/engine/arg_utils.py#L276\n",
    ")\n",
    "\n",
    "\n",
    "\n",
    "print(chat_response)\n",
    "print(chat_response.names, chat_response.citys)"
   ]
  },
  {
   "cell_type": "code",
   "execution_count": null,
   "id": "383bf951-b421-4b6b-b784-f07a2456d59c",
   "metadata": {},
   "outputs": [],
   "source": []
  }
 ],
 "metadata": {
  "kernelspec": {
   "display_name": "torch2",
   "language": "python",
   "name": "torch2"
  },
  "language_info": {
   "codemirror_mode": {
    "name": "ipython",
    "version": 3
   },
   "file_extension": ".py",
   "mimetype": "text/x-python",
   "name": "python",
   "nbconvert_exporter": "python",
   "pygments_lexer": "ipython3",
   "version": "3.10.15"
  }
 },
 "nbformat": 4,
 "nbformat_minor": 5
}
