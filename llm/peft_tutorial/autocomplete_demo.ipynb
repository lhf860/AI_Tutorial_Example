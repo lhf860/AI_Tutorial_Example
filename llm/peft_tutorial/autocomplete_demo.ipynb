{
 "cells": [
  {
   "cell_type": "code",
   "execution_count": 1,
   "metadata": {
    "execution": {
     "iopub.execute_input": "2024-06-25T07:31:19.932790Z",
     "iopub.status.busy": "2024-06-25T07:31:19.932272Z",
     "iopub.status.idle": "2024-06-25T07:31:24.428349Z",
     "shell.execute_reply": "2024-06-25T07:31:24.426451Z",
     "shell.execute_reply.started": "2024-06-25T07:31:19.932755Z"
    }
   },
   "outputs": [
    {
     "name": "stdout",
     "output_type": "stream",
     "text": [
      "2.1.2+cu121\n"
     ]
    }
   ],
   "source": [
    "\n",
    "\n",
    "from transformers import AutoTokenizer, AutoModelForCausalLM\n",
    "from datasets import Dataset, load_dataset\n",
    "\n",
    "from peft import PrefixTuningConfig, PrefixEncoder, TaskType\n",
    "import torch\n",
    "\n",
    "print(torch.__version__)"
   ]
  },
  {
   "cell_type": "code",
   "execution_count": 2,
   "metadata": {
    "execution": {
     "iopub.execute_input": "2024-06-25T07:31:25.295633Z",
     "iopub.status.busy": "2024-06-25T07:31:25.294950Z",
     "iopub.status.idle": "2024-06-25T07:31:25.342098Z",
     "shell.execute_reply": "2024-06-25T07:31:25.340159Z",
     "shell.execute_reply.started": "2024-06-25T07:31:25.295587Z"
    }
   },
   "outputs": [],
   "source": [
    "\n",
    "from transformers import BertForSequenceClassification\n",
    "\n",
    "\n",
    "\n",
    "\n",
    "\n"
   ]
  },
  {
   "cell_type": "code",
   "execution_count": null,
   "metadata": {},
   "outputs": [],
   "source": [
    "from peft import IA3Config,TaskType, get_peft_model "
   ]
  }
 ],
 "metadata": {
  "kernelspec": {
   "display_name": "Python 3 (ipykernel)",
   "language": "python",
   "name": "python3"
  },
  "language_info": {
   "codemirror_mode": {
    "name": "ipython",
    "version": 3
   },
   "file_extension": ".py",
   "mimetype": "text/x-python",
   "name": "python",
   "nbconvert_exporter": "python",
   "pygments_lexer": "ipython3",
   "version": "3.10.8"
  }
 },
 "nbformat": 4,
 "nbformat_minor": 4
}
