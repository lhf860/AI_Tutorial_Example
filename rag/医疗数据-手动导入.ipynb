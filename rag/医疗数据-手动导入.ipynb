{
 "cells": [
  {
   "cell_type": "code",
   "execution_count": 1,
   "id": "a986d0ca-7df5-4e8b-bc10-f7497269ae8c",
   "metadata": {
    "execution": {
     "iopub.execute_input": "2024-10-16T07:03:23.029737Z",
     "iopub.status.busy": "2024-10-16T07:03:23.029138Z",
     "iopub.status.idle": "2024-10-16T07:03:23.427552Z",
     "shell.execute_reply": "2024-10-16T07:03:23.425889Z",
     "shell.execute_reply.started": "2024-10-16T07:03:23.029678Z"
    }
   },
   "outputs": [],
   "source": [
    "\"\"\"\n",
    "\n",
    "将医疗数据集导入到ES，导入方法不是按照langchain的方式进行导入\n",
    "\n",
    "\"\"\"\n",
    "import os, json\n",
    "import pandas as pd\n",
    "import numpy as np\n",
    "from elasticsearch import Elasticsearch\n",
    "\n"
   ]
  },
  {
   "cell_type": "code",
   "execution_count": 2,
   "id": "2165e529-02f3-4afb-a41e-9abe8796fc7a",
   "metadata": {
    "execution": {
     "iopub.execute_input": "2024-10-16T07:04:48.650959Z",
     "iopub.status.busy": "2024-10-16T07:04:48.649344Z",
     "iopub.status.idle": "2024-10-16T07:04:48.751162Z",
     "shell.execute_reply": "2024-10-16T07:04:48.749048Z",
     "shell.execute_reply.started": "2024-10-16T07:04:48.650848Z"
    }
   },
   "outputs": [
    {
     "name": "stdout",
     "output_type": "stream",
     "text": [
      "{'name': 'autodl-container-5525458f7b-77aecf75', 'cluster_name': 'elasticsearch', 'cluster_uuid': 'lce4zL7nTHO9vV4feMmyWQ', 'version': {'number': '8.15.1', 'build_flavor': 'default', 'build_type': 'tar', 'build_hash': '253e8544a65ad44581194068936f2a5d57c2c051', 'build_date': '2024-09-02T22:04:47.310170297Z', 'build_snapshot': False, 'lucene_version': '9.11.1', 'minimum_wire_compatibility_version': '7.17.0', 'minimum_index_compatibility_version': '7.0.0'}, 'tagline': 'You Know, for Search'}\n"
     ]
    }
   ],
   "source": [
    "\n",
    "\n",
    "client = Elasticsearch(\"http://localhost:9200\")\n",
    "\n",
    "print(client.info())\n",
    "\n"
   ]
  },
  {
   "cell_type": "code",
   "execution_count": 5,
   "id": "79ac70c1-7dbf-4351-8062-260ae5a15154",
   "metadata": {
    "execution": {
     "iopub.execute_input": "2024-10-16T07:52:24.352451Z",
     "iopub.status.busy": "2024-10-16T07:52:24.351847Z",
     "iopub.status.idle": "2024-10-16T07:54:21.756309Z",
     "shell.execute_reply": "2024-10-16T07:54:21.754773Z",
     "shell.execute_reply.started": "2024-10-16T07:52:24.352404Z"
    }
   },
   "outputs": [
    {
     "name": "stderr",
     "output_type": "stream",
     "text": [
      "2024-10-16 15:52:26,411 - modelscope - WARNING - Using branch: master as version is unstable, use with caution\n"
     ]
    },
    {
     "name": "stdout",
     "output_type": "stream",
     "text": [
      "转换embedding\n"
     ]
    },
    {
     "name": "stderr",
     "output_type": "stream",
     "text": [
      "Inference Embeddings: 100%|██████████| 348/348 [01:52<00:00,  3.10it/s]\n"
     ]
    }
   ],
   "source": [
    "\n",
    "all_example_list = []\n",
    "all_query_list = []\n",
    "with open(\"FreedomIntelligence___huatuo26_m-lite/format_data.jsonl\", \"r\", encoding=\"utf-8\") as fin:\n",
    "    for line in fin:\n",
    "        # print(line.strip())\n",
    "        example_qa = json.loads(line)\n",
    "        all_query_list.append(example_qa[\"question\"])\n",
    "        all_example_list.append(example_qa)\n",
    "        \n",
    "\n",
    "\n",
    "from modelscope import snapshot_download\n",
    "embedding_model_dir = snapshot_download(\"AI-ModelScope/bge-base-zh-v1.5\", revision='master', cache_dir=\"./bge-base-zh-v1.5\")\n",
    "\n",
    "\n",
    "# embedding_model_dir  = \"./bge-base-zh-v1.5\"\n",
    "from FlagEmbedding import FlagModel\n",
    "\n",
    "embedding_model = FlagModel(embedding_model_dir, query_instruction_for_retrieval=\"为这个句子生成表示以用于检索相关文章：\",\n",
    "                  use_fp16=True)\n",
    "\n",
    "\n",
    "print(\"转换embedding\")\n",
    "query_embeddings = embedding_model.encode_corpus(all_query_list, batch_size=512)\n",
    "\n",
    "for i in range(len(all_query_list)):\n",
    "    all_example_list[i][\"question_vector\"] = query_embeddings[0]\n"
   ]
  },
  {
   "cell_type": "code",
   "execution_count": 7,
   "id": "2d2f36ea-51fe-4fb0-8cb3-ab6580c768a3",
   "metadata": {
    "execution": {
     "iopub.execute_input": "2024-10-16T08:03:38.880710Z",
     "iopub.status.busy": "2024-10-16T08:03:38.880136Z",
     "iopub.status.idle": "2024-10-16T08:03:38.887893Z",
     "shell.execute_reply": "2024-10-16T08:03:38.886867Z",
     "shell.execute_reply.started": "2024-10-16T08:03:38.880675Z"
    },
    "scrolled": true
   },
   "outputs": [
    {
     "data": {
      "text/plain": [
       "768"
      ]
     },
     "execution_count": 7,
     "metadata": {},
     "output_type": "execute_result"
    }
   ],
   "source": [
    "\n",
    "len(all_example_list[0][\"question_vector\"])\n"
   ]
  },
  {
   "cell_type": "code",
   "execution_count": 11,
   "id": "fec3fde6-6f02-43b3-b913-59189129dc29",
   "metadata": {
    "execution": {
     "iopub.execute_input": "2024-10-16T08:07:31.201003Z",
     "iopub.status.busy": "2024-10-16T08:07:31.200434Z",
     "iopub.status.idle": "2024-10-16T08:07:31.471618Z",
     "shell.execute_reply": "2024-10-16T08:07:31.469768Z",
     "shell.execute_reply.started": "2024-10-16T08:07:31.200955Z"
    }
   },
   "outputs": [
    {
     "name": "stdout",
     "output_type": "stream",
     "text": [
      "{'acknowledged': True, 'shards_acknowledged': True, 'index': 'rag_es_index'}\n"
     ]
    }
   ],
   "source": [
    "\n",
    "from elasticsearch import helpers\n",
    "\n",
    "\n",
    "\n",
    "mapping = {\n",
    "    \"properties\": {\n",
    "      \"id\": {\n",
    "        \"type\": \"long\"\n",
    "      },\n",
    "      \"answer\": {\n",
    "        \"type\": \"text\",\n",
    "        \"analyzer\": \"ik_max_word\",\n",
    "        \"search_analyzer\": \"ik_smart\"\n",
    "      },\n",
    "      \"score\": {\n",
    "        \"type\": \"integer\"\n",
    "      },\n",
    "      \"label\": {\n",
    "        \"type\": \"keyword\"\n",
    "      },\n",
    "      \"question\": {\n",
    "        \"type\": \"text\",\n",
    "        \"analyzer\": \"ik_max_word\",\n",
    "        \"search_analyzer\": \"ik_smart\"\n",
    "      },\n",
    "      \"related_diseases\": {\n",
    "        \"type\": \"keyword\"\n",
    "      },\n",
    "      \"question_vector\": {\n",
    "        \"type\": \"dense_vector\",\n",
    "        \"dims\": 768,\n",
    "        \"similarity\": \"cosine\"\n",
    "      }\n",
    "    }\n",
    "  }\n",
    "\n",
    "# client.indices.create(index=\"my_index\", mappings=mappings)\n",
    "client.indices\n",
    "create_response = client.indices.create(index=\"rag_es_index\", mappings=mapping)\n",
    "print(create_response)\n"
   ]
  },
  {
   "cell_type": "code",
   "execution_count": 13,
   "id": "08e55be8-9459-436b-8a45-d774d0574d80",
   "metadata": {
    "execution": {
     "iopub.execute_input": "2024-10-16T08:10:01.812029Z",
     "iopub.status.busy": "2024-10-16T08:10:01.811203Z",
     "iopub.status.idle": "2024-10-16T08:10:10.636788Z",
     "shell.execute_reply": "2024-10-16T08:10:10.635282Z",
     "shell.execute_reply.started": "2024-10-16T08:10:01.811946Z"
    }
   },
   "outputs": [
    {
     "name": "stderr",
     "output_type": "stream",
     "text": [
      "100%|██████████| 177703/177703 [00:08<00:00, 20169.90it/s]"
     ]
    },
    {
     "name": "stdout",
     "output_type": "stream",
     "text": [
      "<class 'list'>\n"
     ]
    },
    {
     "name": "stderr",
     "output_type": "stream",
     "text": [
      "\n"
     ]
    }
   ],
   "source": [
    "from tqdm import tqdm\n",
    "all_new_example_list = []\n",
    "for example_qa in tqdm(all_example_list):\n",
    "    example_qa[\"question_vector\"] = list(example_qa[\"question_vector\"])\n",
    "    all_new_example_list.append(example_qa)\n",
    "\n",
    "print(type(all_new_example_list[0][\"question_vector\"]))\n"
   ]
  },
  {
   "cell_type": "code",
   "execution_count": 15,
   "id": "493b8042-b1a6-4524-8ec8-cbb6955a3052",
   "metadata": {
    "execution": {
     "iopub.execute_input": "2024-10-16T08:14:33.026384Z",
     "iopub.status.busy": "2024-10-16T08:14:33.025325Z",
     "iopub.status.idle": "2024-10-16T08:23:04.410024Z",
     "shell.execute_reply": "2024-10-16T08:23:04.408892Z",
     "shell.execute_reply.started": "2024-10-16T08:14:33.026277Z"
    }
   },
   "outputs": [
    {
     "data": {
      "text/plain": [
       "(177703, [])"
      ]
     },
     "execution_count": 15,
     "metadata": {},
     "output_type": "execute_result"
    }
   ],
   "source": [
    "\n",
    "from elasticsearch import helpers\n",
    "\n",
    "# 为每个样本添加索引\n",
    "all_new_example_list_added_index = []\n",
    "for example_qa in all_new_example_list:\n",
    "    example_qa[\"_index\"] = \"rag_es_index\"\n",
    "    all_new_example_list_added_index.append(example_qa)\n",
    "    \n",
    "# 预计耗费8分钟\n",
    "helpers.bulk(client=client, actions=all_new_example_list_added_index)\n",
    "\n"
   ]
  },
  {
   "cell_type": "code",
   "execution_count": 20,
   "id": "aa9bcb08-7951-43da-8233-3597f10f7110",
   "metadata": {
    "execution": {
     "iopub.execute_input": "2024-10-16T13:03:21.404417Z",
     "iopub.status.busy": "2024-10-16T13:03:21.403842Z",
     "iopub.status.idle": "2024-10-16T13:03:21.410550Z",
     "shell.execute_reply": "2024-10-16T13:03:21.409710Z",
     "shell.execute_reply.started": "2024-10-16T13:03:21.404382Z"
    }
   },
   "outputs": [
    {
     "data": {
      "text/plain": [
       "['眼耳鼻喉科',\n",
       " '皮肤性病科',\n",
       " '眼耳鼻喉科',\n",
       " '皮肤性病科',\n",
       " '皮肤性病科',\n",
       " '感染与免疫科',\n",
       " '口腔科',\n",
       " '皮肤性病科',\n",
       " '肿瘤科',\n",
       " '儿科']"
      ]
     },
     "execution_count": 20,
     "metadata": {},
     "output_type": "execute_result"
    }
   ],
   "source": [
    "[ex[\"label\"] for ex in all_example_list[:10]]"
   ]
  },
  {
   "cell_type": "code",
   "execution_count": 46,
   "id": "48540de5-2ccf-4eb8-b22d-8d90608bd2a6",
   "metadata": {
    "execution": {
     "iopub.execute_input": "2024-10-16T13:35:21.918458Z",
     "iopub.status.busy": "2024-10-16T13:35:21.917434Z",
     "iopub.status.idle": "2024-10-16T13:35:21.946342Z",
     "shell.execute_reply": "2024-10-16T13:35:21.944718Z",
     "shell.execute_reply.started": "2024-10-16T13:35:21.918374Z"
    },
    "scrolled": true
   },
   "outputs": [
    {
     "name": "stdout",
     "output_type": "stream",
     "text": [
      "768\n"
     ]
    }
   ],
   "source": [
    "# 定义embedding模型\n",
    "\n",
    "# embedding_model \n",
    "# 上述模型已经定好了\n",
    "\n",
    "\n",
    "query = \"成年人感冒流鼻涕应该吃什么药\"\n",
    "label = \"儿科\"\n",
    "\n",
    "query_embedding = embedding_model.encode_queries(queries=query)\n",
    "\n",
    "print(len(list(query_embedding)))\n",
    "\n",
    "\n",
    "\n"
   ]
  },
  {
   "cell_type": "code",
   "execution_count": 49,
   "id": "cb37f6ee-18a8-4d70-ae8d-e0f37a7af09c",
   "metadata": {
    "execution": {
     "iopub.execute_input": "2024-10-16T13:43:16.196959Z",
     "iopub.status.busy": "2024-10-16T13:43:16.196105Z",
     "iopub.status.idle": "2024-10-16T13:43:16.319459Z",
     "shell.execute_reply": "2024-10-16T13:43:16.317839Z",
     "shell.execute_reply.started": "2024-10-16T13:43:16.196892Z"
    }
   },
   "outputs": [],
   "source": [
    "\n",
    "\n",
    "query = \"成年人感冒流鼻涕应该吃什么药\"\n",
    "label = \"儿科\"\n",
    "\n",
    "query_embedding = embedding_model.encode_queries(queries=query).tolist()\n",
    "\n",
    "# 貌似这个效果好\n",
    "# response = client.search(index=\"rag_es_index\", query={\"bool\": {\"should\": [{\"term\": {\"label\": label}}, \n",
    "#                                                                           {\"match\": {\"question\": {\"query\": query}}}]}})\n",
    "\n",
    "\n",
    "\n",
    "# response = client.search(index=\"rag_es_index\", query={\"bool\": {\"should\": [{\"term\": {\"label\": {\"value\": query, \"boost\": 0.1}}}, \n",
    "#                                                                           {\"match\": {\"question\": {\"query\": query, \"boost\": 0.9}}}]}})\n",
    "\n",
    "response = client.search(index=\"rag_es_index\", query={\"bool\": {\"should\": [{\"term\": {\"label\": {\"value\": query, \"boost\": 0.1}}}, \n",
    "                                                                          {\"match\": {\"question\": {\"query\": query, \"boost\": 0.9}}}]}},\n",
    "                        knn={\"field\": \"question_vector\", \"query_vector\": query_embedding, \"k\": 5, \"num_candidates\": 10, \"boost\": 1.5},\n",
    "                        source=[\"question\", \"answer\", \"label\", \"related_diseases\", \"score\"])\n",
    "\n"
   ]
  },
  {
   "cell_type": "code",
   "execution_count": 50,
   "id": "aee8ae85-c005-4610-84fc-be9dd1b24dba",
   "metadata": {
    "execution": {
     "iopub.execute_input": "2024-10-16T13:43:17.215882Z",
     "iopub.status.busy": "2024-10-16T13:43:17.214855Z",
     "iopub.status.idle": "2024-10-16T13:43:17.233643Z",
     "shell.execute_reply": "2024-10-16T13:43:17.232105Z",
     "shell.execute_reply.started": "2024-10-16T13:43:17.215797Z"
    }
   },
   "outputs": [
    {
     "data": {
      "text/plain": [
       "[{'_index': 'rag_es_index',\n",
       "  '_id': 'tltnlJIBHqNJn9d5SQau',\n",
       "  '_score': 18.897446,\n",
       "  '_source': {'answer': '根据你描述的症状，可能是感冒引起的。建议注意保暖，多喝水。',\n",
       "   'score': 4,\n",
       "   'label': '眼耳鼻喉科',\n",
       "   'question': '我最近10多天经常这样，打喷嚏，流鼻涕，不知道吃什么药。请问医生这是感冒还是鼻炎。应该吃什么药。谢谢！',\n",
       "   'related_diseases': '鼻炎'}},\n",
       " {'_index': 'rag_es_index',\n",
       "  '_id': 'pVtolJIBHqNJn9d5m35l',\n",
       "  '_score': 18.605427,\n",
       "  '_source': {'answer': '哺乳期感冒了，应该注意饮食，以容易消化的软食为主，如果症状严重，需要同时口服抗生素。如果不能吃药的情况下，可以选择使用一些退烧贴进行一些身体的降温。药物治疗的话，还是建议到一个医院进行一个详细的检查，在专业的指导下进行一个药物使用。',\n",
       "   'score': 4,\n",
       "   'label': '妇产科',\n",
       "   'question': '我这几天感冒了，一直流鼻涕还有点咳嗽，好怕传染给宝宝，哺乳期，母亲感冒发烧，影响孩子吃奶吗？应该吃什么药？这个应该怎么办，哺乳期宝妈感冒了吃什么药？',\n",
       "   'related_diseases': '感冒'}},\n",
       " {'_index': 'rag_es_index',\n",
       "  '_id': '0VtolJIBHqNJn9d5TWSR',\n",
       "  '_score': 18.5161,\n",
       "  '_source': {'answer': '针对感冒引起的流鼻涕，可以采取以下措施缓解症状：保持室内空气湿润，多喝水，多休息，避免吸烟和二手烟，可以使用盐水漱口或者盐水鼻喷来缓解鼻塞和流鼻涕。\\n如果感冒后经常流的鼻涕为清水状，可以服用相关药物等治疗鼻黏膜充血、水肿。如果鼻涕为黄脓鼻涕，同时伴有嗓子痛的时候，感冒可能是由于细菌感染所引起的。药物的选择，一定要按照说明书进行用药。',\n",
       "   'score': 5,\n",
       "   'label': '内科',\n",
       "   'question': '我感冒已经几天了，这两天总是流鼻涕，有什么办法可以快速缓解的吗，我想问一下感冒后经常流鼻涕应该吃什么药呢？',\n",
       "   'related_diseases': '感冒'}},\n",
       " {'_index': 'rag_es_index',\n",
       "  '_id': 'JlxqlJIBHqNJn9d5wj6x',\n",
       "  '_score': 17.06527,\n",
       "  '_source': {'answer': '口服鼻炎片和感冒胶囊治疗，注意保暖，避免受凉，可以用热毛巾进行热敷鼻腔。清火胶囊不适合用于治疗感冒引起的症状，不建议使用。如果症状严重或持续时间较长，建议及时就医。祝早日康复。',\n",
       "   'score': 5,\n",
       "   'label': '内科',\n",
       "   'question': '感冒了，打喷嚏，流鼻涕吃什么药好的最快！我吃过感冒胶囊和新康泰克。又有点上火想吃清火胶囊，想快点好起来。打喷嚏流鼻涕吃什么药？',\n",
       "   'related_diseases': '感冒'}},\n",
       " {'_index': 'rag_es_index',\n",
       "  '_id': '6lxrlJIBHqNJn9d5l4jt',\n",
       "  '_score': 16.872059,\n",
       "  '_source': {'answer': '根据描述，小孩可能是感冒引起的鼻涕，也可能是过敏引起的鼻涕，需要根据鼻涕的颜色来判断是否感染了病毒。建议服用一些常见的感冒药物，如桑菊感冒片、小儿感冒冲剂、板蓝根冲剂、银翘解毒、六神丸、维生素C等。',\n",
       "   'score': 4,\n",
       "   'label': '儿科',\n",
       "   'question': '小孩感冒后一直流鼻涕，流个不停，吃什么药能够停止呢，请各位专家给予指导小孩感冒后一直流鼻涕，流个不停，吃什么药能够停止呢，请各位专家给予指导',\n",
       "   'related_diseases': '感冒'}},\n",
       " {'_index': 'rag_es_index',\n",
       "  '_id': 'AVpmlJIBHqNJn9d5vNW_',\n",
       "  '_score': 16.603115,\n",
       "  '_source': {'answer': '孩子感冒后晚上鼻子堵塞可以尝试一些药物治疗方法。可以使用盐水鼻喷剂或滴鼻液来清洁鼻腔，减轻鼻塞症状。也可以使用一些非处方的鼻腔去堵剂，如鼻腔去堵贴剂。但是请注意，使用药物治疗前最好咨询医生的建议。此外，保持室温适宜，避免孩子受凉也是很重要的。',\n",
       "   'score': 4,\n",
       "   'label': '儿科',\n",
       "   'question': '孩子近些天有点感冒，流鼻涕还有咳嗽，刚开始有点发烧，吃了药好了，现在就是咳嗽厉害，晚上睡觉的时候老是鼻子堵着，说难受的很，应该吃什么药？请问感冒了晚上鼻子堵怎么办？',\n",
       "   'related_diseases': '感冒'}},\n",
       " {'_index': 'rag_es_index',\n",
       "  '_id': 'iFtplJIBHqNJn9d54O9c',\n",
       "  '_score': 16.498474,\n",
       "  '_source': {'answer': '七个月宝宝感冒流鼻涕，可以考虑使用双黄连咀嚼片或者头孢拉定进行治疗。双黄连咀嚼片具有抗病毒和抗菌的作用，可以缓解感冒症状。头孢拉定是一种抗生素，可以用于治疗细菌感染引起的感冒。但是请注意，宝宝的年龄较小，药物的使用需要在医生的指导下进行。除了药物治疗，还可以通过保持室内空气流通、保持宝宝的饮食营养均衡、适当增加宝宝的休息时间等方法来帮助宝宝恢复健康。如果症状持续或加重，请及时就医。',\n",
       "   'score': 4,\n",
       "   'label': '儿科',\n",
       "   'question': '七个月宝宝，感冒流鼻涕，怎么办？吃什么药最好，如果不吃药，有什么方法吗？七个月宝宝，感冒流鼻涕，怎么办？吃什么药最好，如果不吃药，有什么方法吗？',\n",
       "   'related_diseases': '感冒'}},\n",
       " {'_index': 'rag_es_index',\n",
       "  '_id': 'QFtplJIBHqNJn9d51O3m',\n",
       "  '_score': 16.27201,\n",
       "  '_source': {'answer': '感冒是一种常见的疾病，分为病毒性感冒和伤风感冒。一般来说，伤风后的感冒常常伴有流鼻涕的症状，而病毒性感冒则多表现为鼻塞。对于感冒流鼻涕的情况，可以采取一些措施来缓解症状。首先，饮食上应选择清淡的瓜果蔬菜，尽量避免辛辣和油腻的肉类。此外，多喝水有助于排除体内的毒素，对健康有益。另外，无论平时吃什么，都要按时按量进食，只有保证充足的营养，身体才能有足够的能量与体内的感冒病毒抗争。',\n",
       "   'score': 4,\n",
       "   'label': '内科',\n",
       "   'question': '最近天气变化很大，我也很不幸运的感冒了。最近总是流鼻涕，怎么吃药都不管事。所以现在就挺着急的，感冒流鼻涕应该吃什么好呢？',\n",
       "   'related_diseases': '感冒'}},\n",
       " {'_index': 'rag_es_index',\n",
       "  '_id': 'tFtolJIBHqNJn9d5R2Sw',\n",
       "  '_score': 16.127575,\n",
       "  '_source': {'answer': '根据参考答案，流鼻涕是感冒初期最明显的症状，但是不同类型感冒出现的症状也是有差别的，一般流鼻涕、流眼泪、打喷嚏的症状，可选用抗过敏成分的感冒药，这类成分包括马来酸氯苯那敏（即“扑尔敏”）或者氯雷他定等，前者有犯困的副作用，后者不会使人犯困。',\n",
       "   'score': 4,\n",
       "   'label': '儿科',\n",
       "   'question': '我女儿今天一直不断的流鼻涕和打喷嚏，但是不发烧，我想给孩子吃点感冒药缓解下，我想了解下儿童流鼻涕吃什么感冒药？',\n",
       "   'related_diseases': '发烧'}},\n",
       " {'_index': 'rag_es_index',\n",
       "  '_id': 'm1xrlJIBHqNJn9d5nYpD',\n",
       "  '_score': 16.005589,\n",
       "  '_source': {'answer': '根据用户的描述，婴儿流鼻涕流眼泪感冒，建议多喝水，同时可以服用通天口服液的，但要半量服用。口服。第1日：即刻、服药1小时后、2小时后、4小时后各服10毫升。以后每6小时服10毫升。第2日、3日服法：一次10毫升，一日3次，2天为一个疗程，忌烟，酒及辛辣食物。',\n",
       "   'score': 4,\n",
       "   'label': '儿科',\n",
       "   'question': '你好，我想了解一下啊，婴儿流鼻涕流眼泪感冒吃什么药',\n",
       "   'related_diseases': '感冒'}}]"
      ]
     },
     "execution_count": 50,
     "metadata": {},
     "output_type": "execute_result"
    }
   ],
   "source": [
    "\n",
    "response[\"hits\"][\"hits\"]\n"
   ]
  },
  {
   "cell_type": "code",
   "execution_count": null,
   "id": "4a856b21-722f-4081-8407-854beca63c16",
   "metadata": {},
   "outputs": [],
   "source": []
  }
 ],
 "metadata": {
  "kernelspec": {
   "display_name": "deepspeed",
   "language": "python",
   "name": "deepspeed"
  },
  "language_info": {
   "codemirror_mode": {
    "name": "ipython",
    "version": 3
   },
   "file_extension": ".py",
   "mimetype": "text/x-python",
   "name": "python",
   "nbconvert_exporter": "python",
   "pygments_lexer": "ipython3",
   "version": "3.10.9"
  }
 },
 "nbformat": 4,
 "nbformat_minor": 5
}
