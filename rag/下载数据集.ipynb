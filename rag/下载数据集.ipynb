{
 "cells": [
  {
   "cell_type": "code",
   "execution_count": 1,
   "id": "00feb28f-4db7-478c-84a0-a0cbc899e59a",
   "metadata": {
    "execution": {
     "iopub.execute_input": "2024-10-14T08:49:45.416496Z",
     "iopub.status.busy": "2024-10-14T08:49:45.415915Z",
     "iopub.status.idle": "2024-10-14T08:49:46.505322Z",
     "shell.execute_reply": "2024-10-14T08:49:46.504618Z",
     "shell.execute_reply.started": "2024-10-14T08:49:45.416419Z"
    },
    "scrolled": true
   },
   "outputs": [
    {
     "name": "stderr",
     "output_type": "stream",
     "text": [
      "/root/autodl-tmp/envs/torch/lib/python3.10/site-packages/tqdm/auto.py:21: TqdmWarning: IProgress not found. Please update jupyter and ipywidgets. See https://ipywidgets.readthedocs.io/en/stable/user_install.html\n",
      "  from .autonotebook import tqdm as notebook_tqdm\n"
     ]
    }
   ],
   "source": [
    "from datasets import load_dataset\n"
   ]
  },
  {
   "cell_type": "code",
   "execution_count": null,
   "id": "62a4690d-a1fd-4079-a369-f84f61ddaec4",
   "metadata": {
    "execution": {
     "execution_failed": "2024-10-14T08:51:25.300Z",
     "iopub.execute_input": "2024-10-14T08:50:02.146343Z",
     "iopub.status.busy": "2024-10-14T08:50:02.145907Z"
    }
   },
   "outputs": [],
   "source": [
    "\n",
    "\n",
    "\n",
    "dataset = load_dataset(\"FreedomIntelligence/Huatuo26M-Lite\", cache_dir=\".\")\n",
    "\n",
    "\n"
   ]
  },
  {
   "cell_type": "code",
   "execution_count": null,
   "id": "62b3419d-150a-4225-a296-47557b9d0a14",
   "metadata": {},
   "outputs": [],
   "source": [
    "\n",
    "\n",
    "\n"
   ]
  }
 ],
 "metadata": {
  "kernelspec": {
   "display_name": "deepspeed",
   "language": "python",
   "name": "deepspeed"
  },
  "language_info": {
   "codemirror_mode": {
    "name": "ipython",
    "version": 3
   },
   "file_extension": ".py",
   "mimetype": "text/x-python",
   "name": "python",
   "nbconvert_exporter": "python",
   "pygments_lexer": "ipython3",
   "version": "3.10.9"
  }
 },
 "nbformat": 4,
 "nbformat_minor": 5
}
