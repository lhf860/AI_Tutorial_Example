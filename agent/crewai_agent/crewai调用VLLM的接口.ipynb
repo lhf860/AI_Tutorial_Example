{
 "cells": [
  {
   "cell_type": "code",
   "execution_count": 1,
   "id": "41a09de0-bcdf-47c1-be43-89141cc9fb69",
   "metadata": {
    "execution": {
     "iopub.execute_input": "2024-10-27T06:42:34.946246Z",
     "iopub.status.busy": "2024-10-27T06:42:34.945670Z",
     "iopub.status.idle": "2024-10-27T06:42:34.972830Z",
     "shell.execute_reply": "2024-10-27T06:42:34.968813Z",
     "shell.execute_reply.started": "2024-10-27T06:42:34.946169Z"
    }
   },
   "outputs": [],
   "source": [
    "import os, json\n",
    "\n",
    "os.environ[\"OPENAI_API_KEY\"] = \"EMPTY\"\n",
    "# os.environ[\"OPENAI_BASE_URL\"] = \"http://localhost:8000/v1\"\n",
    "os.environ[\"OPENAI_API_BASE\"] = \"http://localhost:8000/v1\"\n",
    "os.environ[\"OPENAI_MODEL_NAME\"] = \"openai/Qwen2.5-7B-Instruct-AWQ\""
   ]
  },
  {
   "cell_type": "code",
   "execution_count": 2,
   "id": "bb171c5b-7236-4c4f-b839-10350c54ab66",
   "metadata": {
    "execution": {
     "iopub.execute_input": "2024-10-27T06:42:34.975591Z",
     "iopub.status.busy": "2024-10-27T06:42:34.975009Z",
     "iopub.status.idle": "2024-10-27T06:42:39.661485Z",
     "shell.execute_reply": "2024-10-27T06:42:39.660382Z",
     "shell.execute_reply.started": "2024-10-27T06:42:34.975517Z"
    }
   },
   "outputs": [],
   "source": [
    "import torch\n",
    "\n",
    "from crewai import Agent, Task, Crew, Process\n",
    "from crewai.project import CrewBase, agent, tool, crew, task\n",
    "\n"
   ]
  },
  {
   "cell_type": "code",
   "execution_count": 3,
   "id": "47e80627-7c71-4f93-86ed-128f5885af57",
   "metadata": {
    "execution": {
     "iopub.execute_input": "2024-10-27T06:42:39.662932Z",
     "iopub.status.busy": "2024-10-27T06:42:39.662646Z",
     "iopub.status.idle": "2024-10-27T06:42:39.671243Z",
     "shell.execute_reply": "2024-10-27T06:42:39.670366Z",
     "shell.execute_reply.started": "2024-10-27T06:42:39.662911Z"
    },
    "scrolled": true
   },
   "outputs": [
    {
     "data": {
      "text/plain": [
       "'\\n\\n两种方式调用VLLM部署的模型：\\n\\n1. 设置环境变量：\\n\\nos.environ[\"OPENAI_API_KEY\"] = \"EMPTY\"\\n# os.environ[\"OPENAI_BASE_URL\"] = \"http://localhost:8000/v1\"\\nos.environ[\"OPENAI_API_BASE\"] = \"http://localhost:8000/v1\"\\nos.environ[\"OPENAI_MODEL_NAME\"] = \"openai/Qwen2.5-7B-Instruct-AWQ\"\\n\\n格式：\\nos.environ[\"OPENAI_API_KEY\"] = \"NA\"\\nos.environ[\"OPENAI_API_BASE\"] = \"Your Endpoint\"\\nos.environ[\"OPENAI_MODEL_NAME\"] = \"Your Model\"\\n\\n\\n\\n2. 通过OpenAI兼容的接口进行调用，\\n\\nfrom langchain_openai import ChatOpenAI as LOAI\\nfrom crewai import Agent\\n\\nos.environ[\"OPENAI_API_KEY\"] = \"NA\"\\n\\nllm_model = LOAI(base_url=\"http://your_endpoint/v1\", model_name = \\'your_model\\')\\n\\nyour_agent = Agent(\\n    role=\"Your Role\",\\n    goal=\"Your goal\",\\n    backstory=\"Your backstory\",\\n    async_execution=False,\\n    allow_delegation = False,\\n    llm=llm_model\\n)\\n\\n'"
      ]
     },
     "execution_count": 3,
     "metadata": {},
     "output_type": "execute_result"
    }
   ],
   "source": [
    "\n",
    "# Agent??\n",
    "\n",
    "\"\"\"\n",
    "\n",
    "两种方式调用VLLM部署的模型：\n",
    "\n",
    "1. 设置环境变量：\n",
    "\n",
    "os.environ[\"OPENAI_API_KEY\"] = \"EMPTY\"\n",
    "# os.environ[\"OPENAI_BASE_URL\"] = \"http://localhost:8000/v1\"\n",
    "os.environ[\"OPENAI_API_BASE\"] = \"http://localhost:8000/v1\"\n",
    "os.environ[\"OPENAI_MODEL_NAME\"] = \"openai/Qwen2.5-7B-Instruct-AWQ\"\n",
    "\n",
    "格式：\n",
    "os.environ[\"OPENAI_API_KEY\"] = \"NA\"\n",
    "os.environ[\"OPENAI_API_BASE\"] = \"Your Endpoint\"\n",
    "os.environ[\"OPENAI_MODEL_NAME\"] = \"Your Model\"\n",
    "\n",
    "\n",
    "\n",
    "vllm的部署命令：python -m vllm.entrypoints.openai.api_server \\\n",
    "    --model Qwen/Qwen2-7B-Instruct-AWQ --served-model-name Qwen2.5-7B-Instruct-AWQ \\\n",
    "    --quantization awq --gpu-memory-utilization 0.4 --max-model-len 2048 \n",
    "\n",
    "\n",
    "2. 通过OpenAI兼容的接口进行调用，\n",
    "\n",
    "from langchain_openai import ChatOpenAI as LOAI\n",
    "from crewai import Agent\n",
    "\n",
    "os.environ[\"OPENAI_API_KEY\"] = \"NA\"\n",
    "\n",
    "llm_model = LOAI(base_url=\"http://your_endpoint/v1\", model_name = 'your_model')\n",
    "\n",
    "your_agent = Agent(\n",
    "    role=\"Your Role\",\n",
    "    goal=\"Your goal\",\n",
    "    backstory=\"Your backstory\",\n",
    "    async_execution=False,\n",
    "    allow_delegation = False,\n",
    "    llm=llm_model\n",
    ")\n",
    "\n",
    "\"\"\"\n",
    "\n"
   ]
  },
  {
   "cell_type": "code",
   "execution_count": 4,
   "id": "a1a729fb-2cbd-4bd3-9ab1-681442f8cd40",
   "metadata": {
    "execution": {
     "iopub.execute_input": "2024-10-27T06:42:39.672230Z",
     "iopub.status.busy": "2024-10-27T06:42:39.672080Z",
     "iopub.status.idle": "2024-10-27T06:42:42.688567Z",
     "shell.execute_reply": "2024-10-27T06:42:42.687042Z",
     "shell.execute_reply.started": "2024-10-27T06:42:39.672212Z"
    },
    "scrolled": true
   },
   "outputs": [],
   "source": [
    "\n",
    "\n",
    "agent = Agent(role=\"文章标题\",\n",
    "              goal=\"为文章写一段简短且具有概括性的标题，字数20字左右\",\n",
    "              backstory=\"你是一名资深的文章编剧，给定一篇文章，需要为其总结标题。\"\n",
    "             )\n",
    "\n",
    "\n",
    "task = Task(expected_output=\"为下面的编写一个不超过20字的标题,要求能够精准概括文章内容。\",\n",
    "            description=\"为下面的编写一个不超过20字的标题：{inputs}\",\n",
    "            agent=agent)\n",
    "\n",
    "\n",
    "\n",
    "my_crew = Crew(agents=[agent], tasks=[task])\n",
    "\n",
    "\n",
    "# 新闻内容\n",
    "news = \"\"\"新华社北京10月26日电 10月26日，国家主席习近平致电丹尼尔·弗朗西斯科·查波，祝贺他当选莫桑比克共和国总统。\n",
    "习近平指出，中国同莫桑比克传统友好。近年来，两国政治互信持续深化，务实合作成果丰硕，在涉及彼此核心利益和重大关切问题上坚定相互支持。我高度重视中莫关系发展，愿同查波当选总统一道努力，以落实中非合作论坛北京峰会成果为契机，弘扬传统友好，深化互利合作，推动两国全面战略合作伙伴关系不断取得新发展，更好造福两国人民。\n",
    "\"\"\"\n",
    "# 原始标题：习近平向莫桑比克当选总统查波致贺电\n",
    "\n",
    "\n",
    "result = my_crew.kickoff({\"inputs\": news})\n",
    "\n"
   ]
  },
  {
   "cell_type": "code",
   "execution_count": 5,
   "id": "24455a2f-624c-4a4e-8eec-d03fa9fc3454",
   "metadata": {
    "execution": {
     "iopub.execute_input": "2024-10-27T06:42:42.690921Z",
     "iopub.status.busy": "2024-10-27T06:42:42.690468Z",
     "iopub.status.idle": "2024-10-27T06:42:42.700572Z",
     "shell.execute_reply": "2024-10-27T06:42:42.699161Z",
     "shell.execute_reply.started": "2024-10-27T06:42:42.690863Z"
    }
   },
   "outputs": [
    {
     "data": {
      "text/plain": [
       "CrewOutput(raw='\"习近平祝贺查波当选莫桑比克总统，推动中莫全面战略合作伙伴关系发展\"', pydantic=None, json_dict=None, tasks_output=[TaskOutput(description='为下面的编写一个不超过20字的标题：新华社北京10月26日电\\u200310月26日，国家主席习近平致电丹尼尔·弗朗西斯科·查波，祝贺他当选莫桑比克共和国总统。\\n习近平指出，中国同莫桑比克传统友好。近年来，两国政治互信持续深化，务实合作成果丰硕，在涉及彼此核心利益和重大关切问题上坚定相互支持。我高度重视中莫关系发展，愿同查波当选总统一道努力，以落实中非合作论坛北京峰会成果为契机，弘扬传统友好，深化互利合作，推动两国全面战略合作伙伴关系不断取得新发展，更好造福两国人民。\\n', name=None, expected_output='为下面的编写一个不超过20字的标题,要求能够精准概括文章内容。', summary='为下面的编写一个不超过20字的标题：新华社北京10月26日电\\u200310月26日，国家主席习近平致电丹尼尔·弗朗西斯科·查波，祝贺他当选莫桑比克共和国总统。\\n习近平指出，中国同莫桑比克传统友好。近年来，两国政治互信持续深化，务实合作成果丰硕，在涉及彼此核心利益和重大关切问题上坚定相互支持。我高度重视中莫关系发展，愿同查波当选总统一道努力，以落实中非合作论坛北京峰会成果为契机，弘扬传统友好，深化互利合作，推动两国全面战略合作伙伴关系不断取得新发展，更好造福两国人民。\\n...', raw='\"习近平祝贺查波当选莫桑比克总统，推动中莫全面战略合作伙伴关系发展\"', pydantic=None, json_dict=None, agent='文章标题', output_format=<OutputFormat.RAW: 'raw'>)], token_usage=UsageMetrics(total_tokens=412, prompt_tokens=346, completion_tokens=66, successful_requests=1))"
      ]
     },
     "execution_count": 5,
     "metadata": {},
     "output_type": "execute_result"
    }
   ],
   "source": [
    "result"
   ]
  },
  {
   "cell_type": "code",
   "execution_count": 6,
   "id": "09451da0-f887-43ee-9b6b-c19cc83f9066",
   "metadata": {
    "execution": {
     "iopub.execute_input": "2024-10-27T06:42:42.706015Z",
     "iopub.status.busy": "2024-10-27T06:42:42.704874Z",
     "iopub.status.idle": "2024-10-27T06:42:42.714785Z",
     "shell.execute_reply": "2024-10-27T06:42:42.713432Z",
     "shell.execute_reply.started": "2024-10-27T06:42:42.705945Z"
    }
   },
   "outputs": [
    {
     "data": {
      "text/plain": [
       "TaskOutput(description='为下面的编写一个不超过20字的标题：新华社北京10月26日电\\u200310月26日，国家主席习近平致电丹尼尔·弗朗西斯科·查波，祝贺他当选莫桑比克共和国总统。\\n习近平指出，中国同莫桑比克传统友好。近年来，两国政治互信持续深化，务实合作成果丰硕，在涉及彼此核心利益和重大关切问题上坚定相互支持。我高度重视中莫关系发展，愿同查波当选总统一道努力，以落实中非合作论坛北京峰会成果为契机，弘扬传统友好，深化互利合作，推动两国全面战略合作伙伴关系不断取得新发展，更好造福两国人民。\\n', name=None, expected_output='为下面的编写一个不超过20字的标题,要求能够精准概括文章内容。', summary='为下面的编写一个不超过20字的标题：新华社北京10月26日电\\u200310月26日，国家主席习近平致电丹尼尔·弗朗西斯科·查波，祝贺他当选莫桑比克共和国总统。\\n习近平指出，中国同莫桑比克传统友好。近年来，两国政治互信持续深化，务实合作成果丰硕，在涉及彼此核心利益和重大关切问题上坚定相互支持。我高度重视中莫关系发展，愿同查波当选总统一道努力，以落实中非合作论坛北京峰会成果为契机，弘扬传统友好，深化互利合作，推动两国全面战略合作伙伴关系不断取得新发展，更好造福两国人民。\\n...', raw='\"习近平祝贺查波当选莫桑比克总统，推动中莫全面战略合作伙伴关系发展\"', pydantic=None, json_dict=None, agent='文章标题', output_format=<OutputFormat.RAW: 'raw'>)"
      ]
     },
     "execution_count": 6,
     "metadata": {},
     "output_type": "execute_result"
    }
   ],
   "source": [
    "task.output"
   ]
  },
  {
   "cell_type": "code",
   "execution_count": 7,
   "id": "ea8194a4-447d-4650-bf04-d55654c70477",
   "metadata": {
    "execution": {
     "iopub.execute_input": "2024-10-27T06:42:42.717183Z",
     "iopub.status.busy": "2024-10-27T06:42:42.716623Z",
     "iopub.status.idle": "2024-10-27T06:42:42.723126Z",
     "shell.execute_reply": "2024-10-27T06:42:42.721552Z",
     "shell.execute_reply.started": "2024-10-27T06:42:42.717117Z"
    }
   },
   "outputs": [],
   "source": [
    "\n",
    "\n",
    "# 产生结构化输出。\n",
    "\n",
    "\n",
    "# 1. json\n",
    "\n",
    "# 2. pydantic\n",
    "\n",
    "\n",
    "\n",
    "\n"
   ]
  }
 ],
 "metadata": {
  "kernelspec": {
   "display_name": "deepspeed",
   "language": "python",
   "name": "deepspeed"
  },
  "language_info": {
   "codemirror_mode": {
    "name": "ipython",
    "version": 3
   },
   "file_extension": ".py",
   "mimetype": "text/x-python",
   "name": "python",
   "nbconvert_exporter": "python",
   "pygments_lexer": "ipython3",
   "version": "3.10.9"
  }
 },
 "nbformat": 4,
 "nbformat_minor": 5
}
