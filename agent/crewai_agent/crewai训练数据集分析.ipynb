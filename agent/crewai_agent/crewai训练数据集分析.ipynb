{
 "cells": [
  {
   "cell_type": "code",
   "execution_count": 1,
   "id": "0d4e1bde-8afc-4628-b173-61764eadfc43",
   "metadata": {
    "execution": {
     "iopub.execute_input": "2024-10-27T08:18:37.551342Z",
     "iopub.status.busy": "2024-10-27T08:18:37.549988Z",
     "iopub.status.idle": "2024-10-27T08:18:39.023137Z",
     "shell.execute_reply": "2024-10-27T08:18:39.021990Z",
     "shell.execute_reply.started": "2024-10-27T08:18:37.551255Z"
    }
   },
   "outputs": [],
   "source": [
    "\n",
    "\n",
    "\n",
    "import os, json\n",
    "\n",
    "import torch\n",
    "\n",
    "import pickle \n"
   ]
  },
  {
   "cell_type": "code",
   "execution_count": 3,
   "id": "0dfe43c1-42f1-45ca-95fe-e9d50b28176c",
   "metadata": {
    "execution": {
     "iopub.execute_input": "2024-10-27T08:19:17.282276Z",
     "iopub.status.busy": "2024-10-27T08:19:17.281884Z",
     "iopub.status.idle": "2024-10-27T08:19:17.288166Z",
     "shell.execute_reply": "2024-10-27T08:19:17.286967Z",
     "shell.execute_reply.started": "2024-10-27T08:19:17.282241Z"
    }
   },
   "outputs": [],
   "source": [
    "\n",
    "pkl_path = \"trained_agents_data.pkl\"\n",
    "\n",
    "with open(pkl_path, \"rb\") as fin:\n",
    "    data = pickle.load(fin)\n",
    "\n"
   ]
  },
  {
   "cell_type": "code",
   "execution_count": 4,
   "id": "5aa2878d-aea8-40ab-837c-3cb98843903c",
   "metadata": {
    "execution": {
     "iopub.execute_input": "2024-10-27T08:19:19.879143Z",
     "iopub.status.busy": "2024-10-27T08:19:19.878357Z",
     "iopub.status.idle": "2024-10-27T08:19:19.899398Z",
     "shell.execute_reply": "2024-10-27T08:19:19.897751Z",
     "shell.execute_reply.started": "2024-10-27T08:19:19.879064Z"
    }
   },
   "outputs": [
    {
     "data": {
      "text/plain": [
       "{}"
      ]
     },
     "execution_count": 4,
     "metadata": {},
     "output_type": "execute_result"
    }
   ],
   "source": []
  },
  {
   "cell_type": "code",
   "execution_count": null,
   "id": "a3877527-ac35-4ba1-a4a8-cc939291a231",
   "metadata": {},
   "outputs": [],
   "source": [
    "\n",
    "\n",
    "\n"
   ]
  }
 ],
 "metadata": {
  "kernelspec": {
   "display_name": "deepspeed",
   "language": "python",
   "name": "deepspeed"
  },
  "language_info": {
   "codemirror_mode": {
    "name": "ipython",
    "version": 3
   },
   "file_extension": ".py",
   "mimetype": "text/x-python",
   "name": "python",
   "nbconvert_exporter": "python",
   "pygments_lexer": "ipython3",
   "version": "3.10.9"
  }
 },
 "nbformat": 4,
 "nbformat_minor": 5
}
