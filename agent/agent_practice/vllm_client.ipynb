{
 "cells": [
  {
   "cell_type": "code",
   "execution_count": 1,
   "id": "0b9ed966-fa8d-4986-a3f3-55fc4ac3890c",
   "metadata": {
    "execution": {
     "iopub.execute_input": "2024-10-23T13:58:34.386679Z",
     "iopub.status.busy": "2024-10-23T13:58:34.385700Z",
     "iopub.status.idle": "2024-10-23T13:58:34.394449Z",
     "shell.execute_reply": "2024-10-23T13:58:34.392976Z",
     "shell.execute_reply.started": "2024-10-23T13:58:34.386597Z"
    }
   },
   "outputs": [],
   "source": [
    "\n",
    "import os, json\n",
    "\n",
    "from langchain_openai import ChatOpenAI\n"
   ]
  },
  {
   "cell_type": "code",
   "execution_count": 2,
   "id": "d8ccfc87-7c3e-4f65-b3cb-9fe7c4662af5",
   "metadata": {
    "execution": {
     "iopub.execute_input": "2024-10-23T13:59:17.332268Z",
     "iopub.status.busy": "2024-10-23T13:59:17.331281Z",
     "iopub.status.idle": "2024-10-23T13:59:17.461042Z",
     "shell.execute_reply": "2024-10-23T13:59:17.459618Z",
     "shell.execute_reply.started": "2024-10-23T13:59:17.332186Z"
    }
   },
   "outputs": [],
   "source": [
    "\n",
    "\n",
    "llm = ChatOpenAI(api_key=\"abc\", base_url=\"http://localhost:8000/v1\", model=\"Qwen2.5-7B-Instruct-AWQ\")\n",
    "\n"
   ]
  },
  {
   "cell_type": "code",
   "execution_count": 3,
   "id": "849d653d-78c4-4226-82f7-460695787617",
   "metadata": {
    "execution": {
     "iopub.execute_input": "2024-10-23T13:59:32.893899Z",
     "iopub.status.busy": "2024-10-23T13:59:32.893042Z",
     "iopub.status.idle": "2024-10-23T13:59:40.620019Z",
     "shell.execute_reply": "2024-10-23T13:59:40.618513Z",
     "shell.execute_reply.started": "2024-10-23T13:59:32.893835Z"
    }
   },
   "outputs": [
    {
     "name": "stderr",
     "output_type": "stream",
     "text": [
      "/tmp/ipykernel_1431/77192562.py:1: LangChainDeprecationWarning: The method `BaseChatModel.__call__` was deprecated in langchain-core 0.1.7 and will be removed in 1.0. Use invoke instead.\n",
      "  print(llm(\"介绍一下你自己。\"))\n"
     ]
    },
    {
     "name": "stdout",
     "output_type": "stream",
     "text": [
      "content='我是阿里云开发的一款超大规模语言模型，我叫通义千问。作为一个语言模型，我的主要功能是生成与给定词语相关的高质量文本，以帮助用户进行创作、解答问题、提供建议等。我可以应用于各种场景，如撰写文章、创作诗歌、编写代码、解答问题、提供建议等。作为一个AI助手，我的目标是为用户提供高效、准确、个性化的帮助，提高他们的工作效率和生活质量。\\n\\n作为一个超大规模语言模型，我具备了诸如语言理解、文本生成、逻辑推理、常识应用等多种能力。通过大量训练和学习，我能够生成连贯、有意义、符合语法的文本，同时在特定领域内展现出专业水平。\\n\\n然而，请注意，尽管我具备了这些能力，但作为一个AI模型，我在回答问题时可能会出现错误或不准确的情况。因此，在依赖我的建议或答案时，建议进行验证和评估。同时，我是一个基于人工智能的模型，虽然我努力提供客观和中立的回答，但可能会受到训练数据和算法偏见的影响。在使用我的回答时，请保持批判性思维，确保信息的准确性和客观性。\\n\\n总之，我是一个功能强大的语言模型，能够为用户提供广泛的支持和帮助。通过我的能力，我可以生成高质量的文本、回答问题、提供建议等，为用户提供便利和价值。请随时向我提问或请求帮助，我会尽力提供满意的答案。' additional_kwargs={'refusal': None} response_metadata={'token_usage': {'completion_tokens': 296, 'prompt_tokens': 22, 'total_tokens': 318, 'completion_tokens_details': None, 'prompt_tokens_details': None}, 'model_name': 'Qwen2.5-7B-Instruct-AWQ', 'system_fingerprint': None, 'finish_reason': 'stop', 'logprobs': None} id='run-9bc12165-95d0-4107-a8fc-876476a58421-0' usage_metadata={'input_tokens': 22, 'output_tokens': 296, 'total_tokens': 318}\n"
     ]
    }
   ],
   "source": [
    "\n",
    "\n",
    "print(llm(\"介绍一下你自己。\"))\n"
   ]
  },
  {
   "cell_type": "code",
   "execution_count": 4,
   "id": "a44c9d6d-e9c8-4dab-a66c-a7a45b9dd206",
   "metadata": {
    "execution": {
     "iopub.execute_input": "2024-10-23T14:02:12.445902Z",
     "iopub.status.busy": "2024-10-23T14:02:12.444969Z",
     "iopub.status.idle": "2024-10-23T14:02:12.916653Z",
     "shell.execute_reply": "2024-10-23T14:02:12.914853Z",
     "shell.execute_reply.started": "2024-10-23T14:02:12.445833Z"
    }
   },
   "outputs": [
    {
     "name": "stdout",
     "output_type": "stream",
     "text": [
      "content='春风拂绿江南岸，桃花笑映碧蓝天。\\n燕舞翩翩花间掠，一曲春歌满人间。' additional_kwargs={'refusal': None} response_metadata={'token_usage': {'completion_tokens': 28, 'prompt_tokens': 35, 'total_tokens': 63, 'completion_tokens_details': None, 'prompt_tokens_details': None}, 'model_name': 'Qwen2.5-7B-Instruct-AWQ', 'system_fingerprint': None, 'finish_reason': 'stop', 'logprobs': None} id='run-3d2f404e-ad39-4833-babb-939f4e997ad3-0' usage_metadata={'input_tokens': 35, 'output_tokens': 28, 'total_tokens': 63}\n"
     ]
    }
   ],
   "source": [
    "\n",
    "\n",
    "from langchain_core.prompts import PromptTemplate\n",
    "\n",
    "\n",
    "template = \"给定下面的主题，作一首七言绝句。主题：{zhuti}。\"\n",
    "\n",
    "prompt = PromptTemplate.from_template(template)\n",
    "\n",
    "chain = prompt | llm\n",
    "\n",
    "print(chain.invoke({\"zhuti\": \"春天\"}))\n",
    "\n",
    "\n"
   ]
  },
  {
   "cell_type": "code",
   "execution_count": null,
   "id": "777440e4-69f5-4a97-a27f-55f5c4fc76df",
   "metadata": {},
   "outputs": [],
   "source": [
    "\n",
    "\n",
    "\n"
   ]
  }
 ],
 "metadata": {
  "kernelspec": {
   "display_name": "torch",
   "language": "python",
   "name": "torch"
  },
  "language_info": {
   "codemirror_mode": {
    "name": "ipython",
    "version": 3
   },
   "file_extension": ".py",
   "mimetype": "text/x-python",
   "name": "python",
   "nbconvert_exporter": "python",
   "pygments_lexer": "ipython3",
   "version": "3.10.14"
  }
 },
 "nbformat": 4,
 "nbformat_minor": 5
}
