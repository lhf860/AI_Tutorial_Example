{
 "cells": [
  {
   "cell_type": "code",
   "execution_count": null,
   "id": "68144c65-39e2-446e-addb-097fc4f15c81",
   "metadata": {},
   "outputs": [],
   "source": [
    "\n",
    "from modelscope import snapshot_download\n"
   ]
  },
  {
   "cell_type": "code",
   "execution_count": null,
   "id": "159ddfd3-9ae7-4423-b48b-26bfb243559e",
   "metadata": {},
   "outputs": [],
   "source": [
    "\n",
    "model_dir = snapshot_download(\"Qwen/Qwen2.5-7B-Instruct-AWQ\", cache_dir=\"./llm_cache/\")\n",
    "\n",
    "\n",
    "\n"
   ]
  },
  {
   "cell_type": "code",
   "execution_count": null,
   "id": "96ddd177-6ad9-4601-b338-b7a6fd16d3dd",
   "metadata": {},
   "outputs": [],
   "source": [
    "# model_dir = snapshot_download(\"Qwen/Qwen2.5-14B-Instruct-AWQ\", cache_dir=\"./llm_cache/\")\n",
    "\n",
    "\n",
    "# Qwen/Qwen2.5-14B-Instruct-GPTQ-Int4\n",
    "\n",
    "\n",
    "model_dir = snapshot_download(\"Qwen/Qwen2.5-14B-Instruct-GPTQ-Int4\", cache_dir=\"./llm_cache/\")\n"
   ]
  },
  {
   "cell_type": "code",
   "execution_count": null,
   "id": "ac335480-073a-4541-a6f9-9c2d1458c479",
   "metadata": {},
   "outputs": [],
   "source": []
  }
 ],
 "metadata": {
  "kernelspec": {
   "display_name": "torch",
   "language": "python",
   "name": "torch"
  },
  "language_info": {
   "codemirror_mode": {
    "name": "ipython",
    "version": 3
   },
   "file_extension": ".py",
   "mimetype": "text/x-python",
   "name": "python",
   "nbconvert_exporter": "python",
   "pygments_lexer": "ipython3",
   "version": "3.10.14"
  }
 },
 "nbformat": 4,
 "nbformat_minor": 5
}
