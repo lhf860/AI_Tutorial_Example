{
 "cells": [
  {
   "cell_type": "code",
   "execution_count": 1,
   "id": "5869f341-7351-4934-a75c-400f63a17fbd",
   "metadata": {
    "execution": {
     "iopub.execute_input": "2024-10-24T03:08:17.260652Z",
     "iopub.status.busy": "2024-10-24T03:08:17.259837Z",
     "iopub.status.idle": "2024-10-24T03:08:19.037673Z",
     "shell.execute_reply": "2024-10-24T03:08:19.036492Z",
     "shell.execute_reply.started": "2024-10-24T03:08:17.260571Z"
    }
   },
   "outputs": [],
   "source": [
    "\n",
    "import os, json\n",
    "\n",
    "from langchain_core.prompts import ChatPromptTemplate, MessagesPlaceholder, PromptTemplate\n",
    "from langchain_core.runnables.history import RunnableWithMessageHistory\n",
    "from langchain.memory.chat_message_histories import ChatMessageHistory\n",
    "\n",
    "\n",
    "from langchain_openai import ChatOpenAI\n",
    "\n"
   ]
  },
  {
   "cell_type": "code",
   "execution_count": 2,
   "id": "fd77e221-d5af-4451-8567-be955255c6ca",
   "metadata": {
    "execution": {
     "iopub.execute_input": "2024-10-24T03:08:19.039215Z",
     "iopub.status.busy": "2024-10-24T03:08:19.038960Z",
     "iopub.status.idle": "2024-10-24T03:08:19.109432Z",
     "shell.execute_reply": "2024-10-24T03:08:19.108258Z",
     "shell.execute_reply.started": "2024-10-24T03:08:19.039184Z"
    }
   },
   "outputs": [],
   "source": [
    "\n",
    "llm = ChatOpenAI(api_key=\"abc\", base_url=\"http://localhost:8000/v1\", model=\"Qwen2.5-7B-Instruct-AWQ\",\n",
    "                max_tokens=1024, temperature=0)\n",
    "\n",
    "\n",
    "\n",
    "\n"
   ]
  },
  {
   "cell_type": "code",
   "execution_count": 3,
   "id": "0aa3b688-51e1-469d-9179-3146360187b0",
   "metadata": {
    "execution": {
     "iopub.execute_input": "2024-10-24T03:08:19.111002Z",
     "iopub.status.busy": "2024-10-24T03:08:19.110745Z",
     "iopub.status.idle": "2024-10-24T03:08:20.428192Z",
     "shell.execute_reply": "2024-10-24T03:08:20.426993Z",
     "shell.execute_reply.started": "2024-10-24T03:08:19.110971Z"
    }
   },
   "outputs": [
    {
     "name": "stdout",
     "output_type": "stream",
     "text": [
      "AI: 我是一个AI助手，由阿里云开发，旨在通过语言理解和生成能力，帮助用户解决各种问题和提供所需的信息。我能够回答各种知识性问题、提供实用建议、解释概念、生成文本，如故事、文章、诗歌等，还可以与用户进行对话，提供个性化服务。我的目标是为用户提供快速、准确、便捷的帮助，提升用户的工作效率和生活质量。\n"
     ]
    }
   ],
   "source": [
    "\n",
    "\"\"\"测试内存型记忆\"\"\"\n",
    "from langchain.memory import ChatMessageHistory\n",
    "\n",
    "store = {}\n",
    "\n",
    "def get_chat_history(session_id: str):\n",
    "    if session_id not in store:\n",
    "        store[session_id] = ChatMessageHistory()\n",
    "    return store[session_id]\n",
    "\n",
    "\n",
    "prompt = ChatPromptTemplate.from_messages([\n",
    "    (\"system\", \"You are a helpful AI assistant.\"),\n",
    "    MessagesPlaceholder(variable_name=\"history\"),\n",
    "    (\"human\", \"{input}\")\n",
    "])\n",
    "\n",
    "\n",
    "chain_memory = prompt | llm\n",
    "\n",
    "chain_with_history = RunnableWithMessageHistory(\n",
    "    chain_memory,\n",
    "    get_chat_history,\n",
    "    input_messages_key=\"input\",\n",
    "    history_messages_key=\"history\"\n",
    ")\n",
    "\n",
    "\n",
    "session_id = \"user_123\"\n",
    "\n",
    "\n",
    "response1 = chain_with_history.invoke(\n",
    "    {\"input\": \"介绍你自己。\"},\n",
    "    config={\"configurable\": {\"session_id\": session_id}}\n",
    ")\n",
    "print(\"AI:\", response1.content)\n",
    "\n"
   ]
  },
  {
   "cell_type": "code",
   "execution_count": null,
   "id": "829438ab-1189-42e5-b05f-450007283adb",
   "metadata": {},
   "outputs": [],
   "source": [
    "\n"
   ]
  },
  {
   "cell_type": "code",
   "execution_count": null,
   "id": "3bfdc819-2d6c-4793-9796-7135504d73d7",
   "metadata": {},
   "outputs": [],
   "source": []
  }
 ],
 "metadata": {
  "kernelspec": {
   "display_name": "torch",
   "language": "python",
   "name": "torch"
  },
  "language_info": {
   "codemirror_mode": {
    "name": "ipython",
    "version": 3
   },
   "file_extension": ".py",
   "mimetype": "text/x-python",
   "name": "python",
   "nbconvert_exporter": "python",
   "pygments_lexer": "ipython3",
   "version": "3.10.14"
  }
 },
 "nbformat": 4,
 "nbformat_minor": 5
}
