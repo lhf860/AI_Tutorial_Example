{
 "cells": [
  {
   "cell_type": "code",
   "execution_count": 1,
   "id": "5869f341-7351-4934-a75c-400f63a17fbd",
   "metadata": {
    "execution": {
     "iopub.execute_input": "2024-10-24T03:07:10.219419Z",
     "iopub.status.busy": "2024-10-24T03:07:10.218224Z",
     "iopub.status.idle": "2024-10-24T03:07:12.015462Z",
     "shell.execute_reply": "2024-10-24T03:07:12.014520Z",
     "shell.execute_reply.started": "2024-10-24T03:07:10.219337Z"
    }
   },
   "outputs": [],
   "source": [
    "\n",
    "import os, json\n",
    "\n",
    "from langchain_core.prompts import ChatPromptTemplate, MessagesPlaceholder, PromptTemplate\n",
    "from langchain_core.runnables.history import RunnableWithMessageHistory\n",
    "from langchain.memory.chat_message_histories import ChatMessageHistory\n",
    "\n",
    "\n",
    "from langchain_openai import ChatOpenAI\n",
    "\n"
   ]
  },
  {
   "cell_type": "code",
   "execution_count": 2,
   "id": "fd77e221-d5af-4451-8567-be955255c6ca",
   "metadata": {
    "execution": {
     "iopub.execute_input": "2024-10-24T03:07:12.016868Z",
     "iopub.status.busy": "2024-10-24T03:07:12.016612Z",
     "iopub.status.idle": "2024-10-24T03:07:12.084512Z",
     "shell.execute_reply": "2024-10-24T03:07:12.083356Z",
     "shell.execute_reply.started": "2024-10-24T03:07:12.016834Z"
    }
   },
   "outputs": [],
   "source": [
    "\n",
    "llm = ChatOpenAI(api_key=\"abc\", base_url=\"http://localhost:8000/v1\", model=\"Qwen2.5-7B-Instruct-AWQ\",\n",
    "                max_tokens=1024, temperature=0)\n",
    "\n",
    "\n",
    "\n",
    "\n"
   ]
  },
  {
   "cell_type": "code",
   "execution_count": 3,
   "id": "76916170-b726-4c4c-a94d-fc1bd5064f0d",
   "metadata": {
    "execution": {
     "iopub.execute_input": "2024-10-24T03:07:12.086106Z",
     "iopub.status.busy": "2024-10-24T03:07:12.085848Z",
     "iopub.status.idle": "2024-10-24T03:07:12.598949Z",
     "shell.execute_reply": "2024-10-24T03:07:12.597723Z",
     "shell.execute_reply.started": "2024-10-24T03:07:12.086076Z"
    },
    "scrolled": true
   },
   "outputs": [
    {
     "name": "stdout",
     "output_type": "stream",
     "text": [
      "content='1+1=2' additional_kwargs={'refusal': None} response_metadata={'token_usage': {'completion_tokens': 6, 'prompt_tokens': 27, 'total_tokens': 33, 'completion_tokens_details': None, 'prompt_tokens_details': None}, 'model_name': 'Qwen2.5-7B-Instruct-AWQ', 'system_fingerprint': None, 'finish_reason': 'stop', 'logprobs': None} id='run-7d806535-d053-4ee3-8b96-e9efe7482f97-0' usage_metadata={'input_tokens': 27, 'output_tokens': 6, 'total_tokens': 33, 'input_token_details': {}, 'output_token_details': {}}\n",
      "content='1+1=2' additional_kwargs={'refusal': None} response_metadata={'token_usage': {'completion_tokens': 6, 'prompt_tokens': 26, 'total_tokens': 32, 'completion_tokens_details': None, 'prompt_tokens_details': None}, 'model_name': 'Qwen2.5-7B-Instruct-AWQ', 'system_fingerprint': None, 'finish_reason': 'stop', 'logprobs': None} id='run-70fa3abe-0361-4a36-8913-1359cda6aa66-0' usage_metadata={'input_tokens': 26, 'output_tokens': 6, 'total_tokens': 32, 'input_token_details': {}, 'output_token_details': {}}\n",
      "-------------------------------------------\n"
     ]
    }
   ],
   "source": [
    "\n",
    "\"\"\"\n",
    "对话聊天历史存储在redis中\n",
    "https://api.python.langchain.com/en/latest/chat_message_histories/langchain_community.chat_message_histories.redis.RedisChatMessageHistory.html\n",
    "https://blog.csdn.net/ppoojjj/article/details/141373205    # 实际使用案例\n",
    "\"\"\"\n",
    "\n",
    "\n",
    "from langchain_community.chat_message_histories.redis import RedisChatMessageHistory\n",
    "\n",
    "\n",
    "\n",
    "# 创建历史会话记录\n",
    "# https://python.langchain.com/docs/integrations/chat/vllm/\n",
    "\n",
    "# #1.  测试单轮的LLM chain\n",
    "chat_prompt_one_turn = ChatPromptTemplate.from_messages([(\"system\", \"你是一个有益的助手。\"), \n",
    "                                                # MessagesPlaceholder(variable_name=\"history\"), \n",
    "                                                (\"user\", \"{input}\")])\n",
    "\n",
    "chain_one_turn = chat_prompt_one_turn | llm\n",
    "print(llm.invoke(\"question数学运算：1+1=\"))\n",
    "print(chain_one_turn.invoke({\"input\": \"数学运算：1+1=\"}))\n",
    "\n",
    "print(\"-------------------------------------------\")\n",
    "# # 2.  创建针对单个用户或者会话的多轮对话chain\n",
    "chat_prompt = ChatPromptTemplate.from_messages(messages=[(\"system\", \"你是一个有益的助手。\"), \n",
    "                                                         MessagesPlaceholder(variable_name=\"history\"), \n",
    "                                                         (\"human\", \"{question}\")])\n",
    "\n",
    "chain = chat_prompt | llm\n",
    "\n",
    "\n",
    "chain_with_history =  RunnableWithMessageHistory(chain, lambda session_id: RedisChatMessageHistory(session_id, url=\"redis://localhost:6379/0\"),\n",
    "                                                input_messages_key=\"question\",\n",
    "                                                history_messages_key=\"history\")\n",
    "\n",
    "\n"
   ]
  },
  {
   "cell_type": "code",
   "execution_count": 4,
   "id": "5766571a-1d50-4444-b88d-8e960f5ab0eb",
   "metadata": {
    "execution": {
     "iopub.execute_input": "2024-10-24T03:07:12.600720Z",
     "iopub.status.busy": "2024-10-24T03:07:12.600247Z",
     "iopub.status.idle": "2024-10-24T03:07:14.220252Z",
     "shell.execute_reply": "2024-10-24T03:07:14.218892Z",
     "shell.execute_reply.started": "2024-10-24T03:07:12.600686Z"
    },
    "scrolled": true
   },
   "outputs": [
    {
     "name": "stdout",
     "output_type": "stream",
     "text": [
      "content='我是阿里云开发的一种人工智能助手，专注于生成高质量的文本内容。无论是解答问题、提供信息、进行对话，还是创造故事、提供建议，我都能以准确、有用且易于理解的方式回应您的需求。我的目标是成为您的知识伙伴，帮助您获取所需的信息，解决疑惑，提升工作效率。无论您需要学术知识、技术指南、生活建议还是娱乐内容，我都会尽力提供最合适的帮助。请随时向我提问，我在这里为您服务。' additional_kwargs={'refusal': None} response_metadata={'token_usage': {'completion_tokens': 103, 'prompt_tokens': 160, 'total_tokens': 263, 'completion_tokens_details': None, 'prompt_tokens_details': None}, 'model_name': 'Qwen2.5-7B-Instruct-AWQ', 'system_fingerprint': None, 'finish_reason': 'stop', 'logprobs': None} id='run-108da541-97e2-4c8a-b238-f9860d5808ae-0' usage_metadata={'input_tokens': 160, 'output_tokens': 103, 'total_tokens': 263, 'input_token_details': {}, 'output_token_details': {}}\n",
      "content='阿里云、人工智能助手、文本生成、问题解答、信息提供、对话、知识伙伴、获取信息、解决疑惑、提升效率、学术知识、技术指南、生活建议、娱乐内容、帮助、提问' additional_kwargs={'refusal': None} response_metadata={'token_usage': {'completion_tokens': 45, 'prompt_tokens': 280, 'total_tokens': 325, 'completion_tokens_details': None, 'prompt_tokens_details': None}, 'model_name': 'Qwen2.5-7B-Instruct-AWQ', 'system_fingerprint': None, 'finish_reason': 'stop', 'logprobs': None} id='run-397e3bad-f292-4ac2-81a9-ca9f1405e2e4-0' usage_metadata={'input_tokens': 280, 'output_tokens': 45, 'total_tokens': 325, 'input_token_details': {}, 'output_token_details': {}}\n"
     ]
    },
    {
     "data": {
      "text/plain": [
       "'\\n上述的输入可以采用循环的方式来模拟对话\\n'"
      ]
     },
     "execution_count": 4,
     "metadata": {},
     "output_type": "execute_result"
    }
   ],
   "source": [
    "\n",
    "session_id = \"111\"\n",
    "\n",
    "response_01 = chain_with_history.invoke({\"question\": \"介绍你自己。\"}, config={\"configurable\": {\"session_id\": session_id}})\n",
    "print(response_01)\n",
    "\n",
    "response_02 = chain_with_history.invoke({\"question\": \"把你的回答整理成关键字的形式展示\"}, config={\"configurable\": {\"session_id\": session_id}})\n",
    "print(response_02)\n",
    "\n",
    "\"\"\"\n",
    "上述的输入可以采用循环的方式来模拟对话\n",
    "\"\"\"\n",
    "\n",
    "\n",
    "\n",
    "\n"
   ]
  },
  {
   "cell_type": "code",
   "execution_count": 5,
   "id": "7b608916-d922-4f73-b104-bcc33791a933",
   "metadata": {
    "execution": {
     "iopub.execute_input": "2024-10-24T03:07:14.222389Z",
     "iopub.status.busy": "2024-10-24T03:07:14.221945Z",
     "iopub.status.idle": "2024-10-24T03:07:14.232909Z",
     "shell.execute_reply": "2024-10-24T03:07:14.231568Z",
     "shell.execute_reply.started": "2024-10-24T03:07:14.222337Z"
    }
   },
   "outputs": [
    {
     "name": "stdout",
     "output_type": "stream",
     "text": [
      "[HumanMessage(content='介绍你自己。', additional_kwargs={}, response_metadata={}), AIMessage(content='我是一个大型语言模型，由阿里云开发和维护。我被设计用来生成人类高质量的文本，回答各种问题、提供信息、进行对话等。我可以帮助解答问题、提供解释、创造故事、提供建议等。我的目标是为用户提供准确、有用且易于理解的回答。请随时向我提问，我会尽力提供帮助。', additional_kwargs={'refusal': None}, response_metadata={'token_usage': {'completion_tokens': 76, 'prompt_tokens': 22, 'total_tokens': 98, 'completion_tokens_details': None, 'prompt_tokens_details': None}, 'model_name': 'Qwen2.5-7B-Instruct-AWQ', 'system_fingerprint': None, 'finish_reason': 'stop', 'logprobs': None}, id='run-defb5428-6a6c-4598-a874-a40b90cbc9df-0', usage_metadata={'input_tokens': 22, 'output_tokens': 76, 'total_tokens': 98, 'input_token_details': {}, 'output_token_details': {}}), HumanMessage(content='把你的回答整理成关键字的形式展示', additional_kwargs={}, response_metadata={}), AIMessage(content='大型语言模型、阿里云、文本生成、问题解答、信息提供、对话、帮助、准确、有用、易于理解、用户提问、提供帮助', additional_kwargs={'refusal': None}, response_metadata={'token_usage': {'completion_tokens': 33, 'prompt_tokens': 115, 'total_tokens': 148, 'completion_tokens_details': None, 'prompt_tokens_details': None}, 'model_name': 'Qwen2.5-7B-Instruct-AWQ', 'system_fingerprint': None, 'finish_reason': 'stop', 'logprobs': None}, id='run-b2a6c0c3-10b5-4b8e-8137-5f6cd17a2290-0', usage_metadata={'input_tokens': 115, 'output_tokens': 33, 'total_tokens': 148, 'input_token_details': {}, 'output_token_details': {}}), HumanMessage(content='介绍你自己。', additional_kwargs={}, response_metadata={}), AIMessage(content='我是阿里云开发的一种人工智能助手，专注于生成高质量的文本内容。无论是解答问题、提供信息、进行对话，还是创造故事、提供建议，我都能以准确、有用且易于理解的方式回应您的需求。我的目标是成为您的知识伙伴，帮助您获取所需的信息，解决疑惑，提升工作效率。无论您需要学术知识、技术指南、生活建议还是娱乐内容，我都会尽力提供最合适的帮助。请随时向我提问，我在这里为您服务。', additional_kwargs={'refusal': None}, response_metadata={'token_usage': {'completion_tokens': 103, 'prompt_tokens': 160, 'total_tokens': 263, 'completion_tokens_details': None, 'prompt_tokens_details': None}, 'model_name': 'Qwen2.5-7B-Instruct-AWQ', 'system_fingerprint': None, 'finish_reason': 'stop', 'logprobs': None}, id='run-108da541-97e2-4c8a-b238-f9860d5808ae-0', usage_metadata={'input_tokens': 160, 'output_tokens': 103, 'total_tokens': 263, 'input_token_details': {}, 'output_token_details': {}}), HumanMessage(content='把你的回答整理成关键字的形式展示', additional_kwargs={}, response_metadata={}), AIMessage(content='阿里云、人工智能助手、文本生成、问题解答、信息提供、对话、知识伙伴、获取信息、解决疑惑、提升效率、学术知识、技术指南、生活建议、娱乐内容、帮助、提问', additional_kwargs={'refusal': None}, response_metadata={'token_usage': {'completion_tokens': 45, 'prompt_tokens': 280, 'total_tokens': 325, 'completion_tokens_details': None, 'prompt_tokens_details': None}, 'model_name': 'Qwen2.5-7B-Instruct-AWQ', 'system_fingerprint': None, 'finish_reason': 'stop', 'logprobs': None}, id='run-397e3bad-f292-4ac2-81a9-ca9f1405e2e4-0', usage_metadata={'input_tokens': 280, 'output_tokens': 45, 'total_tokens': 325, 'input_token_details': {}, 'output_token_details': {}})]\n"
     ]
    }
   ],
   "source": [
    "\n",
    "\n",
    "\"\"\"\n",
    "打印对话历史\n",
    "\n",
    "\"\"\"\n",
    "# 打印session_id=111的对话历史\n",
    "\n",
    "session_history = RedisChatMessageHistory(session_id=\"111\", url=\"redis://localhost:6379/0\")\n",
    "print(session_history.messages)\n"
   ]
  },
  {
   "cell_type": "code",
   "execution_count": null,
   "id": "3bfdc819-2d6c-4793-9796-7135504d73d7",
   "metadata": {},
   "outputs": [],
   "source": []
  }
 ],
 "metadata": {
  "kernelspec": {
   "display_name": "torch",
   "language": "python",
   "name": "torch"
  },
  "language_info": {
   "codemirror_mode": {
    "name": "ipython",
    "version": 3
   },
   "file_extension": ".py",
   "mimetype": "text/x-python",
   "name": "python",
   "nbconvert_exporter": "python",
   "pygments_lexer": "ipython3",
   "version": "3.10.14"
  }
 },
 "nbformat": 4,
 "nbformat_minor": 5
}
