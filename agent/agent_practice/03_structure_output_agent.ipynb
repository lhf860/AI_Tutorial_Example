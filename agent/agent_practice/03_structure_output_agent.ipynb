{
 "cells": [
  {
   "cell_type": "code",
   "execution_count": 1,
   "id": "09557db7-2aaa-42cb-8f63-6e7c4d7ebf49",
   "metadata": {
    "execution": {
     "iopub.execute_input": "2024-10-24T04:46:23.714702Z",
     "iopub.status.busy": "2024-10-24T04:46:23.713003Z",
     "iopub.status.idle": "2024-10-24T04:46:23.722150Z",
     "shell.execute_reply": "2024-10-24T04:46:23.720418Z",
     "shell.execute_reply.started": "2024-10-24T04:46:23.714614Z"
    }
   },
   "outputs": [],
   "source": [
    "\"\"\"\n",
    "\n",
    "主要是根据RAG的召回文档作为上下文，利用Agent回答query的问题，并给出结构化的输出：相关性评分、评分的依据或解释\n",
    "\n",
    "\"\"\"\n",
    "\n",
    "import os, json\n",
    "from langchain_openai import ChatOpenAI\n",
    "\n"
   ]
  },
  {
   "cell_type": "code",
   "execution_count": 2,
   "id": "2dd9a1d4-e170-4956-abb8-eb83b8ea9b8c",
   "metadata": {
    "execution": {
     "iopub.execute_input": "2024-10-24T04:46:44.441345Z",
     "iopub.status.busy": "2024-10-24T04:46:44.440338Z",
     "iopub.status.idle": "2024-10-24T04:46:44.564316Z",
     "shell.execute_reply": "2024-10-24T04:46:44.563619Z",
     "shell.execute_reply.started": "2024-10-24T04:46:44.441247Z"
    }
   },
   "outputs": [],
   "source": [
    "\n",
    "\n",
    "llm = ChatOpenAI(api_key=\"EMPTY\", base_url=\"http://localhost:8000/v1\", model=\"Qwen2.5-7B-Instruct-AWQ\",)\n",
    "\n"
   ]
  },
  {
   "cell_type": "code",
   "execution_count": 13,
   "id": "264329d2-13b8-4374-9778-41c72e72f88c",
   "metadata": {
    "execution": {
     "iopub.execute_input": "2024-10-24T05:33:10.561197Z",
     "iopub.status.busy": "2024-10-24T05:33:10.560310Z",
     "iopub.status.idle": "2024-10-24T05:33:10.572952Z",
     "shell.execute_reply": "2024-10-24T05:33:10.571236Z",
     "shell.execute_reply.started": "2024-10-24T05:33:10.561136Z"
    }
   },
   "outputs": [
    {
     "name": "stdout",
     "output_type": "stream",
     "text": [
      "1:这篇文章介绍了中国八大菜系的起源、特色和代表性菜肴，包括川菜、粤菜、鲁菜等，通过对比不同菜系的特点，间接反映了南北饮食文化的差异。\n",
      "2:本文探讨了中国传统节日中的饮食习俗，如春节的饺子、端午节的粽子等，这些习俗在南北地区有着不同的表现形式，从而体现了南北饮食文化的差异。\n",
      "3:这篇文章研究了中国南北地区主食（如北方的面食和南方的米饭）的差异，并分析了这些差异对人们健康的影响，从营养学的角度探讨了饮食文化的不同。\n",
      "4:本文比较了中国南北地区的酒文化，包括酒的种类、饮酒习惯和酒在社交中的作用，这些差异反映了南北饮食文化的不同侧面\n"
     ]
    }
   ],
   "source": [
    "\n",
    "from langchain_core.prompts import PromptTemplate\n",
    "\n",
    "\n",
    "template = \"\"\"给定question相关的上下文候选文档，请输出最相似的文档编号id、相关性评分（得分范围：1-10，得分越高越相似）以及相关性的依据。\n",
    "context:\n",
    "{context}\n",
    "\n",
    "question: \n",
    "{question}\n",
    "\n",
    "\"\"\"\n",
    "\n",
    "prompt = PromptTemplate.from_template(template)\n",
    "\n",
    "# 候选相关文档，可以是RAG召回的文档、embedding召回的文档、BM25召回的文档。\n",
    "\n",
    "question = \"中国南北的菜系文化有什么不同\"\n",
    "\n",
    "candidated_doc_list = [\"这篇文章介绍了中国八大菜系的起源、特色和代表性菜肴，包括川菜、粤菜、鲁菜等，通过对比不同菜系的特点，间接反映了南北饮食文化的差异。\",\n",
    "                       \"本文探讨了中国传统节日中的饮食习俗，如春节的饺子、端午节的粽子等，这些习俗在南北地区有着不同的表现形式，从而体现了南北饮食文化的差异。\",\n",
    "                       \"这篇文章研究了中国南北地区主食（如北方的面食和南方的米饭）的差异，并分析了这些差异对人们健康的影响，从营养学的角度探讨了饮食文化的不同。\",\n",
    "                       \"本文比较了中国南北地区的酒文化，包括酒的种类、饮酒习惯和酒在社交中的作用，这些差异反映了南北饮食文化的不同侧面\"\n",
    "                      ]\n",
    "context = \"\\n\".join([str(index+1) + \":\" + doc for index, doc in enumerate(candidated_doc_list)])\n",
    "print(context)"
   ]
  },
  {
   "cell_type": "code",
   "execution_count": 14,
   "id": "68fa9743-096d-4206-bd61-aad612781a2f",
   "metadata": {
    "execution": {
     "iopub.execute_input": "2024-10-24T05:33:11.500299Z",
     "iopub.status.busy": "2024-10-24T05:33:11.498640Z",
     "iopub.status.idle": "2024-10-24T05:33:11.525400Z",
     "shell.execute_reply": "2024-10-24T05:33:11.523801Z",
     "shell.execute_reply.started": "2024-10-24T05:33:11.500215Z"
    }
   },
   "outputs": [],
   "source": [
    "\n",
    "from typing import Optional, List, Annotated\n",
    "\n",
    "from pydantic import BaseModel, Field\n",
    "\n",
    "\n",
    "# https://api.python.langchain.com/en/latest/openai/chat_models/langchain_openai.chat_models.base.ChatOpenAI.html#langchain_openai.chat_models.base.ChatOpenAI.extra_body\n",
    "# 上述中主要看到的是extra_body, 一个作用是用来定义输出的格式\n",
    "# 可以参考： https://python.langchain.com/docs/how_to/structured_output/#the-with_structured_output-method\n",
    "\n",
    "class SelectAnswer(BaseModel):\n",
    "    answer_id: str = Field(description=\"问题与候选文档最相似的文档编号ID\")\n",
    "    answer_score: float = Field(description=\"问题与最相关文档的得分，得分范围1-10，分值越大，相关性越高\")\n",
    "    answer_explain: str = Field(description=\"解释问题与该文档最相似的原因\")\n",
    "\n",
    "llm_with_structured_output = llm.with_structured_output(SelectAnswer)\n",
    "\n",
    "qa_chain = prompt | llm\n",
    "\n",
    "qa_chain_with_structure_output = prompt | llm_with_structured_output\n",
    "\n"
   ]
  },
  {
   "cell_type": "code",
   "execution_count": 16,
   "id": "66b3b042-b447-447a-a3f8-ed57fd11c76c",
   "metadata": {
    "execution": {
     "iopub.execute_input": "2024-10-24T05:34:17.881358Z",
     "iopub.status.busy": "2024-10-24T05:34:17.879745Z",
     "iopub.status.idle": "2024-10-24T05:34:18.556413Z",
     "shell.execute_reply": "2024-10-24T05:34:18.554822Z",
     "shell.execute_reply.started": "2024-10-24T05:34:17.881274Z"
    }
   },
   "outputs": [
    {
     "name": "stdout",
     "output_type": "stream",
     "text": [
      "----------------------通过指令prompt来控制输出------------------\n",
      "['文档编号：1', '相关性评分：9', '依据：这篇文章直接讨论了中国八大菜系的起源、特色和代表性菜肴的区别，特别是强调了川菜、粤菜、鲁菜等南北菜系的特点差异，间接反映了南北饮食文化的差异，与问题中关于中国南北菜系文化不同的询问高度相关。']\n"
     ]
    }
   ],
   "source": [
    "\n",
    "print(\"----------------------通过指令prompt来控制输出------------------\")\n",
    "\n",
    "inputs = {\"question\": question, \"context\": context}\n",
    "\n",
    "response_qa = qa_chain.invoke(inputs)\n",
    "print(response_qa.content.split(\"\\n\"))\n",
    "\n"
   ]
  },
  {
   "cell_type": "code",
   "execution_count": 17,
   "id": "f3cfd744-2d85-4001-99d4-ca2566c91304",
   "metadata": {
    "execution": {
     "iopub.execute_input": "2024-10-24T05:35:32.925153Z",
     "iopub.status.busy": "2024-10-24T05:35:32.923616Z",
     "iopub.status.idle": "2024-10-24T05:35:50.497296Z",
     "shell.execute_reply": "2024-10-24T05:35:50.495592Z",
     "shell.execute_reply.started": "2024-10-24T05:35:32.925070Z"
    }
   },
   "outputs": [
    {
     "name": "stdout",
     "output_type": "stream",
     "text": [
      "----------------------通过指定pydantic或json schema来控制输出------------------\n",
      "answer_id='1' answer_score=8.0 answer_explain='这篇文章详细介绍了中国八大菜系的起源、特色和代表性菜肴，明确区分了川菜、粤菜、鲁菜等南北菜系的特点，深入探讨了不同菜系背后蕴含的南北饮食文化的差异，符合问题关于中国南北菜系文化不同的需求。'\n"
     ]
    }
   ],
   "source": [
    "print(\"----------------------通过指定pydantic或json schema来控制输出------------------\")\n",
    "\n",
    "response_qa_with_structured_output = qa_chain_with_structure_output.invoke(inputs)\n",
    "print(response_qa_with_structured_output)\n"
   ]
  },
  {
   "cell_type": "code",
   "execution_count": 18,
   "id": "26e92ec4-c4ac-4d7e-b72f-302176742ff2",
   "metadata": {
    "execution": {
     "iopub.execute_input": "2024-10-24T05:36:42.753304Z",
     "iopub.status.busy": "2024-10-24T05:36:42.752555Z",
     "iopub.status.idle": "2024-10-24T05:36:42.762603Z",
     "shell.execute_reply": "2024-10-24T05:36:42.760851Z",
     "shell.execute_reply.started": "2024-10-24T05:36:42.753225Z"
    }
   },
   "outputs": [
    {
     "name": "stdout",
     "output_type": "stream",
     "text": [
      "1\n",
      "8.0\n",
      "这篇文章详细介绍了中国八大菜系的起源、特色和代表性菜肴，明确区分了川菜、粤菜、鲁菜等南北菜系的特点，深入探讨了不同菜系背后蕴含的南北饮食文化的差异，符合问题关于中国南北菜系文化不同的需求。\n"
     ]
    }
   ],
   "source": [
    "print(response_qa_with_structured_output.answer_id)\n",
    "print(response_qa_with_structured_output.answer_score)\n",
    "print(response_qa_with_structured_output.answer_explain)"
   ]
  },
  {
   "cell_type": "code",
   "execution_count": null,
   "id": "0706a138-2b0b-40aa-9877-9e8f6366bc4b",
   "metadata": {},
   "outputs": [],
   "source": [
    "\n",
    "\n"
   ]
  }
 ],
 "metadata": {
  "kernelspec": {
   "display_name": "torch2",
   "language": "python",
   "name": "torch2"
  },
  "language_info": {
   "codemirror_mode": {
    "name": "ipython",
    "version": 3
   },
   "file_extension": ".py",
   "mimetype": "text/x-python",
   "name": "python",
   "nbconvert_exporter": "python",
   "pygments_lexer": "ipython3",
   "version": "3.10.15"
  }
 },
 "nbformat": 4,
 "nbformat_minor": 5
}
