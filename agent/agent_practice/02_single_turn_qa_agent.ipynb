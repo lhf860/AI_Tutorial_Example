{
 "cells": [
  {
   "cell_type": "code",
   "execution_count": 1,
   "id": "96891980-33d7-49c1-b53f-45d16f705034",
   "metadata": {
    "execution": {
     "iopub.execute_input": "2024-10-24T03:12:39.430846Z",
     "iopub.status.busy": "2024-10-24T03:12:39.429876Z",
     "iopub.status.idle": "2024-10-24T03:12:39.439533Z",
     "shell.execute_reply": "2024-10-24T03:12:39.437874Z",
     "shell.execute_reply.started": "2024-10-24T03:12:39.430764Z"
    }
   },
   "outputs": [],
   "source": [
    "\n",
    "\"\"\"\n",
    "\n",
    "实现一个给定上下文context和问题question的问答Agent。\n",
    "\n",
    "\"\"\"\n",
    "\n",
    "import os, json\n",
    "from langchain_openai import ChatOpenAI\n",
    "from langchain_core.prompts import PromptTemplate\n",
    "\n"
   ]
  },
  {
   "cell_type": "code",
   "execution_count": 2,
   "id": "cb2ed178-b7e2-4209-8028-06fe05da37a7",
   "metadata": {
    "execution": {
     "iopub.execute_input": "2024-10-24T03:13:38.775350Z",
     "iopub.status.busy": "2024-10-24T03:13:38.773447Z",
     "iopub.status.idle": "2024-10-24T03:13:38.898538Z",
     "shell.execute_reply": "2024-10-24T03:13:38.897374Z",
     "shell.execute_reply.started": "2024-10-24T03:13:38.775231Z"
    }
   },
   "outputs": [],
   "source": [
    "\n",
    "\n",
    "llm = ChatOpenAI(api_key=\"EMPTY\", base_url=\"http://localhost:8000/v1\", model=\"Qwen2.5-7B-Instruct-AWQ\")\n",
    "\n"
   ]
  },
  {
   "cell_type": "code",
   "execution_count": 4,
   "id": "40dc62a2-9377-4c61-a35f-0b70ce0bbe95",
   "metadata": {
    "execution": {
     "iopub.execute_input": "2024-10-24T03:17:49.397963Z",
     "iopub.status.busy": "2024-10-24T03:17:49.396985Z",
     "iopub.status.idle": "2024-10-24T03:17:49.406915Z",
     "shell.execute_reply": "2024-10-24T03:17:49.405371Z",
     "shell.execute_reply.started": "2024-10-24T03:17:49.397882Z"
    }
   },
   "outputs": [],
   "source": [
    "\n",
    "\n",
    "template = \"\"\"给定一个上下文context和问题question，请提供准确且简短的回答，要求答案来自于原文，如果原文中不包含答案，返回“无法回答”。\n",
    "context:\n",
    "{context}\n",
    "\n",
    "question:\n",
    "{question}\n",
    "\n",
    "\"\"\"\n",
    "\n",
    "\n",
    "prompt = PromptTemplate.from_template(template=template)\n",
    "\n",
    "\n",
    "qa_chain = prompt | llm\n"
   ]
  },
  {
   "cell_type": "code",
   "execution_count": 9,
   "id": "189cec90-fc52-4979-a180-383c65194263",
   "metadata": {
    "execution": {
     "iopub.execute_input": "2024-10-24T03:23:24.910461Z",
     "iopub.status.busy": "2024-10-24T03:23:24.908803Z",
     "iopub.status.idle": "2024-10-24T03:23:25.588533Z",
     "shell.execute_reply": "2024-10-24T03:23:25.586806Z",
     "shell.execute_reply.started": "2024-10-24T03:23:24.910377Z"
    }
   },
   "outputs": [
    {
     "name": "stdout",
     "output_type": "stream",
     "text": [
      "俄罗斯总统普京在2022年10月23日主持了金砖国家领导人第十六次会晤。\n",
      "俄罗斯总统普京主持了这场会议的会晤。\n",
      "这次会晤是金砖国家领导人第十六次会晤。\n"
     ]
    }
   ],
   "source": [
    "\n",
    "\n",
    "context = \"当地时间10月23日上午，金砖国家领导人第十六次会晤在喀山会展中心举行。俄罗斯总统普京主持会晤。中国国家主席习近平、巴西总统卢拉（线上）、埃及总统塞西、埃塞俄比亚总理阿比、印度总理莫迪、伊朗总统佩泽希齐扬、南非总统拉马福萨、阿联酋总统穆罕默德等出席。\"\n",
    "\n",
    "\n",
    "question = \"谁在什么时候主持了这场会议的会晤？\"\n",
    "question_person_name = \"谁主持了这场会议的会晤？请用人名回答\"\n",
    "question1 = \"这次会晤是第几次会晤\"\n",
    "\n",
    "response = qa_chain.invoke({\"context\": context, \"question\": question})\n",
    "print(response.content)\n",
    "\n",
    "\n",
    "response = qa_chain.invoke({\"context\": context, \"question\": question_person_name})\n",
    "print(response.content)\n",
    "\n",
    "response = qa_chain.invoke({\"context\": context, \"question\": question1})\n",
    "print(response.content)"
   ]
  },
  {
   "cell_type": "code",
   "execution_count": null,
   "id": "67dbe14a-c5ef-4c7e-9fbc-804437a5e6fa",
   "metadata": {},
   "outputs": [],
   "source": []
  }
 ],
 "metadata": {
  "kernelspec": {
   "display_name": "deepspeed",
   "language": "python",
   "name": "deepspeed"
  },
  "language_info": {
   "codemirror_mode": {
    "name": "ipython",
    "version": 3
   },
   "file_extension": ".py",
   "mimetype": "text/x-python",
   "name": "python",
   "nbconvert_exporter": "python",
   "pygments_lexer": "ipython3",
   "version": "3.10.9"
  }
 },
 "nbformat": 4,
 "nbformat_minor": 5
}
