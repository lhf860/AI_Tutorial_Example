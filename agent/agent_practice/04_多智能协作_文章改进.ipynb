{
 "cells": [
  {
   "cell_type": "code",
   "execution_count": 1,
   "id": "7a806a51-b9a2-4c2d-983b-b5b1117d3dc9",
   "metadata": {
    "execution": {
     "iopub.execute_input": "2024-10-25T05:27:17.381946Z",
     "iopub.status.busy": "2024-10-25T05:27:17.381083Z",
     "iopub.status.idle": "2024-10-25T05:27:18.970068Z",
     "shell.execute_reply": "2024-10-25T05:27:18.968114Z",
     "shell.execute_reply.started": "2024-10-25T05:27:17.381866Z"
    }
   },
   "outputs": [],
   "source": [
    "\n",
    "\"\"\"\n",
    "通过langgraph来创建多智能体，实现对输入新闻文章的改进。\n",
    "\n",
    "\"\"\"\n",
    "\n",
    "import os, json\n",
    "from langchain_openai import ChatOpenAI\n",
    "from langchain_core.prompts import PromptTemplate, ChatPromptTemplate, MessagesPlaceholder\n"
   ]
  },
  {
   "cell_type": "code",
   "execution_count": 2,
   "id": "3edacd3b-eaba-4b98-a23e-6031c2065a5d",
   "metadata": {
    "execution": {
     "iopub.execute_input": "2024-10-25T05:27:18.972012Z",
     "iopub.status.busy": "2024-10-25T05:27:18.971728Z",
     "iopub.status.idle": "2024-10-25T05:27:19.187309Z",
     "shell.execute_reply": "2024-10-25T05:27:19.186210Z",
     "shell.execute_reply.started": "2024-10-25T05:27:18.971981Z"
    }
   },
   "outputs": [],
   "source": [
    "from pydantic import BaseModel, Field\n",
    "\n",
    "model = \"Qwen2.5-7B-Instruct-AWQ\"\n",
    "# model = \"internlm2_5-7b-chat\"\n",
    "\n",
    "llm = ChatOpenAI(api_key=\"EMPTY\", base_url=\"http://localhost:8000/v1\", model=model,\n",
    "                temperature=0.7,\n",
    "                max_tokens=None)\n",
    "\n",
    "\n",
    "# 评价Agent：指出文章的不足之处\n",
    "class CriticOutput(BaseModel):\n",
    "    critic_output: str = Field(description=\"指出新闻或文章的不足之处，要求尽可能简洁明了。\")\n",
    "\n",
    "\n",
    "critic_llm_with_structured_output = llm.with_structured_output(CriticOutput)\n",
    "\n",
    "# 润色Agent： 根据news和不足之处进行文章润色。\n",
    "class CorrectNews(BaseModel):\n",
    "    correct_news: str = Field(description=\"根据输入的新闻或文章的不足之处对输入进行润色，尽可能简洁通俗易懂。\")\n",
    "\n",
    "correct_llm_with_structured_output = llm.with_structured_output(CorrectNews)\n",
    "\n",
    "# 评估润色后的文章Agent\n",
    "\n",
    "class EvalScore(BaseModel):\n",
    "    #Field(description=\"对输入的文章从结构、语法、写作完整性进行综合评估，得分范围-10，分值越大，文章越好\")\n",
    "    structure_score: int = Field(description=\"对输入的文章从结构方面进行综合评估，得分范围1-10，分值越大，文章越好\")\n",
    "    grammar_score: int = Field(description=\"对输入的文章从语法方面进行综合评估，得分范围1-10，分值越大，文章越好\")\n",
    "    writing_integrity_score: int = Field(description=\"对输入的文章从写作完整性方面进行综合评估，得分范围1-10，分值越大，文章越好\")\n",
    "\n",
    "eval_llm_with_structured_output = llm.with_structured_output(EvalScore)\n"
   ]
  },
  {
   "cell_type": "code",
   "execution_count": 3,
   "id": "6451dd2b-e989-49ef-a5f0-8a3b60a9e66b",
   "metadata": {
    "execution": {
     "iopub.execute_input": "2024-10-25T05:27:19.188637Z",
     "iopub.status.busy": "2024-10-25T05:27:19.188386Z",
     "iopub.status.idle": "2024-10-25T05:27:19.234205Z",
     "shell.execute_reply": "2024-10-25T05:27:19.232826Z",
     "shell.execute_reply.started": "2024-10-25T05:27:19.188602Z"
    }
   },
   "outputs": [],
   "source": [
    "\n",
    "from typing import Annotated, TypedDict\n",
    "# from typing_extensions import TypedDict\n",
    "\n",
    "from langgraph.graph import START, END, StateGraph\n",
    "\n",
    "\n",
    "class State(TypedDict):\n",
    "    origin_news: Annotated[str, \"这是最原始的文章内容\"]  # 第一次输入的文章\n",
    "    inadequacy: Annotated[str, \"这是文章的不足之处\"]  # 不足之处\n",
    "    corrected_news: Annotated[str, \"这是根据不足之处改进后的文章内容\"] # 润色之后的文章\n",
    "    score: Annotated[float,\"文章评估得分\"]\n",
    "\n",
    "\n",
    "\n",
    "# print(State()[\"corrected_new\"])\n",
    "\n",
    "def critic_agent(state: State) -> State:\n",
    "    print(\"--------------critic_agent---------------------\")\n",
    "    print(state)\n",
    "    flag = False\n",
    "    if \"corrected_news\" not in state:\n",
    "    # if state[\"corrected_news\"]:  # 若为空，则是第一次调用该Agent。\n",
    "        state[\"corrected_news\"] = state[\"origin_news\"]\n",
    "        flag= True\n",
    "    print(state)\n",
    "    template = \"\"\" 根据下面的文章，指出其不足之处，不足之处从下面的角度进行简短的回答，每个方面的不足描述要求简短、通俗易懂，20字左右：\n",
    "    1. 文章的完整性。\n",
    "    2. 文章的辞藻是否华丽\n",
    "    3. 文章是否能够吸引读者。\n",
    "\n",
    "    文章内容：\n",
    "    {news}\n",
    "    不足之处为(中文回答)：\n",
    "    \"\"\"\n",
    "    \n",
    "    prompt = PromptTemplate.from_template(template=template)\n",
    "    # chain = prompt | critic_llm_with_structured_output\n",
    "    chain = prompt | llm\n",
    "    response = chain.invoke({\"news\": state[\"corrected_news\"]})\n",
    "    inadequacy = response.content\n",
    "    if not flag:\n",
    "        return {\"inadequacy\": inadequacy}\n",
    "    else:\n",
    "        return {\"inadequacy\": inadequacy, \"corrected_news\": state[\"corrected_news\"]}\n",
    "\n",
    "\n",
    "def correct_agent(state: State)-> State:\n",
    "    print(\"--------------correct_agent---------------------\")\n",
    "    print(state)\n",
    "\n",
    "    template = \"\"\"你是一个资深的文章编辑，善于根据不足之处完善文章，请根据下面的文章以及对应的不足之处进行完善文章内容。\n",
    "    文章：\n",
    "    {news}\n",
    "    不足之处：\n",
    "    {inadequacy}\n",
    "    完善后的文章内容（中文回答）：\n",
    "    \"\"\"\n",
    "\n",
    "    prompt = PromptTemplate.from_template(template=template)\n",
    "    # chain = prompt | correct_llm_with_structured_output\n",
    "    chain = prompt | llm\n",
    "\n",
    "    response = chain.invoke({\"news\": state[\"corrected_news\"], \"inadequacy\": state[\"inadequacy\"]})\n",
    "\n",
    "    # corrected_news = response.correct_news\n",
    "    corrected_news = response.content\n",
    "    return {\"corrected_news\": corrected_news}\n",
    "\n",
    "\n",
    "def eval_agent(state: State):\n",
    "    print(\"--------------eval_agent---------------------\")\n",
    "    print(state)\n",
    "    if \"corrected_news\" not in state:\n",
    "    # if not state[\"corrected_news\"]:  # 首先进行评估\n",
    "        state[\"corrected_news\"] = state[\"origin_news\"]\n",
    "\n",
    "    news = state[\"corrected_news\"]\n",
    "\n",
    "    template = \"\"\"给定下面的文章，对输入的文章从结构、语法、写作完整性进行综合评估，得分范围1-10，分值越大，文章越好。\n",
    "    文章如下：\n",
    "    {news}\n",
    "    \"\"\"\n",
    "\n",
    "    prompt = PromptTemplate.from_template(template)\n",
    "\n",
    "    chain = prompt | eval_llm_with_structured_output\n",
    "    response = chain.invoke({\"news\": state[\"corrected_news\"]})\n",
    "    structure_score = response.structure_score\n",
    "    grammar_score = response.grammar_score\n",
    "    writing_integrity_score = response.writing_integrity_score\n",
    "\n",
    "    mean_score = (structure_score + grammar_score + writing_integrity_score) * 1.0 / 3\n",
    "    print(\"得分列表：\", [structure_score, grammar_score, writing_integrity_score])\n",
    "    return {\"score\": mean_score}\n",
    "\n",
    "def router_query(state: State):\n",
    "    \n",
    "    print(\"--------------router_query---------------------\")\n",
    "    print(state)\n",
    "    if state[\"score\"] > 8.0:  # 结束\n",
    "        return END\n",
    "    else:\n",
    "        return \"critic_agent\"\n",
    "    \n"
   ]
  },
  {
   "cell_type": "code",
   "execution_count": 4,
   "id": "3fbdc7bb-debc-466c-bc84-8f840cbd8cbd",
   "metadata": {
    "execution": {
     "iopub.execute_input": "2024-10-25T05:27:19.235443Z",
     "iopub.status.busy": "2024-10-25T05:27:19.235207Z",
     "iopub.status.idle": "2024-10-25T05:27:19.244463Z",
     "shell.execute_reply": "2024-10-25T05:27:19.243290Z",
     "shell.execute_reply.started": "2024-10-25T05:27:19.235414Z"
    }
   },
   "outputs": [],
   "source": [
    "\n",
    "# 创建multi-agent的flow\n",
    "\n",
    "builder = StateGraph(State)\n",
    "\n",
    "builder.add_node(\"critic_agent\",critic_agent)\n",
    "builder.add_node(\"correct_agent\", correct_agent)\n",
    "builder.add_node(\"eval_agent\", eval_agent)\n",
    "\n",
    "builder.add_edge(\"critic_agent\", \"correct_agent\")\n",
    "builder.add_edge(\"correct_agent\", \"eval_agent\")\n",
    "\n",
    "builder.add_conditional_edges(\"eval_agent\", router_query, {END: END, \"critic_agent\": \"critic_agent\"})\n",
    "\n",
    "builder.set_entry_point(\"eval_agent\")\n",
    "\n",
    "app = builder.compile()\n"
   ]
  },
  {
   "cell_type": "code",
   "execution_count": 5,
   "id": "69d652e1-a26f-4966-a2da-d5a7ed0cc16e",
   "metadata": {
    "execution": {
     "iopub.execute_input": "2024-10-25T05:27:19.245800Z",
     "iopub.status.busy": "2024-10-25T05:27:19.245571Z",
     "iopub.status.idle": "2024-10-25T05:27:20.162434Z",
     "shell.execute_reply": "2024-10-25T05:27:20.161024Z",
     "shell.execute_reply.started": "2024-10-25T05:27:19.245772Z"
    }
   },
   "outputs": [
    {
     "data": {
      "image/jpeg": "[encoded data removed]",
      "text/plain": [
       "<IPython.core.display.Image object>"
      ]
     },
     "metadata": {},
     "output_type": "display_data"
    }
   ],
   "source": [
    "# 打印工作流workflow\n",
    "\n",
    "from IPython.display import Image, display\n",
    "\n",
    "try:\n",
    "    display(Image(app.get_graph().draw_mermaid_png()))\n",
    "except Exception:\n",
    "    # This requires some extra dependencies and is optional\n",
    "    pass\n",
    "\n"
   ]
  },
  {
   "cell_type": "code",
   "execution_count": 6,
   "id": "d98e5bc3-3366-47f2-be57-31573d71b0fc",
   "metadata": {
    "execution": {
     "iopub.execute_input": "2024-10-25T05:27:20.167281Z",
     "iopub.status.busy": "2024-10-25T05:27:20.166709Z",
     "iopub.status.idle": "2024-10-25T05:27:25.529813Z",
     "shell.execute_reply": "2024-10-25T05:27:25.527402Z",
     "shell.execute_reply.started": "2024-10-25T05:27:20.167212Z"
    },
    "scrolled": true
   },
   "outputs": [
    {
     "name": "stdout",
     "output_type": "stream",
     "text": [
      "--------------eval_agent---------------------\n",
      "{'origin_news': '\\n近几年，人工智能（AI）技术发展的速度很快，很驶、智能家居和医疗健康等方面，人工智能术也带来了一些问题。\\n\\n一些专家指出，AI的应用可能会导致很多人失业，尤其是类完成大量的工作。同时，数据安全问题也是一个大问题，很多用户担心他们的个人信息会被泄露。此外，虽然AI技术很强大，但目前仍然有不少局限性，无法完全取代人类的智慧和创作能力。\\n\\n总的来说，人工智能的发张给社会带来了许多便利，但也面临着不少挑站。在未来，如何平衡AI带来的利与弊，成为了大家需要深思的一个问题。\\n'}\n",
      "得分列表： [8, 8, 7]\n",
      "--------------router_query---------------------\n",
      "{'score': 7.666666666666667, 'origin_news': '\\n近几年，人工智能（AI）技术发展的速度很快，很驶、智能家居和医疗健康等方面，人工智能术也带来了一些问题。\\n\\n一些专家指出，AI的应用可能会导致很多人失业，尤其是类完成大量的工作。同时，数据安全问题也是一个大问题，很多用户担心他们的个人信息会被泄露。此外，虽然AI技术很强大，但目前仍然有不少局限性，无法完全取代人类的智慧和创作能力。\\n\\n总的来说，人工智能的发张给社会带来了许多便利，但也面临着不少挑站。在未来，如何平衡AI带来的利与弊，成为了大家需要深思的一个问题。\\n'}\n",
      "--------------critic_agent---------------------\n",
      "{'origin_news': '\\n近几年，人工智能（AI）技术发展的速度很快，很驶、智能家居和医疗健康等方面，人工智能术也带来了一些问题。\\n\\n一些专家指出，AI的应用可能会导致很多人失业，尤其是类完成大量的工作。同时，数据安全问题也是一个大问题，很多用户担心他们的个人信息会被泄露。此外，虽然AI技术很强大，但目前仍然有不少局限性，无法完全取代人类的智慧和创作能力。\\n\\n总的来说，人工智能的发张给社会带来了许多便利，但也面临着不少挑站。在未来，如何平衡AI带来的利与弊，成为了大家需要深思的一个问题。\\n', 'score': 7.666666666666667}\n",
      "{'origin_news': '\\n近几年，人工智能（AI）技术发展的速度很快，很驶、智能家居和医疗健康等方面，人工智能术也带来了一些问题。\\n\\n一些专家指出，AI的应用可能会导致很多人失业，尤其是类完成大量的工作。同时，数据安全问题也是一个大问题，很多用户担心他们的个人信息会被泄露。此外，虽然AI技术很强大，但目前仍然有不少局限性，无法完全取代人类的智慧和创作能力。\\n\\n总的来说，人工智能的发张给社会带来了许多便利，但也面临着不少挑站。在未来，如何平衡AI带来的利与弊，成为了大家需要深思的一个问题。\\n', 'score': 7.666666666666667, 'corrected_news': '\\n近几年，人工智能（AI）技术发展的速度很快，很驶、智能家居和医疗健康等方面，人工智能术也带来了一些问题。\\n\\n一些专家指出，AI的应用可能会导致很多人失业，尤其是类完成大量的工作。同时，数据安全问题也是一个大问题，很多用户担心他们的个人信息会被泄露。此外，虽然AI技术很强大，但目前仍然有不少局限性，无法完全取代人类的智慧和创作能力。\\n\\n总的来说，人工智能的发张给社会带来了许多便利，但也面临着不少挑站。在未来，如何平衡AI带来的利与弊，成为了大家需要深思的一个问题。\\n'}\n",
      "--------------correct_agent---------------------\n",
      "{'origin_news': '\\n近几年，人工智能（AI）技术发展的速度很快，很驶、智能家居和医疗健康等方面，人工智能术也带来了一些问题。\\n\\n一些专家指出，AI的应用可能会导致很多人失业，尤其是类完成大量的工作。同时，数据安全问题也是一个大问题，很多用户担心他们的个人信息会被泄露。此外，虽然AI技术很强大，但目前仍然有不少局限性，无法完全取代人类的智慧和创作能力。\\n\\n总的来说，人工智能的发张给社会带来了许多便利，但也面临着不少挑站。在未来，如何平衡AI带来的利与弊，成为了大家需要深思的一个问题。\\n', 'inadequacy': '1. 文章的完整性不足，缺少具体的解决方案或未来展望，让读者难以预见后续发展。\\n2. 文章的辞藻较为平淡，缺乏生动性和感染力，难以吸引和保持读者的兴趣。\\n3. 文章的吸引力不足，没有提出引人思考的问题或观点，可能导致读者阅读后印象不深刻。', 'corrected_news': '\\n近几年，人工智能（AI）技术发展的速度很快，很驶、智能家居和医疗健康等方面，人工智能术也带来了一些问题。\\n\\n一些专家指出，AI的应用可能会导致很多人失业，尤其是类完成大量的工作。同时，数据安全问题也是一个大问题，很多用户担心他们的个人信息会被泄露。此外，虽然AI技术很强大，但目前仍然有不少局限性，无法完全取代人类的智慧和创作能力。\\n\\n总的来说，人工智能的发张给社会带来了许多便利，但也面临着不少挑站。在未来，如何平衡AI带来的利与弊，成为了大家需要深思的一个问题。\\n', 'score': 7.666666666666667}\n",
      "--------------eval_agent---------------------\n",
      "{'origin_news': '\\n近几年，人工智能（AI）技术发展的速度很快，很驶、智能家居和医疗健康等方面，人工智能术也带来了一些问题。\\n\\n一些专家指出，AI的应用可能会导致很多人失业，尤其是类完成大量的工作。同时，数据安全问题也是一个大问题，很多用户担心他们的个人信息会被泄露。此外，虽然AI技术很强大，但目前仍然有不少局限性，无法完全取代人类的智慧和创作能力。\\n\\n总的来说，人工智能的发张给社会带来了许多便利，但也面临着不少挑站。在未来，如何平衡AI带来的利与弊，成为了大家需要深思的一个问题。\\n', 'inadequacy': '1. 文章的完整性不足，缺少具体的解决方案或未来展望，让读者难以预见后续发展。\\n2. 文章的辞藻较为平淡，缺乏生动性和感染力，难以吸引和保持读者的兴趣。\\n3. 文章的吸引力不足，没有提出引人思考的问题或观点，可能导致读者阅读后印象不深刻。', 'corrected_news': '近年来，人工智能（AI）技术以惊人速度发展，不断渗透到购物、智能家居以及医疗健康等多个领域。然而，这些技术的飞速进步也带来了广泛的挑战和问题，引发社会的广泛关注。\\n\\n首先，AI的广泛应用有其潜在的风险。专家指出，随着自动化程度的提高，大量岗位可能被取代，特别是那些可以被机器高效执行的工作。这不仅可能导致大量人员失业，还可能引发社会经济结构的变革。然而，解决这个问题的关键在于，我们可以将AI作为增强人类生产力的工具，而非取代人类。为此，教育系统需要不断适应和调整，提供技能培训，帮助人们掌握如何与AI共同工作，实现潜力的最优利用。\\n\\n其次，数据安全问题已成为AI发展的一大障碍。随着AI技术收集和处理的大量数据，用户越来越担心个人隐私的泄露风险。为缓解这一问题，不仅需要加强法律法规的制定和执行，确保数据的保护，更重要的是提高公众对数字安全的认识，推广使用可信的、安全的技术。同时，技术上的创新，如加密技术、数据脱敏等，也应被广泛应用于数据处理中，以确保个人隐私的安全。\\n\\n尽管AI技术非常强大，但目前仍存在不少局限性，无法完全取代人类智慧和创作能力。在某些领域，如艺术创作、复杂决策等，人类的创造力和情感理解能力仍然是无可替代的。因此，我们需要深入探索AI与人类智慧的互补融合，为人类创造更多的可能性。\\n\\n总而言之，人工智能的发展为社会带来了便利，但同时也带来了挑战。面对这些问题，我们需要通过技术创新、政策调整、教育改革等多方面的努力，找到平衡AI利与弊的方法。通过共同探讨和实践，我们有望构建一个既受益于AI技术的智能社会，又能够保护人类利益和尊严的和谐未来。让我们一起思考、探索和实践，共同迎接AI时代的挑战与机遇。', 'score': 7.666666666666667}\n",
      "得分列表： [9, 9, 8]\n",
      "--------------router_query---------------------\n",
      "{'score': 8.666666666666666, 'origin_news': '\\n近几年，人工智能（AI）技术发展的速度很快，很驶、智能家居和医疗健康等方面，人工智能术也带来了一些问题。\\n\\n一些专家指出，AI的应用可能会导致很多人失业，尤其是类完成大量的工作。同时，数据安全问题也是一个大问题，很多用户担心他们的个人信息会被泄露。此外，虽然AI技术很强大，但目前仍然有不少局限性，无法完全取代人类的智慧和创作能力。\\n\\n总的来说，人工智能的发张给社会带来了许多便利，但也面临着不少挑站。在未来，如何平衡AI带来的利与弊，成为了大家需要深思的一个问题。\\n', 'inadequacy': '1. 文章的完整性不足，缺少具体的解决方案或未来展望，让读者难以预见后续发展。\\n2. 文章的辞藻较为平淡，缺乏生动性和感染力，难以吸引和保持读者的兴趣。\\n3. 文章的吸引力不足，没有提出引人思考的问题或观点，可能导致读者阅读后印象不深刻。', 'corrected_news': '近年来，人工智能（AI）技术以惊人速度发展，不断渗透到购物、智能家居以及医疗健康等多个领域。然而，这些技术的飞速进步也带来了广泛的挑战和问题，引发社会的广泛关注。\\n\\n首先，AI的广泛应用有其潜在的风险。专家指出，随着自动化程度的提高，大量岗位可能被取代，特别是那些可以被机器高效执行的工作。这不仅可能导致大量人员失业，还可能引发社会经济结构的变革。然而，解决这个问题的关键在于，我们可以将AI作为增强人类生产力的工具，而非取代人类。为此，教育系统需要不断适应和调整，提供技能培训，帮助人们掌握如何与AI共同工作，实现潜力的最优利用。\\n\\n其次，数据安全问题已成为AI发展的一大障碍。随着AI技术收集和处理的大量数据，用户越来越担心个人隐私的泄露风险。为缓解这一问题，不仅需要加强法律法规的制定和执行，确保数据的保护，更重要的是提高公众对数字安全的认识，推广使用可信的、安全的技术。同时，技术上的创新，如加密技术、数据脱敏等，也应被广泛应用于数据处理中，以确保个人隐私的安全。\\n\\n尽管AI技术非常强大，但目前仍存在不少局限性，无法完全取代人类智慧和创作能力。在某些领域，如艺术创作、复杂决策等，人类的创造力和情感理解能力仍然是无可替代的。因此，我们需要深入探索AI与人类智慧的互补融合，为人类创造更多的可能性。\\n\\n总而言之，人工智能的发展为社会带来了便利，但同时也带来了挑战。面对这些问题，我们需要通过技术创新、政策调整、教育改革等多方面的努力，找到平衡AI利与弊的方法。通过共同探讨和实践，我们有望构建一个既受益于AI技术的智能社会，又能够保护人类利益和尊严的和谐未来。让我们一起思考、探索和实践，共同迎接AI时代的挑战与机遇。'}\n",
      "{'origin_news': '\\n近几年，人工智能（AI）技术发展的速度很快，很驶、智能家居和医疗健康等方面，人工智能术也带来了一些问题。\\n\\n一些专家指出，AI的应用可能会导致很多人失业，尤其是类完成大量的工作。同时，数据安全问题也是一个大问题，很多用户担心他们的个人信息会被泄露。此外，虽然AI技术很强大，但目前仍然有不少局限性，无法完全取代人类的智慧和创作能力。\\n\\n总的来说，人工智能的发张给社会带来了许多便利，但也面临着不少挑站。在未来，如何平衡AI带来的利与弊，成为了大家需要深思的一个问题。\\n', 'inadequacy': '1. 文章的完整性不足，缺少具体的解决方案或未来展望，让读者难以预见后续发展。\\n2. 文章的辞藻较为平淡，缺乏生动性和感染力，难以吸引和保持读者的兴趣。\\n3. 文章的吸引力不足，没有提出引人思考的问题或观点，可能导致读者阅读后印象不深刻。', 'corrected_news': '近年来，人工智能（AI）技术以惊人速度发展，不断渗透到购物、智能家居以及医疗健康等多个领域。然而，这些技术的飞速进步也带来了广泛的挑战和问题，引发社会的广泛关注。\\n\\n首先，AI的广泛应用有其潜在的风险。专家指出，随着自动化程度的提高，大量岗位可能被取代，特别是那些可以被机器高效执行的工作。这不仅可能导致大量人员失业，还可能引发社会经济结构的变革。然而，解决这个问题的关键在于，我们可以将AI作为增强人类生产力的工具，而非取代人类。为此，教育系统需要不断适应和调整，提供技能培训，帮助人们掌握如何与AI共同工作，实现潜力的最优利用。\\n\\n其次，数据安全问题已成为AI发展的一大障碍。随着AI技术收集和处理的大量数据，用户越来越担心个人隐私的泄露风险。为缓解这一问题，不仅需要加强法律法规的制定和执行，确保数据的保护，更重要的是提高公众对数字安全的认识，推广使用可信的、安全的技术。同时，技术上的创新，如加密技术、数据脱敏等，也应被广泛应用于数据处理中，以确保个人隐私的安全。\\n\\n尽管AI技术非常强大，但目前仍存在不少局限性，无法完全取代人类智慧和创作能力。在某些领域，如艺术创作、复杂决策等，人类的创造力和情感理解能力仍然是无可替代的。因此，我们需要深入探索AI与人类智慧的互补融合，为人类创造更多的可能性。\\n\\n总而言之，人工智能的发展为社会带来了便利，但同时也带来了挑战。面对这些问题，我们需要通过技术创新、政策调整、教育改革等多方面的努力，找到平衡AI利与弊的方法。通过共同探讨和实践，我们有望构建一个既受益于AI技术的智能社会，又能够保护人类利益和尊严的和谐未来。让我们一起思考、探索和实践，共同迎接AI时代的挑战与机遇。', 'score': 8.666666666666666}\n"
     ]
    }
   ],
   "source": [
    "\n",
    "\"\"\"\n",
    "测试一个实例\n",
    "\"\"\"\n",
    "\n",
    "news = \"近年来，人工智能（AI）技术的迅猛发展正引发全球范围内的关注。从自动驾驶汽车到智能语音助手，AI已经逐渐融入我们的日常生活。科技公司纷纷投入巨资，推动这一领域的创新与应用。\\n虽然AI技术广泛应用于多个行业，如医疗、金融和制造业，但它仍面临不少挑战。例如，数据隐私、伦理问题以及自动化带来的就业替代风险都成为讨论的热点。同时，AI的未来发展潜力巨大，许多专家认为，随着技术的成熟，AI将进一步改善生产效率、提升生活质量。\\n随着社会对智能技术的需求不断增长，AI的未来前景令人期待。然而，如何在发展中应对挑战，将成为下一步的重要议题。\"\n",
    "news = \"\"\"\n",
    "近几年，人工智能（AI）技术发展的速度很快，很驶、智能家居和医疗健康等方面，人工智能术也带来了一些问题。\n",
    "\n",
    "一些专家指出，AI的应用可能会导致很多人失业，尤其是类完成大量的工作。同时，数据安全问题也是一个大问题，很多用户担心他们的个人信息会被泄露。此外，虽然AI技术很强大，但目前仍然有不少局限性，无法完全取代人类的智慧和创作能力。\n",
    "\n",
    "总的来说，人工智能的发张给社会带来了许多便利，但也面临着不少挑站。在未来，如何平衡AI带来的利与弊，成为了大家需要深思的一个问题。\n",
    "\"\"\"\n",
    "inputs = {\"origin_news\": news}\n",
    "\n",
    "new_news = app.invoke(inputs)\n",
    "\n",
    "print(new_news)"
   ]
  },
  {
   "cell_type": "code",
   "execution_count": 7,
   "id": "f8b1d33e-6178-4a06-8e2e-57023838e23f",
   "metadata": {
    "execution": {
     "iopub.execute_input": "2024-10-25T05:27:25.532412Z",
     "iopub.status.busy": "2024-10-25T05:27:25.531799Z",
     "iopub.status.idle": "2024-10-25T05:27:26.398411Z",
     "shell.execute_reply": "2024-10-25T05:27:26.396682Z",
     "shell.execute_reply.started": "2024-10-25T05:27:25.532337Z"
    }
   },
   "outputs": [
    {
     "name": "stdout",
     "output_type": "stream",
     "text": [
      "content='文章的完整性方面：文章内容较为单一，仅讲述了AI带来的问题，而未提及AI带来的积极影响，如提高效率、促进创新等。\\n\\n文章的辞藻是否华丽：文章语言较为简单，缺乏修辞手法和生动的描述，显得较为平淡。\\n\\n文章是否能够吸引读者：文章主要聚焦于AI的负面影响，缺乏正面积极的视角，可能引起读者的悲观情绪，缺乏激发兴趣的元素。' additional_kwargs={'refusal': None} response_metadata={'token_usage': {'completion_tokens': 91, 'prompt_tokens': 216, 'total_tokens': 307, 'completion_tokens_details': None, 'prompt_tokens_details': None}, 'model_name': 'Qwen2.5-7B-Instruct-AWQ', 'system_fingerprint': None, 'finish_reason': 'stop', 'logprobs': None} id='run-f68fbd7a-7dda-45f3-9d2f-953ec9fa6b26-0' usage_metadata={'input_tokens': 216, 'output_tokens': 91, 'total_tokens': 307, 'input_token_details': {}, 'output_token_details': {}}\n"
     ]
    }
   ],
   "source": [
    "\n",
    "\n",
    "# 调试后发现是生成文章不足之处的Agent效果较差\n",
    "\n",
    "tmp_template = \"\"\" 根据下面的文章，指出其不足之处，不足之处从下面的角度指出,每个方面的不足描述要求简短、通俗易懂，20字左右：\n",
    "    1. 文章的完整性。\n",
    "    2. 文章的辞藻是否华丽\n",
    "    3. 文章是否能够吸引读者。\n",
    "\n",
    "    文章内容：\n",
    "    {news}\n",
    "    \n",
    "    \"\"\"\n",
    "\n",
    "\n",
    "tmp_prompt = PromptTemplate.from_template(tmp_template)\n",
    "# tmp_chain = tmp_prompt | critic_llm_with_structured_output\n",
    "\n",
    "tmp_chain = tmp_prompt | llm\n",
    "\n",
    "print(tmp_chain.invoke({\"news\":news}))\n",
    "\n"
   ]
  },
  {
   "cell_type": "code",
   "execution_count": null,
   "id": "b4597d51-6e8f-4c9a-a1cc-fb12ec7a3a35",
   "metadata": {},
   "outputs": [],
   "source": []
  }
 ],
 "metadata": {
  "kernelspec": {
   "display_name": "deepspeed",
   "language": "python",
   "name": "deepspeed"
  },
  "language_info": {
   "codemirror_mode": {
    "name": "ipython",
    "version": 3
   },
   "file_extension": ".py",
   "mimetype": "text/x-python",
   "name": "python",
   "nbconvert_exporter": "python",
   "pygments_lexer": "ipython3",
   "version": "3.10.9"
  }
 },
 "nbformat": 4,
 "nbformat_minor": 5
}
