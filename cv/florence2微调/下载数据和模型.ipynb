{
 "cells": [
  {
   "cell_type": "code",
   "execution_count": 1,
   "id": "99706e59-f96e-4e2d-a4b4-373b2bff6f9a",
   "metadata": {
    "execution": {
     "iopub.execute_input": "2024-11-19T08:08:49.432662Z",
     "iopub.status.busy": "2024-11-19T08:08:49.431555Z",
     "iopub.status.idle": "2024-11-19T08:08:49.459961Z",
     "shell.execute_reply": "2024-11-19T08:08:49.458075Z",
     "shell.execute_reply.started": "2024-11-19T08:08:49.432569Z"
    }
   },
   "outputs": [],
   "source": [
    "\n",
    "from modelscope import snapshot_download\n",
    "\n"
   ]
  },
  {
   "cell_type": "code",
   "execution_count": 3,
   "id": "006b3724-ab01-4646-86ac-7fc55a47d2fb",
   "metadata": {
    "execution": {
     "iopub.execute_input": "2024-11-19T08:09:28.934869Z",
     "iopub.status.busy": "2024-11-19T08:09:28.934427Z",
     "iopub.status.idle": "2024-11-19T08:09:59.049922Z",
     "shell.execute_reply": "2024-11-19T08:09:59.047272Z",
     "shell.execute_reply.started": "2024-11-19T08:09:28.934844Z"
    },
    "scrolled": true
   },
   "outputs": [
    {
     "name": "stdout",
     "output_type": "stream",
     "text": [
      "Downloading Model to directory: /root/autodl-tmp/modelscope_cache/hub/AI-ModelScope/Florence-2-base-ft\n"
     ]
    },
    {
     "name": "stderr",
     "output_type": "stream",
     "text": [
      "Downloading [CODE_OF_CONDUCT.md]: 100%|██████████| 444/444 [00:00<00:00, 679B/s]\n",
      "Downloading [config.json]: 100%|██████████| 2.37k/2.37k [00:00<00:00, 5.57kB/s]\n",
      "Downloading [configuration.json]: 100%|██████████| 71.0/71.0 [00:00<00:00, 183B/s]\n",
      "Downloading [configuration_florence2.py]: 100%|██████████| 14.8k/14.8k [00:00<00:00, 30.8kB/s]\n",
      "Downloading [LICENSE]: 100%|██████████| 1.11k/1.11k [00:00<00:00, 2.43kB/s]\n",
      "Downloading [modeling_florence2.py]: 100%|██████████| 124k/124k [00:00<00:00, 234kB/s]\n",
      "Downloading [preprocessor_config.json]: 100%|██████████| 806/806 [00:00<00:00, 1.79kB/s]\n",
      "Downloading [processing_florence2.py]: 100%|██████████| 45.3k/45.3k [00:00<00:00, 89.7kB/s]\n",
      "Downloading [pytorch_model.bin]: 100%|██████████| 443M/443M [00:21<00:00, 21.9MB/s] \n",
      "Downloading [README.md]: 100%|██████████| 14.5k/14.5k [00:00<00:00, 35.4kB/s]\n",
      "Downloading [SECURITY.md]: 100%|██████████| 2.59k/2.59k [00:00<00:00, 5.78kB/s]\n",
      "Downloading [SUPPORT.md]: 100%|██████████| 1.21k/1.21k [00:00<00:00, 2.18kB/s]\n",
      "Downloading [tokenizer.json]: 100%|██████████| 1.29M/1.29M [00:00<00:00, 1.85MB/s]\n",
      "Downloading [tokenizer_config.json]: 100%|██████████| 34.0/34.0 [00:00<00:00, 61.4B/s]\n",
      "Downloading [vocab.json]: 100%|██████████| 1.05M/1.05M [00:00<00:00, 1.60MB/s]\n"
     ]
    }
   ],
   "source": [
    "\n",
    "\n",
    "florence_model_dir = snapshot_download(\"AI-ModelScope/Florence-2-base-ft\")"
   ]
  },
  {
   "cell_type": "code",
   "execution_count": null,
   "id": "a1a4331b-4830-408a-aade-fc8417f0855e",
   "metadata": {},
   "outputs": [],
   "source": [
    "\n",
    "\n",
    "\n",
    "\n",
    "\n",
    "\n",
    "\n",
    "\n"
   ]
  }
 ],
 "metadata": {
  "kernelspec": {
   "display_name": "torch2",
   "language": "python",
   "name": "torch2"
  },
  "language_info": {
   "codemirror_mode": {
    "name": "ipython",
    "version": 3
   },
   "file_extension": ".py",
   "mimetype": "text/x-python",
   "name": "python",
   "nbconvert_exporter": "python",
   "pygments_lexer": "ipython3",
   "version": "3.10.15"
  }
 },
 "nbformat": 4,
 "nbformat_minor": 5
}
